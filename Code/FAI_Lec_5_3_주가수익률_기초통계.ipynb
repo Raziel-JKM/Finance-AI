{
  "nbformat": 4,
  "nbformat_minor": 0,
  "metadata": {
    "accelerator": "TPU",
    "colab": {
      "name": "FAI Lec 5-3 주가수익률 기초통계.ipynb",
      "provenance": [],
      "machine_shape": "hm",
      "include_colab_link": true
    },
    "kernelspec": {
      "display_name": "Python 3",
      "language": "python",
      "name": "python3"
    },
    "language_info": {
      "codemirror_mode": {
        "name": "ipython",
        "version": 3
      },
      "file_extension": ".py",
      "mimetype": "text/x-python",
      "name": "python",
      "nbconvert_exporter": "python",
      "pygments_lexer": "ipython3",
      "version": "3.8.8"
    }
  },
  "cells": [
    {
      "cell_type": "markdown",
      "metadata": {
        "id": "view-in-github",
        "colab_type": "text"
      },
      "source": [
        "<a href=\"https://colab.research.google.com/github/Raziel-JKM/Finance_AI/blob/main/Code/FAI_Lec_5_3_%E1%84%8C%E1%85%AE%E1%84%80%E1%85%A1%E1%84%89%E1%85%AE%E1%84%8B%E1%85%B5%E1%86%A8%E1%84%85%E1%85%B2%E1%86%AF_%E1%84%80%E1%85%B5%E1%84%8E%E1%85%A9%E1%84%90%E1%85%A9%E1%86%BC%E1%84%80%E1%85%A8.ipynb\" target=\"_parent\"><img src=\"https://colab.research.google.com/assets/colab-badge.svg\" alt=\"Open In Colab\"/></a>"
      ]
    },
    {
      "cell_type": "markdown",
      "metadata": {
        "id": "TAwwhIsXiggR"
      },
      "source": [
        "# FAI Lec 5-3 주가수익률 기초통계\n",
        "\n",
        "금융AI\n",
        "\n",
        "중앙대학교 금융공학\n",
        "\n",
        "유시용 (sy61@cau.ac.kr)\n",
        "\n",
        "본 코드는 중앙대학교 금융공학융합전공의 \"금융AI\"과목과 KMOOC(http://www.kmooc.kr/)의 \"금융AI\"과목에 사용된 코드입니다. 출처를 밝히셔도 되고, 자유롭게 사용하시면 됩니다. "
      ]
    },
    {
      "cell_type": "markdown",
      "metadata": {
        "id": "A1H8k4y_iggU"
      },
      "source": [
        "### FinanceDataReader 설치 \n",
        "* FinanceData.KR Open Source Financial data reader \n",
        "* https://financedata.github.io/FinanceDataReader/\n",
        "* Install : \\$ pip install finance-datareader (혹은 conda install finance-datareader) \n",
        "* FinanceDataReader 설치 (for 구글 Colab) : !pip install -q finance-datareader    \n",
        "* 업그레이: \\$ pip install --upgrade finance-datareader"
      ]
    },
    {
      "cell_type": "markdown",
      "metadata": {
        "id": "ovKOi01yiggV"
      },
      "source": [
        "## 오픈 API(Open Application Programming Interface, Open API, 공개 API)\n",
        "* 하나의 웹 사이트에서 자신이 가진 기능을 이용할 수 있도록 공개한 프로그래밍 인터페이스\n",
        "* 누구나 사용할 수 있도록 공개된 API를 말하며, 개발자에게 사유 응용 소프트웨어나 웹 서비스에 프로그래밍적인 권한을 제공\n",
        "* 예: 공공데이터포털 (https://www.data.go.kr/), 네이버지도\n",
        "* 데이터사용 증가에 따른 비용발생에 따라, 회원가입을 통한 공개키 발급, 유료화가 진행되기도 함\n",
        "\n",
        "* Yahoo Finance \n",
        "* Alpha Vantage \n",
        "* FinanceDataReader  "
      ]
    },
    {
      "cell_type": "markdown",
      "metadata": {
        "id": "iRi0Ffd6iggW"
      },
      "source": [
        "## 변동성 지수 (Volatility Index) \n",
        "\n",
        "* VIX (Volatility Index)는 S&P500지수의 향후 30일 동안의 변동성에 대한 시장의 기대를 나타내는 지수 (미국 듀크 대학의 로버트 E. 웨일리 교수)\n",
        "* 1개월 잔존 만기 콜옵션과 풋옵션 가격으로 계산 (초기에는 내재변동성으로 계산했었음)\n",
        "* 1993년부터 시카고 옵션거래소(CBOE)에서 실시간으로 제공하고 있으며, 기초자산인 지수와 음(-)의 관계에 있음 \n",
        "* 공포지수 (fear gauge)라고도 불림\n",
        "* 한국 KOSPI200 ==> VKOSPI (2009년 4월부터 제공)\n",
        "* 프랑스 VCAC, 독일 VDAX, VSTOXX"
      ]
    },
    {
      "cell_type": "code",
      "metadata": {
        "colab": {
          "base_uri": "https://localhost:8080/"
        },
        "id": "IYJHCBXpiggW",
        "outputId": "6d61ed2b-3578-41af-e14c-3120ac47100f"
      },
      "source": [
        "!pip install -U finance-datareader\n",
        "!pip install pandas-datareader"
      ],
      "execution_count": null,
      "outputs": [
        {
          "name": "stdout",
          "output_type": "stream",
          "text": [
            "Collecting finance-datareader\n",
            "  Downloading finance_datareader-0.9.31-py3-none-any.whl (17 kB)\n",
            "Requirement already satisfied: requests>=2.3.0 in /usr/local/lib/python3.7/dist-packages (from finance-datareader) (2.23.0)\n",
            "Requirement already satisfied: pandas>=0.19.2 in /usr/local/lib/python3.7/dist-packages (from finance-datareader) (1.1.5)\n",
            "Collecting requests-file\n",
            "  Downloading requests_file-1.5.1-py2.py3-none-any.whl (3.7 kB)\n",
            "Requirement already satisfied: lxml in /usr/local/lib/python3.7/dist-packages (from finance-datareader) (4.2.6)\n",
            "Requirement already satisfied: tqdm in /usr/local/lib/python3.7/dist-packages (from finance-datareader) (4.62.0)\n",
            "Requirement already satisfied: pytz>=2017.2 in /usr/local/lib/python3.7/dist-packages (from pandas>=0.19.2->finance-datareader) (2018.9)\n",
            "Requirement already satisfied: numpy>=1.15.4 in /usr/local/lib/python3.7/dist-packages (from pandas>=0.19.2->finance-datareader) (1.19.5)\n",
            "Requirement already satisfied: python-dateutil>=2.7.3 in /usr/local/lib/python3.7/dist-packages (from pandas>=0.19.2->finance-datareader) (2.8.2)\n",
            "Requirement already satisfied: six>=1.5 in /usr/local/lib/python3.7/dist-packages (from python-dateutil>=2.7.3->pandas>=0.19.2->finance-datareader) (1.15.0)\n",
            "Requirement already satisfied: idna<3,>=2.5 in /usr/local/lib/python3.7/dist-packages (from requests>=2.3.0->finance-datareader) (2.10)\n",
            "Requirement already satisfied: certifi>=2017.4.17 in /usr/local/lib/python3.7/dist-packages (from requests>=2.3.0->finance-datareader) (2021.5.30)\n",
            "Requirement already satisfied: chardet<4,>=3.0.2 in /usr/local/lib/python3.7/dist-packages (from requests>=2.3.0->finance-datareader) (3.0.4)\n",
            "Requirement already satisfied: urllib3!=1.25.0,!=1.25.1,<1.26,>=1.21.1 in /usr/local/lib/python3.7/dist-packages (from requests>=2.3.0->finance-datareader) (1.24.3)\n",
            "Installing collected packages: requests-file, finance-datareader\n",
            "Successfully installed finance-datareader-0.9.31 requests-file-1.5.1\n",
            "Requirement already satisfied: pandas-datareader in /usr/local/lib/python3.7/dist-packages (0.9.0)\n",
            "Requirement already satisfied: requests>=2.19.0 in /usr/local/lib/python3.7/dist-packages (from pandas-datareader) (2.23.0)\n",
            "Requirement already satisfied: lxml in /usr/local/lib/python3.7/dist-packages (from pandas-datareader) (4.2.6)\n",
            "Requirement already satisfied: pandas>=0.23 in /usr/local/lib/python3.7/dist-packages (from pandas-datareader) (1.1.5)\n",
            "Requirement already satisfied: pytz>=2017.2 in /usr/local/lib/python3.7/dist-packages (from pandas>=0.23->pandas-datareader) (2018.9)\n",
            "Requirement already satisfied: numpy>=1.15.4 in /usr/local/lib/python3.7/dist-packages (from pandas>=0.23->pandas-datareader) (1.19.5)\n",
            "Requirement already satisfied: python-dateutil>=2.7.3 in /usr/local/lib/python3.7/dist-packages (from pandas>=0.23->pandas-datareader) (2.8.2)\n",
            "Requirement already satisfied: six>=1.5 in /usr/local/lib/python3.7/dist-packages (from python-dateutil>=2.7.3->pandas>=0.23->pandas-datareader) (1.15.0)\n",
            "Requirement already satisfied: idna<3,>=2.5 in /usr/local/lib/python3.7/dist-packages (from requests>=2.19.0->pandas-datareader) (2.10)\n",
            "Requirement already satisfied: chardet<4,>=3.0.2 in /usr/local/lib/python3.7/dist-packages (from requests>=2.19.0->pandas-datareader) (3.0.4)\n",
            "Requirement already satisfied: urllib3!=1.25.0,!=1.25.1,<1.26,>=1.21.1 in /usr/local/lib/python3.7/dist-packages (from requests>=2.19.0->pandas-datareader) (1.24.3)\n",
            "Requirement already satisfied: certifi>=2017.4.17 in /usr/local/lib/python3.7/dist-packages (from requests>=2.19.0->pandas-datareader) (2021.5.30)\n"
          ]
        }
      ]
    },
    {
      "cell_type": "code",
      "metadata": {
        "colab": {
          "base_uri": "https://localhost:8080/",
          "height": 450
        },
        "id": "ZbMVIA7qvhAO",
        "outputId": "c7c32e6a-da38-4f77-a3a5-8e1ff538ade9"
      },
      "source": [
        "import FinanceDataReader as fdr\n",
        "\n",
        "# 삼성전자(005930) 전체 (1996-11-05 ~ 현재)\n",
        "df = fdr.DataReader('005930')\n",
        "df"
      ],
      "execution_count": null,
      "outputs": [
        {
          "data": {
            "text/html": [
              "<div>\n",
              "<style scoped>\n",
              "    .dataframe tbody tr th:only-of-type {\n",
              "        vertical-align: middle;\n",
              "    }\n",
              "\n",
              "    .dataframe tbody tr th {\n",
              "        vertical-align: top;\n",
              "    }\n",
              "\n",
              "    .dataframe thead th {\n",
              "        text-align: right;\n",
              "    }\n",
              "</style>\n",
              "<table border=\"1\" class=\"dataframe\">\n",
              "  <thead>\n",
              "    <tr style=\"text-align: right;\">\n",
              "      <th></th>\n",
              "      <th>Open</th>\n",
              "      <th>High</th>\n",
              "      <th>Low</th>\n",
              "      <th>Close</th>\n",
              "      <th>Volume</th>\n",
              "      <th>Change</th>\n",
              "    </tr>\n",
              "    <tr>\n",
              "      <th>Date</th>\n",
              "      <th></th>\n",
              "      <th></th>\n",
              "      <th></th>\n",
              "      <th></th>\n",
              "      <th></th>\n",
              "      <th></th>\n",
              "    </tr>\n",
              "  </thead>\n",
              "  <tbody>\n",
              "    <tr>\n",
              "      <th>1997-08-21</th>\n",
              "      <td>1293</td>\n",
              "      <td>1313</td>\n",
              "      <td>1286</td>\n",
              "      <td>1287</td>\n",
              "      <td>100340</td>\n",
              "      <td>NaN</td>\n",
              "    </tr>\n",
              "    <tr>\n",
              "      <th>1997-08-22</th>\n",
              "      <td>1286</td>\n",
              "      <td>1301</td>\n",
              "      <td>1272</td>\n",
              "      <td>1296</td>\n",
              "      <td>100373</td>\n",
              "      <td>0.006993</td>\n",
              "    </tr>\n",
              "    <tr>\n",
              "      <th>1997-08-23</th>\n",
              "      <td>1313</td>\n",
              "      <td>1313</td>\n",
              "      <td>1297</td>\n",
              "      <td>1306</td>\n",
              "      <td>72280</td>\n",
              "      <td>0.007716</td>\n",
              "    </tr>\n",
              "    <tr>\n",
              "      <th>1997-08-25</th>\n",
              "      <td>1309</td>\n",
              "      <td>1313</td>\n",
              "      <td>1286</td>\n",
              "      <td>1301</td>\n",
              "      <td>72320</td>\n",
              "      <td>-0.003828</td>\n",
              "    </tr>\n",
              "    <tr>\n",
              "      <th>1997-08-26</th>\n",
              "      <td>1290</td>\n",
              "      <td>1299</td>\n",
              "      <td>1284</td>\n",
              "      <td>1296</td>\n",
              "      <td>71720</td>\n",
              "      <td>-0.003843</td>\n",
              "    </tr>\n",
              "    <tr>\n",
              "      <th>...</th>\n",
              "      <td>...</td>\n",
              "      <td>...</td>\n",
              "      <td>...</td>\n",
              "      <td>...</td>\n",
              "      <td>...</td>\n",
              "      <td>...</td>\n",
              "    </tr>\n",
              "    <tr>\n",
              "      <th>2021-08-31</th>\n",
              "      <td>74900</td>\n",
              "      <td>76700</td>\n",
              "      <td>74300</td>\n",
              "      <td>76700</td>\n",
              "      <td>24630370</td>\n",
              "      <td>0.028150</td>\n",
              "    </tr>\n",
              "    <tr>\n",
              "      <th>2021-09-01</th>\n",
              "      <td>76700</td>\n",
              "      <td>77100</td>\n",
              "      <td>75900</td>\n",
              "      <td>76800</td>\n",
              "      <td>16114775</td>\n",
              "      <td>0.001304</td>\n",
              "    </tr>\n",
              "    <tr>\n",
              "      <th>2021-09-02</th>\n",
              "      <td>76800</td>\n",
              "      <td>76800</td>\n",
              "      <td>75700</td>\n",
              "      <td>76000</td>\n",
              "      <td>15347486</td>\n",
              "      <td>-0.010417</td>\n",
              "    </tr>\n",
              "    <tr>\n",
              "      <th>2021-09-03</th>\n",
              "      <td>76400</td>\n",
              "      <td>76700</td>\n",
              "      <td>76000</td>\n",
              "      <td>76600</td>\n",
              "      <td>12096419</td>\n",
              "      <td>0.007895</td>\n",
              "    </tr>\n",
              "    <tr>\n",
              "      <th>2021-09-06</th>\n",
              "      <td>76800</td>\n",
              "      <td>77600</td>\n",
              "      <td>76600</td>\n",
              "      <td>77300</td>\n",
              "      <td>12814359</td>\n",
              "      <td>0.009138</td>\n",
              "    </tr>\n",
              "  </tbody>\n",
              "</table>\n",
              "<p>6000 rows × 6 columns</p>\n",
              "</div>"
            ],
            "text/plain": [
              "             Open   High    Low  Close    Volume    Change\n",
              "Date                                                      \n",
              "1997-08-21   1293   1313   1286   1287    100340       NaN\n",
              "1997-08-22   1286   1301   1272   1296    100373  0.006993\n",
              "1997-08-23   1313   1313   1297   1306     72280  0.007716\n",
              "1997-08-25   1309   1313   1286   1301     72320 -0.003828\n",
              "1997-08-26   1290   1299   1284   1296     71720 -0.003843\n",
              "...           ...    ...    ...    ...       ...       ...\n",
              "2021-08-31  74900  76700  74300  76700  24630370  0.028150\n",
              "2021-09-01  76700  77100  75900  76800  16114775  0.001304\n",
              "2021-09-02  76800  76800  75700  76000  15347486 -0.010417\n",
              "2021-09-03  76400  76700  76000  76600  12096419  0.007895\n",
              "2021-09-06  76800  77600  76600  77300  12814359  0.009138\n",
              "\n",
              "[6000 rows x 6 columns]"
            ]
          },
          "execution_count": 2,
          "metadata": {},
          "output_type": "execute_result"
        }
      ]
    },
    {
      "cell_type": "code",
      "metadata": {
        "colab": {
          "background_save": true,
          "base_uri": "https://localhost:8080/"
        },
        "id": "KWZ6jEAbvXR7",
        "outputId": "f885b4cd-ca86-46bc-a218-21a92081583c"
      },
      "source": [
        "\n",
        "\n",
        "# 삼성전자(005930) 전체 (1996-11-05 ~ 현재)\n",
        "df = fdr.DataReader('005930')\n",
        "\n",
        "# Apple(AAPL), 2017-01-01 ~ Now\n",
        "df = fdr.DataReader('AAPL', '2017')\n",
        "\n",
        "# Ford(F), 1980-01-01 ~ 2019-12-30 (40년 데이터)\n",
        "df = fdr.DataReader('F', '1980-01-01', '2019-12-30')\n",
        "\n",
        "# AMAZON(AMZN), 2017 (1년)\n",
        "df = fdr.DataReader('AMZN', '2017-01-01', '2019-12-31')\n",
        "\n",
        "# Samsung(005930), 2000-01-01 ~ 2019-12-31\n",
        "df = fdr.DataReader('068270', '2000-01-01', '2019-12-31')\n",
        "\n",
        "# country code: ex) 000150: Doosan(KR), Yihua Healthcare(CN)\n",
        "df = fdr.DataReader('000150', '2018-01-01', '2019-10-30') # KRX\n",
        "df = fdr.DataReader('000150', '2018-01-01', '2019-10-30', exchange='KRX') # KRX (위와 동일)\n",
        "df = fdr.DataReader('000150', '2018-01-01', '2019-10-30', exchange='SZSE') # SZSE\n",
        "df = fdr.DataReader('000150', '2018-01-01', '2019-10-30', exchange='심천') # SZSE\n",
        "\n",
        "# TSE (도쿄증권거래소)\n",
        "fdr.DataReader('7203', '2020-01-01', exchange='TSE') # 토요타 자동차(7203)\n",
        "fdr.DataReader('7203', '2020-01-01', exchange='TSE') # 소프트뱅크그룹(7203)\n",
        "\n",
        "# HOSE (호치민증권거래소)\n",
        "fdr.DataReader('VCB', '2020-01-01', exchange='HOSE') # 베트남 무역은행(VCB)\n",
        "fdr.DataReader('VIC', '2020-01-01', exchange='HOSE') # Vingroup (JSC)\n",
        "\n",
        "# AMEX(아메리카증권거래소)\n",
        "fdr.DataReader('LNG', '2020-01-01', exchange='AMEX') # Cheniere Energy (LNG)\n",
        "fdr.DataReader('CBOE', '2020-01-01', exchange='AMEX') # Cboe Global Markets (CBOE)\n",
        "\n",
        "# KRX delisting stock data 상장폐지된 종목 가격 데이터 (상장일~상장폐지일)\n",
        "df = fdr.DataReader('036360', exchange='KRX-DELISTING')\n",
        "\n",
        "# KOSPI index, 2015 ~ Now\n",
        "ks11 = fdr.DataReader('KS11', '2015-01-01')\n",
        "\n",
        "# Indexes, 2015 ~ Now\n",
        "dji = fdr.DataReader('DJI', '2015-01-01') # Dow Jones Industrial(DJI)\n",
        "sp = fdr.DataReader('US500', '2015-01-01') # S&P 500 지수 (NYSE)\n",
        "\n",
        "# FX 환율, 1995 ~ 현재\n",
        "usdkrw = fdr.DataReader('USD/KRW', '1995-01-01') # 달러 원화\n",
        "usdeur = fdr.DataReader('USD/EUR', '1995-01-01') # 달러 유로화\n",
        "usdcny = fdr.DataReader('USD/CNY', '1995-01-01') # 달러 위엔화\n",
        "\n",
        "# 상품 선물 가격 데이터\n",
        "df = fdr.DataReader('NG') # NG 천연가스 선물 (NYMEX)\n",
        "df = fdr.DataReader('ZG') # 금 선물 (ICE)\n",
        "df = fdr.DataReader('ZI') # 은 선물 (ICE)\n",
        "df = fdr.DataReader('HG') # 구리 선물 (COMEX)\n",
        "\n",
        "# Bitcoin KRW price (Bithumbs), 2016 ~ Now\n",
        "btc = fdr.DataReader('BTC/KRW', '2016-01-01')\n",
        "\n",
        "# 채권 수익률\n",
        "df = fdr.DataReader('KR1YT=RR') # 1년만기 한국국채 수익률\n",
        "df = fdr.DataReader('KR10YT=RR') # 10년만기 한국국채 수익률\n",
        "\n",
        "df = fdr.DataReader('US1MT=X') # 1개월 만기 미국국채 수익률\n",
        "df = fdr.DataReader('US10YT=X') # 10년 만기 미국국채 수익률\n",
        "\n",
        "# KRX stock symbol list\n",
        "stocks = fdr.StockListing('KRX') # 코스피, 코스닥, 코넥스 전체\n",
        "stocks = fdr.StockListing('KOSPI') # 코스피\n",
        "stocks = fdr.StockListing('KOSDAQ') # 코스닥\n",
        "stocks = fdr.StockListing('KONEX') # 코넥스\n",
        "\n",
        "# NYSE, NASDAQ, AMEX stock symbol list\n",
        "stocks = fdr.StockListing('NYSE')   # 뉴욕거래소\n",
        "stocks = fdr.StockListing('NASDAQ') # 나스닥\n",
        "stocks = fdr.StockListing('AMEX')   # 아멕스\n",
        "\n",
        "# S&P 500 symbol list\n",
        "sp500 = fdr.StockListing('S&P500')\n",
        "\n",
        "# 기타 주요 거래소 상장종목 리스트\n",
        "stocks = fdr.StockListing('SSE') # 상해 거래소\n",
        "stocks = fdr.StockListing('SZSE') # 신천 거래소\n",
        "stocks = fdr.StockListing('HKEX') # 홍콩거래소\n",
        "stocks = fdr.StockListing('TSE') # 도쿄 증권거래소\n",
        "stocks = fdr.StockListing('HOSE') # 호치민 증권거래소\n",
        "\n",
        "# KRX stock delisting symbol list 상장폐지 종목 전체 리스트\n",
        "krx_delisting = fdr.StockListing('KRX-DELISTING')\n",
        "\n",
        "# KRX stock delisting symbol list and names 관리종목 리스트\n",
        "krx_adm = fdr.StockListing('KRX-ADMINISTRATIVE') # 관리종목\n",
        "\n",
        "\n",
        "# FRED 데이터\n",
        "m2 = fdr.DataReader('M2', data_source='fred') #  M2통화량\n",
        "nq = fdr.DataReader('NASDAQCOM', data_source='fred') # NASDAQCOM 나스닥종합지수\n",
        "hou_nas = fdr.DataReader(['HSN1F', 'NASDAQCOM'], data_source='fred') # HSN1F 주택판매지수, NASDAQCOM 나스닥종합지수 \n",
        "\n",
        "# 캔들차트 그리기\n",
        "df = fdr.DataReader('005930', '2021-01-01', '2021-02-15')\n",
        "\n",
        "fdr.chart.plot(df)\n",
        "fdr.chart.plot(df, title='삼성전자(005930)')\n",
        "\n",
        "# 차트 설정\n",
        "config = {'title':'fdr.chart.config()를 사용하여 설정을 한번에 지정할 수 있습니다', \n",
        "          'width': 600, \n",
        "          'height': 300,\n",
        "          'volume': True,\n",
        "}\n",
        "\n",
        "fdr.chart.config(config=config)\n",
        "fdr.chart.plot(df)"
      ],
      "execution_count": null,
      "outputs": [
        {
          "name": "stderr",
          "output_type": "stream",
          "text": [
            "100%|██████████| 3323/3323 [00:22<00:00, 144.85it/s]\n",
            "100%|██████████| 4072/4072 [00:28<00:00, 144.41it/s]\n",
            "100%|██████████| 300/300 [00:02<00:00, 142.47it/s]\n",
            "100%|██████████| 998/998 [00:06<00:00, 152.72it/s]\n",
            "100%|██████████| 1382/1382 [00:09<00:00, 146.45it/s]\n",
            "100%|██████████| 2622/2622 [00:17<00:00, 149.42it/s]\n",
            "100%|██████████| 3864/3864 [00:27<00:00, 142.67it/s]\n",
            "100%|██████████| 401/401 [00:03<00:00, 130.83it/s]\n"
          ]
        },
        {
          "data": {
            "application/javascript": [
              "\n",
              "(function(root) {\n",
              "  function now() {\n",
              "    return new Date();\n",
              "  }\n",
              "\n",
              "  var force = true;\n",
              "\n",
              "  if (typeof root._bokeh_onload_callbacks === \"undefined\" || force === true) {\n",
              "    root._bokeh_onload_callbacks = [];\n",
              "    root._bokeh_is_loading = undefined;\n",
              "  }\n",
              "\n",
              "  var JS_MIME_TYPE = 'application/javascript';\n",
              "  var HTML_MIME_TYPE = 'text/html';\n",
              "  var EXEC_MIME_TYPE = 'application/vnd.bokehjs_exec.v0+json';\n",
              "  var CLASS_NAME = 'output_bokeh rendered_html';\n",
              "\n",
              "  /**\n",
              "   * Render data to the DOM node\n",
              "   */\n",
              "  function render(props, node) {\n",
              "    var script = document.createElement(\"script\");\n",
              "    node.appendChild(script);\n",
              "  }\n",
              "\n",
              "  /**\n",
              "   * Handle when an output is cleared or removed\n",
              "   */\n",
              "  function handleClearOutput(event, handle) {\n",
              "    var cell = handle.cell;\n",
              "\n",
              "    var id = cell.output_area._bokeh_element_id;\n",
              "    var server_id = cell.output_area._bokeh_server_id;\n",
              "    // Clean up Bokeh references\n",
              "    if (id != null && id in Bokeh.index) {\n",
              "      Bokeh.index[id].model.document.clear();\n",
              "      delete Bokeh.index[id];\n",
              "    }\n",
              "\n",
              "    if (server_id !== undefined) {\n",
              "      // Clean up Bokeh references\n",
              "      var cmd = \"from bokeh.io.state import curstate; print(curstate().uuid_to_server['\" + server_id + \"'].get_sessions()[0].document.roots[0]._id)\";\n",
              "      cell.notebook.kernel.execute(cmd, {\n",
              "        iopub: {\n",
              "          output: function(msg) {\n",
              "            var id = msg.content.text.trim();\n",
              "            if (id in Bokeh.index) {\n",
              "              Bokeh.index[id].model.document.clear();\n",
              "              delete Bokeh.index[id];\n",
              "            }\n",
              "          }\n",
              "        }\n",
              "      });\n",
              "      // Destroy server and session\n",
              "      var cmd = \"import bokeh.io.notebook as ion; ion.destroy_server('\" + server_id + \"')\";\n",
              "      cell.notebook.kernel.execute(cmd);\n",
              "    }\n",
              "  }\n",
              "\n",
              "  /**\n",
              "   * Handle when a new output is added\n",
              "   */\n",
              "  function handleAddOutput(event, handle) {\n",
              "    var output_area = handle.output_area;\n",
              "    var output = handle.output;\n",
              "\n",
              "    // limit handleAddOutput to display_data with EXEC_MIME_TYPE content only\n",
              "    if ((output.output_type != \"display_data\") || (!Object.prototype.hasOwnProperty.call(output.data, EXEC_MIME_TYPE))) {\n",
              "      return\n",
              "    }\n",
              "\n",
              "    var toinsert = output_area.element.find(\".\" + CLASS_NAME.split(' ')[0]);\n",
              "\n",
              "    if (output.metadata[EXEC_MIME_TYPE][\"id\"] !== undefined) {\n",
              "      toinsert[toinsert.length - 1].firstChild.textContent = output.data[JS_MIME_TYPE];\n",
              "      // store reference to embed id on output_area\n",
              "      output_area._bokeh_element_id = output.metadata[EXEC_MIME_TYPE][\"id\"];\n",
              "    }\n",
              "    if (output.metadata[EXEC_MIME_TYPE][\"server_id\"] !== undefined) {\n",
              "      var bk_div = document.createElement(\"div\");\n",
              "      bk_div.innerHTML = output.data[HTML_MIME_TYPE];\n",
              "      var script_attrs = bk_div.children[0].attributes;\n",
              "      for (var i = 0; i < script_attrs.length; i++) {\n",
              "        toinsert[toinsert.length - 1].firstChild.setAttribute(script_attrs[i].name, script_attrs[i].value);\n",
              "        toinsert[toinsert.length - 1].firstChild.textContent = bk_div.children[0].textContent\n",
              "      }\n",
              "      // store reference to server id on output_area\n",
              "      output_area._bokeh_server_id = output.metadata[EXEC_MIME_TYPE][\"server_id\"];\n",
              "    }\n",
              "  }\n",
              "\n",
              "  function register_renderer(events, OutputArea) {\n",
              "\n",
              "    function append_mime(data, metadata, element) {\n",
              "      // create a DOM node to render to\n",
              "      var toinsert = this.create_output_subarea(\n",
              "        metadata,\n",
              "        CLASS_NAME,\n",
              "        EXEC_MIME_TYPE\n",
              "      );\n",
              "      this.keyboard_manager.register_events(toinsert);\n",
              "      // Render to node\n",
              "      var props = {data: data, metadata: metadata[EXEC_MIME_TYPE]};\n",
              "      render(props, toinsert[toinsert.length - 1]);\n",
              "      element.append(toinsert);\n",
              "      return toinsert\n",
              "    }\n",
              "\n",
              "    /* Handle when an output is cleared or removed */\n",
              "    events.on('clear_output.CodeCell', handleClearOutput);\n",
              "    events.on('delete.Cell', handleClearOutput);\n",
              "\n",
              "    /* Handle when a new output is added */\n",
              "    events.on('output_added.OutputArea', handleAddOutput);\n",
              "\n",
              "    /**\n",
              "     * Register the mime type and append_mime function with output_area\n",
              "     */\n",
              "    OutputArea.prototype.register_mime_type(EXEC_MIME_TYPE, append_mime, {\n",
              "      /* Is output safe? */\n",
              "      safe: true,\n",
              "      /* Index of renderer in `output_area.display_order` */\n",
              "      index: 0\n",
              "    });\n",
              "  }\n",
              "\n",
              "  // register the mime type if in Jupyter Notebook environment and previously unregistered\n",
              "  if (root.Jupyter !== undefined) {\n",
              "    var events = require('base/js/events');\n",
              "    var OutputArea = require('notebook/js/outputarea').OutputArea;\n",
              "\n",
              "    if (OutputArea.prototype.mime_types().indexOf(EXEC_MIME_TYPE) == -1) {\n",
              "      register_renderer(events, OutputArea);\n",
              "    }\n",
              "  }\n",
              "\n",
              "  \n",
              "  if (typeof (root._bokeh_timeout) === \"undefined\" || force === true) {\n",
              "    root._bokeh_timeout = Date.now() + 5000;\n",
              "    root._bokeh_failed_load = false;\n",
              "  }\n",
              "\n",
              "  var NB_LOAD_WARNING = {'data': {'text/html':\n",
              "     \"<div style='background-color: #fdd'>\\n\"+\n",
              "     \"<p>\\n\"+\n",
              "     \"BokehJS does not appear to have successfully loaded. If loading BokehJS from CDN, this \\n\"+\n",
              "     \"may be due to a slow or bad network connection. Possible fixes:\\n\"+\n",
              "     \"</p>\\n\"+\n",
              "     \"<ul>\\n\"+\n",
              "     \"<li>re-rerun `output_notebook()` to attempt to load from CDN again, or</li>\\n\"+\n",
              "     \"<li>use INLINE resources instead, as so:</li>\\n\"+\n",
              "     \"</ul>\\n\"+\n",
              "     \"<code>\\n\"+\n",
              "     \"from bokeh.resources import INLINE\\n\"+\n",
              "     \"output_notebook(resources=INLINE)\\n\"+\n",
              "     \"</code>\\n\"+\n",
              "     \"</div>\"}};\n",
              "\n",
              "  function display_loaded() {\n",
              "    var el = document.getElementById(null);\n",
              "    if (el != null) {\n",
              "      el.textContent = \"BokehJS is loading...\";\n",
              "    }\n",
              "    if (root.Bokeh !== undefined) {\n",
              "      if (el != null) {\n",
              "        el.textContent = \"BokehJS \" + root.Bokeh.version + \" successfully loaded.\";\n",
              "      }\n",
              "    } else if (Date.now() < root._bokeh_timeout) {\n",
              "      setTimeout(display_loaded, 100)\n",
              "    }\n",
              "  }\n",
              "\n",
              "\n",
              "  function run_callbacks() {\n",
              "    try {\n",
              "      root._bokeh_onload_callbacks.forEach(function(callback) {\n",
              "        if (callback != null)\n",
              "          callback();\n",
              "      });\n",
              "    } finally {\n",
              "      delete root._bokeh_onload_callbacks\n",
              "    }\n",
              "    console.debug(\"Bokeh: all callbacks have finished\");\n",
              "  }\n",
              "\n",
              "  function load_libs(css_urls, js_urls, callback) {\n",
              "    if (css_urls == null) css_urls = [];\n",
              "    if (js_urls == null) js_urls = [];\n",
              "\n",
              "    root._bokeh_onload_callbacks.push(callback);\n",
              "    if (root._bokeh_is_loading > 0) {\n",
              "      console.debug(\"Bokeh: BokehJS is being loaded, scheduling callback at\", now());\n",
              "      return null;\n",
              "    }\n",
              "    if (js_urls == null || js_urls.length === 0) {\n",
              "      run_callbacks();\n",
              "      return null;\n",
              "    }\n",
              "    console.debug(\"Bokeh: BokehJS not loaded, scheduling load and callback at\", now());\n",
              "    root._bokeh_is_loading = css_urls.length + js_urls.length;\n",
              "\n",
              "    function on_load() {\n",
              "      root._bokeh_is_loading--;\n",
              "      if (root._bokeh_is_loading === 0) {\n",
              "        console.debug(\"Bokeh: all BokehJS libraries/stylesheets loaded\");\n",
              "        run_callbacks()\n",
              "      }\n",
              "    }\n",
              "\n",
              "    function on_error(url) {\n",
              "      console.error(\"failed to load \" + url);\n",
              "    }\n",
              "\n",
              "    for (let i = 0; i < css_urls.length; i++) {\n",
              "      const url = css_urls[i];\n",
              "      const element = document.createElement(\"link\");\n",
              "      element.onload = on_load;\n",
              "      element.onerror = on_error.bind(null, url);\n",
              "      element.rel = \"stylesheet\";\n",
              "      element.type = \"text/css\";\n",
              "      element.href = url;\n",
              "      console.debug(\"Bokeh: injecting link tag for BokehJS stylesheet: \", url);\n",
              "      document.body.appendChild(element);\n",
              "    }\n",
              "\n",
              "    const hashes = {\"https://cdn.bokeh.org/bokeh/release/bokeh-2.3.3.min.js\": \"dM3QQsP+wXdHg42wTqW85BjZQdLNNIXqlPw/BgKoExPmTG7ZLML4EGqLMfqHT6ON\", \"https://cdn.bokeh.org/bokeh/release/bokeh-tables-2.3.3.min.js\": \"8x57I4YuIfu8XyZfFo0XVr2WAT8EK4rh/uDe3wF7YuW2FNUSNEpJbsPaB1nJ2fz2\", \"https://cdn.bokeh.org/bokeh/release/bokeh-widgets-2.3.3.min.js\": \"3QTqdz9LyAm2i0sG5XTePsHec3UHWwVsrOL68SYRoAXsafvfAyqtQ+h440+qIBhS\"};\n",
              "\n",
              "    for (let i = 0; i < js_urls.length; i++) {\n",
              "      const url = js_urls[i];\n",
              "      const element = document.createElement('script');\n",
              "      element.onload = on_load;\n",
              "      element.onerror = on_error.bind(null, url);\n",
              "      element.async = false;\n",
              "      element.src = url;\n",
              "      if (url in hashes) {\n",
              "        element.crossOrigin = \"anonymous\";\n",
              "        element.integrity = \"sha384-\" + hashes[url];\n",
              "      }\n",
              "      console.debug(\"Bokeh: injecting script tag for BokehJS library: \", url);\n",
              "      document.head.appendChild(element);\n",
              "    }\n",
              "  };\n",
              "\n",
              "  function inject_raw_css(css) {\n",
              "    const element = document.createElement(\"style\");\n",
              "    element.appendChild(document.createTextNode(css));\n",
              "    document.body.appendChild(element);\n",
              "  }\n",
              "\n",
              "  \n",
              "  var js_urls = [\"https://cdn.bokeh.org/bokeh/release/bokeh-2.3.3.min.js\", \"https://cdn.bokeh.org/bokeh/release/bokeh-widgets-2.3.3.min.js\", \"https://cdn.bokeh.org/bokeh/release/bokeh-tables-2.3.3.min.js\"];\n",
              "  var css_urls = [];\n",
              "  \n",
              "\n",
              "  var inline_js = [\n",
              "    function(Bokeh) {\n",
              "      Bokeh.set_log_level(\"info\");\n",
              "    },\n",
              "    function(Bokeh) {\n",
              "    \n",
              "    \n",
              "    }\n",
              "  ];\n",
              "\n",
              "  function run_inline_js() {\n",
              "    \n",
              "    if (root.Bokeh !== undefined || force === true) {\n",
              "      \n",
              "    for (var i = 0; i < inline_js.length; i++) {\n",
              "      inline_js[i].call(root, root.Bokeh);\n",
              "    }\n",
              "    } else if (Date.now() < root._bokeh_timeout) {\n",
              "      setTimeout(run_inline_js, 100);\n",
              "    } else if (!root._bokeh_failed_load) {\n",
              "      console.log(\"Bokeh: BokehJS failed to load within specified timeout.\");\n",
              "      root._bokeh_failed_load = true;\n",
              "    } else if (force !== true) {\n",
              "      var cell = $(document.getElementById(null)).parents('.cell').data().cell;\n",
              "      cell.output_area.append_execute_result(NB_LOAD_WARNING)\n",
              "    }\n",
              "\n",
              "  }\n",
              "\n",
              "  if (root._bokeh_is_loading === 0) {\n",
              "    console.debug(\"Bokeh: BokehJS loaded, going straight to plotting\");\n",
              "    run_inline_js();\n",
              "  } else {\n",
              "    load_libs(css_urls, js_urls, function() {\n",
              "      console.debug(\"Bokeh: BokehJS plotting callback run at\", now());\n",
              "      run_inline_js();\n",
              "    });\n",
              "  }\n",
              "}(window));"
            ],
            "application/vnd.bokehjs_load.v0+json": "\n(function(root) {\n  function now() {\n    return new Date();\n  }\n\n  var force = true;\n\n  if (typeof root._bokeh_onload_callbacks === \"undefined\" || force === true) {\n    root._bokeh_onload_callbacks = [];\n    root._bokeh_is_loading = undefined;\n  }\n\n  \n\n  \n  if (typeof (root._bokeh_timeout) === \"undefined\" || force === true) {\n    root._bokeh_timeout = Date.now() + 5000;\n    root._bokeh_failed_load = false;\n  }\n\n  var NB_LOAD_WARNING = {'data': {'text/html':\n     \"<div style='background-color: #fdd'>\\n\"+\n     \"<p>\\n\"+\n     \"BokehJS does not appear to have successfully loaded. If loading BokehJS from CDN, this \\n\"+\n     \"may be due to a slow or bad network connection. Possible fixes:\\n\"+\n     \"</p>\\n\"+\n     \"<ul>\\n\"+\n     \"<li>re-rerun `output_notebook()` to attempt to load from CDN again, or</li>\\n\"+\n     \"<li>use INLINE resources instead, as so:</li>\\n\"+\n     \"</ul>\\n\"+\n     \"<code>\\n\"+\n     \"from bokeh.resources import INLINE\\n\"+\n     \"output_notebook(resources=INLINE)\\n\"+\n     \"</code>\\n\"+\n     \"</div>\"}};\n\n  function display_loaded() {\n    var el = document.getElementById(null);\n    if (el != null) {\n      el.textContent = \"BokehJS is loading...\";\n    }\n    if (root.Bokeh !== undefined) {\n      if (el != null) {\n        el.textContent = \"BokehJS \" + root.Bokeh.version + \" successfully loaded.\";\n      }\n    } else if (Date.now() < root._bokeh_timeout) {\n      setTimeout(display_loaded, 100)\n    }\n  }\n\n\n  function run_callbacks() {\n    try {\n      root._bokeh_onload_callbacks.forEach(function(callback) {\n        if (callback != null)\n          callback();\n      });\n    } finally {\n      delete root._bokeh_onload_callbacks\n    }\n    console.debug(\"Bokeh: all callbacks have finished\");\n  }\n\n  function load_libs(css_urls, js_urls, callback) {\n    if (css_urls == null) css_urls = [];\n    if (js_urls == null) js_urls = [];\n\n    root._bokeh_onload_callbacks.push(callback);\n    if (root._bokeh_is_loading > 0) {\n      console.debug(\"Bokeh: BokehJS is being loaded, scheduling callback at\", now());\n      return null;\n    }\n    if (js_urls == null || js_urls.length === 0) {\n      run_callbacks();\n      return null;\n    }\n    console.debug(\"Bokeh: BokehJS not loaded, scheduling load and callback at\", now());\n    root._bokeh_is_loading = css_urls.length + js_urls.length;\n\n    function on_load() {\n      root._bokeh_is_loading--;\n      if (root._bokeh_is_loading === 0) {\n        console.debug(\"Bokeh: all BokehJS libraries/stylesheets loaded\");\n        run_callbacks()\n      }\n    }\n\n    function on_error(url) {\n      console.error(\"failed to load \" + url);\n    }\n\n    for (let i = 0; i < css_urls.length; i++) {\n      const url = css_urls[i];\n      const element = document.createElement(\"link\");\n      element.onload = on_load;\n      element.onerror = on_error.bind(null, url);\n      element.rel = \"stylesheet\";\n      element.type = \"text/css\";\n      element.href = url;\n      console.debug(\"Bokeh: injecting link tag for BokehJS stylesheet: \", url);\n      document.body.appendChild(element);\n    }\n\n    const hashes = {\"https://cdn.bokeh.org/bokeh/release/bokeh-2.3.3.min.js\": \"dM3QQsP+wXdHg42wTqW85BjZQdLNNIXqlPw/BgKoExPmTG7ZLML4EGqLMfqHT6ON\", \"https://cdn.bokeh.org/bokeh/release/bokeh-tables-2.3.3.min.js\": \"8x57I4YuIfu8XyZfFo0XVr2WAT8EK4rh/uDe3wF7YuW2FNUSNEpJbsPaB1nJ2fz2\", \"https://cdn.bokeh.org/bokeh/release/bokeh-widgets-2.3.3.min.js\": \"3QTqdz9LyAm2i0sG5XTePsHec3UHWwVsrOL68SYRoAXsafvfAyqtQ+h440+qIBhS\"};\n\n    for (let i = 0; i < js_urls.length; i++) {\n      const url = js_urls[i];\n      const element = document.createElement('script');\n      element.onload = on_load;\n      element.onerror = on_error.bind(null, url);\n      element.async = false;\n      element.src = url;\n      if (url in hashes) {\n        element.crossOrigin = \"anonymous\";\n        element.integrity = \"sha384-\" + hashes[url];\n      }\n      console.debug(\"Bokeh: injecting script tag for BokehJS library: \", url);\n      document.head.appendChild(element);\n    }\n  };\n\n  function inject_raw_css(css) {\n    const element = document.createElement(\"style\");\n    element.appendChild(document.createTextNode(css));\n    document.body.appendChild(element);\n  }\n\n  \n  var js_urls = [\"https://cdn.bokeh.org/bokeh/release/bokeh-2.3.3.min.js\", \"https://cdn.bokeh.org/bokeh/release/bokeh-widgets-2.3.3.min.js\", \"https://cdn.bokeh.org/bokeh/release/bokeh-tables-2.3.3.min.js\"];\n  var css_urls = [];\n  \n\n  var inline_js = [\n    function(Bokeh) {\n      Bokeh.set_log_level(\"info\");\n    },\n    function(Bokeh) {\n    \n    \n    }\n  ];\n\n  function run_inline_js() {\n    \n    if (root.Bokeh !== undefined || force === true) {\n      \n    for (var i = 0; i < inline_js.length; i++) {\n      inline_js[i].call(root, root.Bokeh);\n    }\n    } else if (Date.now() < root._bokeh_timeout) {\n      setTimeout(run_inline_js, 100);\n    } else if (!root._bokeh_failed_load) {\n      console.log(\"Bokeh: BokehJS failed to load within specified timeout.\");\n      root._bokeh_failed_load = true;\n    } else if (force !== true) {\n      var cell = $(document.getElementById(null)).parents('.cell').data().cell;\n      cell.output_area.append_execute_result(NB_LOAD_WARNING)\n    }\n\n  }\n\n  if (root._bokeh_is_loading === 0) {\n    console.debug(\"Bokeh: BokehJS loaded, going straight to plotting\");\n    run_inline_js();\n  } else {\n    load_libs(css_urls, js_urls, function() {\n      console.debug(\"Bokeh: BokehJS plotting callback run at\", now());\n      run_inline_js();\n    });\n  }\n}(window));"
          },
          "metadata": {},
          "output_type": "display_data"
        },
        {
          "data": {
            "text/html": [
              "\n",
              "\n",
              "\n",
              "\n",
              "\n",
              "\n",
              "  <div class=\"bk-root\" id=\"426a7931-5e70-4e3e-bf0a-36cdfe5ef7a5\" data-root-id=\"1153\"></div>\n"
            ]
          },
          "metadata": {},
          "output_type": "display_data"
        },
        {
          "data": {
            "application/javascript": [
              "(function(root) {\n",
              "  function embed_document(root) {\n",
              "    \n",
              "  var docs_json = {\"7176f5ac-9842-433d-bdbb-a0f7a0221287\":{\"defs\":[],\"roots\":{\"references\":[{\"attributes\":{\"children\":[{\"id\":\"1152\"},{\"id\":\"1150\"}]},\"id\":\"1153\",\"type\":\"Column\"},{\"attributes\":{},\"id\":\"1120\",\"type\":\"AllLabels\"},{\"attributes\":{},\"id\":\"1118\",\"type\":\"AllLabels\"},{\"attributes\":{\"line_color\":{\"value\":\"red\"},\"x0\":{\"field\":\"x0\"},\"x1\":{\"field\":\"x1\"},\"y0\":{\"field\":\"y0\"},\"y1\":{\"field\":\"y1\"}},\"id\":\"1036\",\"type\":\"Segment\"},{\"attributes\":{},\"id\":\"1145\",\"type\":\"Selection\"},{\"attributes\":{},\"id\":\"1011\",\"type\":\"LinearScale\"},{\"attributes\":{},\"id\":\"1128\",\"type\":\"UnionRenderers\"},{\"attributes\":{},\"id\":\"1078\",\"type\":\"LinearScale\"},{\"attributes\":{},\"id\":\"1130\",\"type\":\"UnionRenderers\"},{\"attributes\":{\"line_alpha\":0.1,\"line_color\":\"#2ca02c\",\"x\":{\"field\":\"x\"},\"y\":{\"field\":\"y\"}},\"id\":\"1069\",\"type\":\"Line\"},{\"attributes\":{\"end\":96800,\"start\":80200},\"id\":\"1007\",\"type\":\"Range1d\"},{\"attributes\":{\"bottom\":{\"field\":\"bottom\"},\"fill_alpha\":{\"value\":0.1},\"fill_color\":{\"value\":\"blue\"},\"line_alpha\":{\"value\":0.1},\"line_color\":{\"value\":\"blue\"},\"top\":{\"field\":\"top\"},\"width\":{\"value\":0.8},\"x\":{\"field\":\"x\"}},\"id\":\"1052\",\"type\":\"VBar\"},{\"attributes\":{\"data_source\":{\"id\":\"1067\"},\"glyph\":{\"id\":\"1068\"},\"hover_glyph\":null,\"muted_glyph\":null,\"nonselection_glyph\":{\"id\":\"1069\"},\"view\":{\"id\":\"1071\"}},\"id\":\"1070\",\"type\":\"GlyphRenderer\"},{\"attributes\":{\"data\":{\"x0\":[0,1,3,4,5,6,8,11,13,15,18,20,21,24,28],\"x1\":[0,1,3,4,5,6,8,11,13,15,18,20,21,24,28],\"y0\":[84400,83900,84200,90000,96800,91400,90000,88000,88600,89900,85600,83400,86400,84000,84500],\"y1\":[80200,81600,82700,83000,89500,87800,88700,83600,86500,86300,83200,81000,83700,82500,83300]},\"selected\":{\"id\":\"1123\"},\"selection_policy\":{\"id\":\"1124\"}},\"id\":\"1035\",\"type\":\"ColumnDataSource\"},{\"attributes\":{},\"id\":\"1127\",\"type\":\"Selection\"},{\"attributes\":{},\"id\":\"1146\",\"type\":\"UnionRenderers\"},{\"attributes\":{\"source\":{\"id\":\"1050\"}},\"id\":\"1054\",\"type\":\"CDSView\"},{\"attributes\":{},\"id\":\"1148\",\"type\":\"UnionRenderers\"},{\"attributes\":{\"below\":[{\"id\":\"1013\"}],\"center\":[{\"id\":\"1016\"},{\"id\":\"1020\"}],\"height\":336,\"left\":[{\"id\":\"1017\"}],\"renderers\":[{\"id\":\"1038\"},{\"id\":\"1043\"},{\"id\":\"1048\"},{\"id\":\"1053\"},{\"id\":\"1060\"},{\"id\":\"1065\"},{\"id\":\"1070\"}],\"title\":{\"id\":\"1003\"},\"toolbar\":{\"id\":\"1028\"},\"toolbar_location\":null,\"width\":800,\"x_range\":{\"id\":\"1005\"},\"x_scale\":{\"id\":\"1009\"},\"y_range\":{\"id\":\"1007\"},\"y_scale\":{\"id\":\"1011\"}},\"id\":\"1002\",\"subtype\":\"Figure\",\"type\":\"Plot\"},{\"attributes\":{\"line_color\":\"#2ca02c\",\"x\":{\"field\":\"x\"},\"y\":{\"field\":\"y\"}},\"id\":\"1068\",\"type\":\"Line\"},{\"attributes\":{},\"id\":\"1131\",\"type\":\"Selection\"},{\"attributes\":{},\"id\":\"1133\",\"type\":\"Selection\"},{\"attributes\":{},\"id\":\"1135\",\"type\":\"Selection\"},{\"attributes\":{},\"id\":\"1021\",\"type\":\"PanTool\"},{\"attributes\":{\"line_color\":\"#ff7f0e\",\"x\":{\"field\":\"x\"},\"y\":{\"field\":\"y\"}},\"id\":\"1063\",\"type\":\"Line\"},{\"attributes\":{\"source\":{\"id\":\"1062\"}},\"id\":\"1066\",\"type\":\"CDSView\"},{\"attributes\":{},\"id\":\"1140\",\"type\":\"AllLabels\"},{\"attributes\":{},\"id\":\"1009\",\"type\":\"LinearScale\"},{\"attributes\":{\"data\":{\"x\":[0,1,2,3,4,5,6,7,8,9,10,11,12,13,14,15,16,17,18,19,20,21,22,23,24,25,26,27,28],\"y\":{\"__ndarray__\":\"AAAAAAAA+H8AAAAAAAD4fwAAAAAAAPh/AAAAAAAA+H8AAAAAAAD4fwAAAAAAAPh/AAAAAAAA+H8AAAAAAAD4fwAAAAAAAPh/AAAAAAAA+H8AAAAAAAD4fwAAAAAAAPh/AAAAAAAA+H8AAAAAAAD4fwAAAAAAAPh/AAAAAAAA+H8AAAAAAAD4fwAAAAAAAPh/AAAAAAAA+H8AAAAAUCL1QAAAAABQIvVAAAAAAOAj9UAAAAAAYCv1QAAAAAAgKvVAAAAAAJAZ9UAAAAAAkAD1QAAAAADg5/RAAAAAAJDO9EAAAAAAYL30QA==\",\"dtype\":\"float64\",\"order\":\"little\",\"shape\":[29]}},\"selected\":{\"id\":\"1133\"},\"selection_policy\":{\"id\":\"1134\"}},\"id\":\"1062\",\"type\":\"ColumnDataSource\"},{\"attributes\":{\"children\":[[{\"id\":\"1002\"},0,0],[{\"id\":\"1072\"},1,0]]},\"id\":\"1150\",\"type\":\"GridBox\"},{\"attributes\":{},\"id\":\"1081\",\"type\":\"BasicTicker\"},{\"attributes\":{\"days\":[\"%Y-%m-%d\"],\"hours\":[\"%H:%M\"]},\"id\":\"1114\",\"type\":\"DatetimeTickFormatter\"},{\"attributes\":{\"data\":{\"x\":[0,1,2,3,4,5,6,7,8,9,10,11,12,13,14,15,16,17,18,19,20,21,22,23,24,25,26,27,28],\"y\":{\"__ndarray__\":\"AAAAAAAA+H8AAAAAAAD4fwAAAAAAAPh/AAAAAAAA+H8AAAAAAAD4fwAAAAAAAPh/AAAAAAAA+H8AAAAAAAD4fwAAAAAAAPh/AAAAAAAA+H8AAAAAAAD4fwAAAAAAAPh/AAAAAAAA+H8AAAAAAAD4fwAAAAAAAPh/AAAAAAAA+H8AAAAAAAD4fwAAAAAAAPh/AAAAAAAA+H8AAAAAAAD4fwAAAAAAAPh/AAAAAAAA+H8AAAAAAAD4fwAAAAAAAPh/AAAAAAAA+H8AAAAAAAD4fwAAAAAAAPh/AAAAAAAA+H8AAAAAAAD4fw==\",\"dtype\":\"float64\",\"order\":\"little\",\"shape\":[29]}},\"selected\":{\"id\":\"1135\"},\"selection_policy\":{\"id\":\"1136\"}},\"id\":\"1067\",\"type\":\"ColumnDataSource\"},{\"attributes\":{},\"id\":\"1123\",\"type\":\"Selection\"},{\"attributes\":{},\"id\":\"1076\",\"type\":\"LinearScale\"},{\"attributes\":{\"range_padding\":0},\"id\":\"1074\",\"type\":\"DataRange1d\"},{\"attributes\":{\"source\":{\"id\":\"1057\"}},\"id\":\"1061\",\"type\":\"CDSView\"},{\"attributes\":{},\"id\":\"1125\",\"type\":\"Selection\"},{\"attributes\":{\"line_alpha\":0.1,\"line_color\":\"#ff7f0e\",\"x\":{\"field\":\"x\"},\"y\":{\"field\":\"y\"}},\"id\":\"1064\",\"type\":\"Line\"},{\"attributes\":{\"axis\":{\"id\":\"1017\"},\"dimension\":1,\"ticker\":null},\"id\":\"1020\",\"type\":\"Grid\"},{\"attributes\":{},\"id\":\"1124\",\"type\":\"UnionRenderers\"},{\"attributes\":{},\"id\":\"1136\",\"type\":\"UnionRenderers\"},{\"attributes\":{\"axis\":{\"id\":\"1013\"},\"ticker\":null},\"id\":\"1016\",\"type\":\"Grid\"},{\"attributes\":{\"source\":{\"id\":\"1067\"}},\"id\":\"1071\",\"type\":\"CDSView\"},{\"attributes\":{},\"id\":\"1112\",\"type\":\"NumeralTickFormatter\"},{\"attributes\":{},\"id\":\"1126\",\"type\":\"UnionRenderers\"},{\"attributes\":{\"data_source\":{\"id\":\"1050\"},\"glyph\":{\"id\":\"1051\"},\"hover_glyph\":null,\"muted_glyph\":null,\"nonselection_glyph\":{\"id\":\"1052\"},\"view\":{\"id\":\"1054\"}},\"id\":\"1053\",\"type\":\"GlyphRenderer\"},{\"attributes\":{\"active_multi\":null,\"tools\":[{\"id\":\"1021\"},{\"id\":\"1022\"},{\"id\":\"1023\"},{\"id\":\"1024\"},{\"id\":\"1025\"},{\"id\":\"1026\"}]},\"id\":\"1028\",\"type\":\"Toolbar\"},{\"attributes\":{},\"id\":\"1055\",\"type\":\"NumeralTickFormatter\"},{\"attributes\":{},\"id\":\"1147\",\"type\":\"Selection\"},{\"attributes\":{\"data_source\":{\"id\":\"1062\"},\"glyph\":{\"id\":\"1063\"},\"hover_glyph\":null,\"muted_glyph\":null,\"nonselection_glyph\":{\"id\":\"1064\"},\"view\":{\"id\":\"1066\"}},\"id\":\"1065\",\"type\":\"GlyphRenderer\"},{\"attributes\":{\"data_source\":{\"id\":\"1107\"},\"glyph\":{\"id\":\"1108\"},\"hover_glyph\":null,\"muted_glyph\":null,\"nonselection_glyph\":{\"id\":\"1109\"},\"view\":{\"id\":\"1111\"}},\"id\":\"1110\",\"type\":\"GlyphRenderer\"},{\"attributes\":{},\"id\":\"1018\",\"type\":\"BasicTicker\"},{\"attributes\":{},\"id\":\"1132\",\"type\":\"UnionRenderers\"},{\"attributes\":{\"toolbars\":[{\"id\":\"1028\"},{\"id\":\"1095\"}],\"tools\":[{\"id\":\"1021\"},{\"id\":\"1022\"},{\"id\":\"1023\"},{\"id\":\"1024\"},{\"id\":\"1025\"},{\"id\":\"1026\"},{\"id\":\"1088\"},{\"id\":\"1089\"},{\"id\":\"1090\"},{\"id\":\"1091\"},{\"id\":\"1092\"},{\"id\":\"1093\"}]},\"id\":\"1151\",\"type\":\"ProxyToolbar\"},{\"attributes\":{\"formatter\":{\"id\":\"1114\"},\"major_label_orientation\":0.6283185307179586,\"major_label_overrides\":{\"0\":\"2021-01-04\",\"1\":\"2021-01-05\",\"10\":\"2021-01-18\",\"11\":\"2021-01-19\",\"12\":\"2021-01-20\",\"13\":\"2021-01-21\",\"14\":\"2021-01-22\",\"15\":\"2021-01-25\",\"16\":\"2021-01-26\",\"17\":\"2021-01-27\",\"18\":\"2021-01-28\",\"19\":\"2021-01-29\",\"2\":\"2021-01-06\",\"20\":\"2021-02-01\",\"21\":\"2021-02-02\",\"22\":\"2021-02-03\",\"23\":\"2021-02-04\",\"24\":\"2021-02-05\",\"25\":\"2021-02-08\",\"26\":\"2021-02-09\",\"27\":\"2021-02-10\",\"28\":\"2021-02-15\",\"29\":\"\",\"3\":\"2021-01-07\",\"4\":\"2021-01-08\",\"5\":\"2021-01-11\",\"6\":\"2021-01-12\",\"7\":\"2021-01-13\",\"8\":\"2021-01-14\",\"9\":\"2021-01-15\"},\"major_label_policy\":{\"id\":\"1140\"},\"ticker\":{\"id\":\"1081\"}},\"id\":\"1080\",\"type\":\"LinearAxis\"},{\"attributes\":{},\"id\":\"1134\",\"type\":\"UnionRenderers\"},{\"attributes\":{\"line_alpha\":{\"value\":0.1},\"line_color\":{\"value\":\"red\"},\"x0\":{\"field\":\"x0\"},\"x1\":{\"field\":\"x1\"},\"y0\":{\"field\":\"y0\"},\"y1\":{\"field\":\"y1\"}},\"id\":\"1037\",\"type\":\"Segment\"},{\"attributes\":{\"source\":{\"id\":\"1107\"}},\"id\":\"1111\",\"type\":\"CDSView\"},{\"attributes\":{\"line_alpha\":0.1,\"line_color\":\"#1f77b4\",\"x\":{\"field\":\"x\"},\"y\":{\"field\":\"y\"}},\"id\":\"1059\",\"type\":\"Line\"},{\"attributes\":{},\"id\":\"1139\",\"type\":\"Title\"},{\"attributes\":{\"line_color\":\"#1f77b4\",\"x\":{\"field\":\"x\"},\"y\":{\"field\":\"y\"}},\"id\":\"1058\",\"type\":\"Line\"},{\"attributes\":{},\"id\":\"1014\",\"type\":\"BasicTicker\"},{\"attributes\":{},\"id\":\"1129\",\"type\":\"Selection\"},{\"attributes\":{\"data\":{\"x\":[0,1,2,3,4,5,6,7,8,9,10,11,12,13,14,15,16,17,18,19,20,21,22,23,24,25,26,27,28],\"y\":{\"__ndarray__\":\"AAAAAAAA+H8AAAAAAAD4fwAAAAAAAPh/AAAAAAAA+H8AAAAAAIz0QAAAAAAA8PRAAAAAAMBD9UAAAAAAgKH1QAAAAACA9vVAAAAAAIDs9UAAAAAAgKH1QAAAAACAdPVAAAAAAEBV9UAAAAAAQEH1QAAAAABAMvVAAAAAAEBp9UAAAAAAgGX1QAAAAACAUfVAAAAAAIAa9UAAAAAAgN70QAAAAACAjvRAAAAAAMBx9EAAAAAAQGX0QAAAAABAVvRAAAAAAABp9EAAAAAAAGn0QAAAAADAU/RAAAAAAEAu9EAAAAAAgEP0QA==\",\"dtype\":\"float64\",\"order\":\"little\",\"shape\":[29]}},\"selected\":{\"id\":\"1131\"},\"selection_policy\":{\"id\":\"1132\"}},\"id\":\"1057\",\"type\":\"ColumnDataSource\"},{\"attributes\":{\"fill_alpha\":{\"value\":0.1},\"fill_color\":{\"value\":\"blue\"},\"line_alpha\":{\"value\":0.1},\"top\":{\"field\":\"top\"},\"width\":{\"value\":0.8},\"x\":{\"field\":\"x\"}},\"id\":\"1109\",\"type\":\"VBar\"},{\"attributes\":{\"data_source\":{\"id\":\"1057\"},\"glyph\":{\"id\":\"1058\"},\"hover_glyph\":null,\"muted_glyph\":null,\"nonselection_glyph\":{\"id\":\"1059\"},\"view\":{\"id\":\"1061\"}},\"id\":\"1060\",\"type\":\"GlyphRenderer\"},{\"attributes\":{\"toolbar\":{\"id\":\"1151\"},\"toolbar_location\":\"above\"},\"id\":\"1152\",\"type\":\"ToolbarBox\"},{\"attributes\":{},\"id\":\"1142\",\"type\":\"AllLabels\"},{\"attributes\":{},\"id\":\"1117\",\"type\":\"BasicTickFormatter\"},{\"attributes\":{\"source\":{\"id\":\"1040\"}},\"id\":\"1044\",\"type\":\"CDSView\"},{\"attributes\":{},\"id\":\"1089\",\"type\":\"WheelZoomTool\"},{\"attributes\":{\"line_color\":{\"value\":\"blue\"},\"x0\":{\"field\":\"x0\"},\"x1\":{\"field\":\"x1\"},\"y0\":{\"field\":\"y0\"},\"y1\":{\"field\":\"y1\"}},\"id\":\"1041\",\"type\":\"Segment\"},{\"attributes\":{\"below\":[{\"id\":\"1080\"}],\"center\":[{\"id\":\"1083\"},{\"id\":\"1087\"}],\"height\":144,\"left\":[{\"id\":\"1084\"}],\"renderers\":[{\"id\":\"1105\"},{\"id\":\"1110\"}],\"title\":{\"id\":\"1139\"},\"toolbar\":{\"id\":\"1095\"},\"toolbar_location\":null,\"width\":800,\"x_range\":{\"id\":\"1005\"},\"x_scale\":{\"id\":\"1076\"},\"y_range\":{\"id\":\"1074\"},\"y_scale\":{\"id\":\"1078\"}},\"id\":\"1072\",\"subtype\":\"Figure\",\"type\":\"Plot\"},{\"attributes\":{\"line_alpha\":{\"value\":0.1},\"line_color\":{\"value\":\"blue\"},\"x0\":{\"field\":\"x0\"},\"x1\":{\"field\":\"x1\"},\"y0\":{\"field\":\"y0\"},\"y1\":{\"field\":\"y1\"}},\"id\":\"1042\",\"type\":\"Segment\"},{\"attributes\":{\"axis\":{\"id\":\"1084\"},\"dimension\":1,\"ticker\":null},\"id\":\"1087\",\"type\":\"Grid\"},{\"attributes\":{\"data\":{\"bottom\":[83000,83900,82900,88800,91000,90600,89700,87000,88100,89400,83700,83000,84400,83500,84200],\"top\":[81000,81600,82800,83300,90000,90300,88700,84500,87500,87000,83200,81700,84100,83100,83800],\"x\":[0,1,3,4,5,6,8,11,13,15,18,20,21,24,28]},\"selected\":{\"id\":\"1127\"},\"selection_policy\":{\"id\":\"1128\"}},\"id\":\"1045\",\"type\":\"ColumnDataSource\"},{\"attributes\":{\"data_source\":{\"id\":\"1040\"},\"glyph\":{\"id\":\"1041\"},\"hover_glyph\":null,\"muted_glyph\":null,\"nonselection_glyph\":{\"id\":\"1042\"},\"view\":{\"id\":\"1044\"}},\"id\":\"1043\",\"type\":\"GlyphRenderer\"},{\"attributes\":{\"data\":{\"bottom\":[82200,89700,88000,85000,87200,86800,86700,85600,82000,84600,82500,83000,82700,81600],\"top\":[83300,89800,89800,86600,89000,89000,88800,86600,84500,84800,83500,83800,84000,82600],\"x\":[2,7,9,10,12,14,16,17,19,22,23,25,26,27]},\"selected\":{\"id\":\"1129\"},\"selection_policy\":{\"id\":\"1130\"}},\"id\":\"1050\",\"type\":\"ColumnDataSource\"},{\"attributes\":{\"active_multi\":null,\"tools\":[{\"id\":\"1088\"},{\"id\":\"1089\"},{\"id\":\"1090\"},{\"id\":\"1091\"},{\"id\":\"1092\"},{\"id\":\"1093\"}]},\"id\":\"1095\",\"type\":\"Toolbar\"},{\"attributes\":{\"fill_color\":{\"value\":\"red\"},\"top\":{\"field\":\"top\"},\"width\":{\"value\":0.8},\"x\":{\"field\":\"x\"}},\"id\":\"1103\",\"type\":\"VBar\"},{\"attributes\":{\"bottom_units\":\"screen\",\"fill_alpha\":0.5,\"fill_color\":\"lightgrey\",\"left_units\":\"screen\",\"level\":\"overlay\",\"line_alpha\":1.0,\"line_color\":\"black\",\"line_dash\":[4,4],\"line_width\":2,\"right_units\":\"screen\",\"syncable\":false,\"top_units\":\"screen\"},\"id\":\"1027\",\"type\":\"BoxAnnotation\"},{\"attributes\":{\"formatter\":{\"id\":\"1112\"},\"major_label_policy\":{\"id\":\"1142\"},\"ticker\":{\"id\":\"1085\"}},\"id\":\"1084\",\"type\":\"LinearAxis\"},{\"attributes\":{\"axis\":{\"id\":\"1080\"},\"ticker\":null},\"id\":\"1083\",\"type\":\"Grid\"},{\"attributes\":{\"overlay\":{\"id\":\"1094\"}},\"id\":\"1090\",\"type\":\"BoxZoomTool\"},{\"attributes\":{\"fill_color\":{\"value\":\"blue\"},\"top\":{\"field\":\"top\"},\"width\":{\"value\":0.8},\"x\":{\"field\":\"x\"}},\"id\":\"1108\",\"type\":\"VBar\"},{\"attributes\":{\"end\":29,\"start\":-1},\"id\":\"1005\",\"type\":\"Range1d\"},{\"attributes\":{\"data_source\":{\"id\":\"1102\"},\"glyph\":{\"id\":\"1103\"},\"hover_glyph\":null,\"muted_glyph\":null,\"nonselection_glyph\":{\"id\":\"1104\"},\"view\":{\"id\":\"1106\"}},\"id\":\"1105\",\"type\":\"GlyphRenderer\"},{\"attributes\":{\"source\":{\"id\":\"1035\"}},\"id\":\"1039\",\"type\":\"CDSView\"},{\"attributes\":{},\"id\":\"1003\",\"type\":\"Title\"},{\"attributes\":{\"data\":{\"top\":[42089013,59013307,90306177,33431809,43227951,25318011,30861661,33178936,31859808,39615978,24171688,20898332,23025766,23529706],\"x\":[2,4,5,9,10,13,14,16,18,19,23,26,27,28]},\"selected\":{\"id\":\"1145\"},\"selection_policy\":{\"id\":\"1146\"}},\"id\":\"1102\",\"type\":\"ColumnDataSource\"},{\"attributes\":{\"source\":{\"id\":\"1045\"}},\"id\":\"1049\",\"type\":\"CDSView\"},{\"attributes\":{\"overlay\":{\"id\":\"1027\"}},\"id\":\"1023\",\"type\":\"BoxZoomTool\"},{\"attributes\":{\"fill_alpha\":{\"value\":0.1},\"fill_color\":{\"value\":\"red\"},\"line_alpha\":{\"value\":0.1},\"top\":{\"field\":\"top\"},\"width\":{\"value\":0.8},\"x\":{\"field\":\"x\"}},\"id\":\"1104\",\"type\":\"VBar\"},{\"attributes\":{\"data_source\":{\"id\":\"1045\"},\"glyph\":{\"id\":\"1046\"},\"hover_glyph\":null,\"muted_glyph\":null,\"nonselection_glyph\":{\"id\":\"1047\"},\"view\":{\"id\":\"1049\"}},\"id\":\"1048\",\"type\":\"GlyphRenderer\"},{\"attributes\":{},\"id\":\"1022\",\"type\":\"WheelZoomTool\"},{\"attributes\":{\"data\":{\"x0\":[2,7,9,10,12,14,16,17,19,22,23,25,26,27],\"x1\":[2,7,9,10,12,14,16,17,19,22,23,25,26,27],\"y0\":[84500,91200,91800,87300,89000,89700,89200,87700,85000,85400,83800,84200,84800,82600],\"y1\":[82100,89100,88000,84100,86500,86800,86500,85600,82000,83400,82100,83000,82700,81600]},\"selected\":{\"id\":\"1125\"},\"selection_policy\":{\"id\":\"1126\"}},\"id\":\"1040\",\"type\":\"ColumnDataSource\"},{\"attributes\":{\"formatter\":{\"id\":\"1055\"},\"major_label_policy\":{\"id\":\"1120\"},\"ticker\":{\"id\":\"1018\"}},\"id\":\"1017\",\"type\":\"LinearAxis\"},{\"attributes\":{\"data\":{\"top\":[35335669,32644642,48682416,36068848,26393970,39895044,25211127,27258534,26423070,28046832,26302077,22112205,18036835,15338765],\"x\":[1,3,6,7,8,11,12,15,17,20,21,22,24,25]},\"selected\":{\"id\":\"1147\"},\"selection_policy\":{\"id\":\"1148\"}},\"id\":\"1107\",\"type\":\"ColumnDataSource\"},{\"attributes\":{},\"id\":\"1093\",\"type\":\"HelpTool\"},{\"attributes\":{\"data_source\":{\"id\":\"1035\"},\"glyph\":{\"id\":\"1036\"},\"hover_glyph\":null,\"muted_glyph\":null,\"nonselection_glyph\":{\"id\":\"1037\"},\"view\":{\"id\":\"1039\"}},\"id\":\"1038\",\"type\":\"GlyphRenderer\"},{\"attributes\":{\"source\":{\"id\":\"1102\"}},\"id\":\"1106\",\"type\":\"CDSView\"},{\"attributes\":{\"bottom\":{\"field\":\"bottom\"},\"fill_alpha\":{\"value\":0.1},\"fill_color\":{\"value\":\"red\"},\"line_alpha\":{\"value\":0.1},\"line_color\":{\"value\":\"red\"},\"top\":{\"field\":\"top\"},\"width\":{\"value\":0.8},\"x\":{\"field\":\"x\"}},\"id\":\"1047\",\"type\":\"VBar\"},{\"attributes\":{\"bottom_units\":\"screen\",\"fill_alpha\":0.5,\"fill_color\":\"lightgrey\",\"left_units\":\"screen\",\"level\":\"overlay\",\"line_alpha\":1.0,\"line_color\":\"black\",\"line_dash\":[4,4],\"line_width\":2,\"right_units\":\"screen\",\"syncable\":false,\"top_units\":\"screen\"},\"id\":\"1094\",\"type\":\"BoxAnnotation\"},{\"attributes\":{\"bottom\":{\"field\":\"bottom\"},\"fill_color\":{\"value\":\"red\"},\"line_color\":{\"value\":\"red\"},\"top\":{\"field\":\"top\"},\"width\":{\"value\":0.8},\"x\":{\"field\":\"x\"}},\"id\":\"1046\",\"type\":\"VBar\"},{\"attributes\":{\"bottom\":{\"field\":\"bottom\"},\"fill_color\":{\"value\":\"blue\"},\"line_color\":{\"value\":\"blue\"},\"top\":{\"field\":\"top\"},\"width\":{\"value\":0.8},\"x\":{\"field\":\"x\"}},\"id\":\"1051\",\"type\":\"VBar\"},{\"attributes\":{},\"id\":\"1088\",\"type\":\"PanTool\"},{\"attributes\":{},\"id\":\"1024\",\"type\":\"SaveTool\"},{\"attributes\":{},\"id\":\"1085\",\"type\":\"BasicTicker\"},{\"attributes\":{},\"id\":\"1025\",\"type\":\"ResetTool\"},{\"attributes\":{},\"id\":\"1091\",\"type\":\"SaveTool\"},{\"attributes\":{},\"id\":\"1092\",\"type\":\"ResetTool\"},{\"attributes\":{\"formatter\":{\"id\":\"1117\"},\"major_label_policy\":{\"id\":\"1118\"},\"ticker\":{\"id\":\"1014\"},\"visible\":false},\"id\":\"1013\",\"type\":\"LinearAxis\"},{\"attributes\":{},\"id\":\"1026\",\"type\":\"HelpTool\"}],\"root_ids\":[\"1153\"]},\"title\":\"Bokeh Application\",\"version\":\"2.3.3\"}};\n",
              "  var render_items = [{\"docid\":\"7176f5ac-9842-433d-bdbb-a0f7a0221287\",\"root_ids\":[\"1153\"],\"roots\":{\"1153\":\"426a7931-5e70-4e3e-bf0a-36cdfe5ef7a5\"}}];\n",
              "  root.Bokeh.embed.embed_items_notebook(docs_json, render_items);\n",
              "\n",
              "  }\n",
              "  if (root.Bokeh !== undefined) {\n",
              "    embed_document(root);\n",
              "  } else {\n",
              "    var attempts = 0;\n",
              "    var timer = setInterval(function(root) {\n",
              "      if (root.Bokeh !== undefined) {\n",
              "        clearInterval(timer);\n",
              "        embed_document(root);\n",
              "      } else {\n",
              "        attempts++;\n",
              "        if (attempts > 100) {\n",
              "          clearInterval(timer);\n",
              "          console.log(\"Bokeh: ERROR: Unable to run BokehJS code because BokehJS library is missing\");\n",
              "        }\n",
              "      }\n",
              "    }, 10, root)\n",
              "  }\n",
              "})(window);"
            ],
            "application/vnd.bokehjs_exec.v0+json": ""
          },
          "metadata": {
            "application/vnd.bokehjs_exec.v0+json": {
              "id": "1153"
            }
          },
          "output_type": "display_data"
        },
        {
          "data": {
            "text/html": [
              "\n",
              "\n",
              "\n",
              "\n",
              "\n",
              "\n",
              "  <div class=\"bk-root\" id=\"884f8f32-81bf-44ab-a4e1-961f2819b13e\" data-root-id=\"1497\"></div>\n"
            ]
          },
          "metadata": {},
          "output_type": "display_data"
        },
        {
          "data": {
            "application/javascript": [
              "(function(root) {\n",
              "  function embed_document(root) {\n",
              "    \n",
              "  var docs_json = {\"7166653e-9df1-4b88-81e9-02a41ba98588\":{\"defs\":[],\"roots\":{\"references\":[{\"attributes\":{\"children\":[{\"id\":\"1496\"},{\"id\":\"1494\"}]},\"id\":\"1497\",\"type\":\"Column\"},{\"attributes\":{},\"id\":\"1473\",\"type\":\"Selection\"},{\"attributes\":{\"source\":{\"id\":\"1451\"}},\"id\":\"1455\",\"type\":\"CDSView\"},{\"attributes\":{},\"id\":\"1471\",\"type\":\"Selection\"},{\"attributes\":{\"fill_color\":{\"value\":\"blue\"},\"top\":{\"field\":\"top\"},\"width\":{\"value\":0.8},\"x\":{\"field\":\"x\"}},\"id\":\"1452\",\"type\":\"VBar\"},{\"attributes\":{\"fill_alpha\":{\"value\":0.1},\"fill_color\":{\"value\":\"red\"},\"line_alpha\":{\"value\":0.1},\"top\":{\"field\":\"top\"},\"width\":{\"value\":0.8},\"x\":{\"field\":\"x\"}},\"id\":\"1448\",\"type\":\"VBar\"},{\"attributes\":{},\"id\":\"1436\",\"type\":\"ResetTool\"},{\"attributes\":{},\"id\":\"1469\",\"type\":\"Selection\"},{\"attributes\":{},\"id\":\"1433\",\"type\":\"WheelZoomTool\"},{\"attributes\":{\"days\":[\"%Y-%m-%d\"],\"hours\":[\"%H:%M\"]},\"id\":\"1458\",\"type\":\"DatetimeTickFormatter\"},{\"attributes\":{\"source\":{\"id\":\"1446\"}},\"id\":\"1450\",\"type\":\"CDSView\"},{\"attributes\":{\"bottom_units\":\"screen\",\"fill_alpha\":0.5,\"fill_color\":\"lightgrey\",\"left_units\":\"screen\",\"level\":\"overlay\",\"line_alpha\":1.0,\"line_color\":\"black\",\"line_dash\":[4,4],\"line_width\":2,\"right_units\":\"screen\",\"syncable\":false,\"top_units\":\"screen\"},\"id\":\"1438\",\"type\":\"BoxAnnotation\"},{\"attributes\":{\"data_source\":{\"id\":\"1446\"},\"glyph\":{\"id\":\"1447\"},\"hover_glyph\":null,\"muted_glyph\":null,\"nonselection_glyph\":{\"id\":\"1448\"},\"view\":{\"id\":\"1450\"}},\"id\":\"1449\",\"type\":\"GlyphRenderer\"},{\"attributes\":{},\"id\":\"1435\",\"type\":\"SaveTool\"},{\"attributes\":{\"active_multi\":null,\"tools\":[{\"id\":\"1432\"},{\"id\":\"1433\"},{\"id\":\"1434\"},{\"id\":\"1435\"},{\"id\":\"1436\"},{\"id\":\"1437\"}]},\"id\":\"1439\",\"type\":\"Toolbar\"},{\"attributes\":{},\"id\":\"1468\",\"type\":\"UnionRenderers\"},{\"attributes\":{},\"id\":\"1475\",\"type\":\"Selection\"},{\"attributes\":{},\"id\":\"1355\",\"type\":\"LinearScale\"},{\"attributes\":{},\"id\":\"1470\",\"type\":\"UnionRenderers\"},{\"attributes\":{\"data\":{\"top\":[35335669,32644642,48682416,36068848,26393970,39895044,25211127,27258534,26423070,28046832,26302077,22112205,18036835,15338765],\"x\":[1,3,6,7,8,11,12,15,17,20,21,22,24,25]},\"selected\":{\"id\":\"1491\"},\"selection_policy\":{\"id\":\"1492\"}},\"id\":\"1451\",\"type\":\"ColumnDataSource\"},{\"attributes\":{},\"id\":\"1456\",\"type\":\"NumeralTickFormatter\"},{\"attributes\":{\"below\":[{\"id\":\"1424\"}],\"center\":[{\"id\":\"1427\"},{\"id\":\"1431\"}],\"height\":144,\"left\":[{\"id\":\"1428\"}],\"renderers\":[{\"id\":\"1449\"},{\"id\":\"1454\"}],\"title\":{\"id\":\"1483\"},\"toolbar\":{\"id\":\"1439\"},\"toolbar_location\":null,\"width\":800,\"x_range\":{\"id\":\"1349\"},\"x_scale\":{\"id\":\"1420\"},\"y_range\":{\"id\":\"1418\"},\"y_scale\":{\"id\":\"1422\"}},\"id\":\"1416\",\"subtype\":\"Figure\",\"type\":\"Plot\"},{\"attributes\":{},\"id\":\"1432\",\"type\":\"PanTool\"},{\"attributes\":{},\"id\":\"1474\",\"type\":\"UnionRenderers\"},{\"attributes\":{\"data_source\":{\"id\":\"1451\"},\"glyph\":{\"id\":\"1452\"},\"hover_glyph\":null,\"muted_glyph\":null,\"nonselection_glyph\":{\"id\":\"1453\"},\"view\":{\"id\":\"1455\"}},\"id\":\"1454\",\"type\":\"GlyphRenderer\"},{\"attributes\":{\"fill_alpha\":{\"value\":0.1},\"fill_color\":{\"value\":\"blue\"},\"line_alpha\":{\"value\":0.1},\"top\":{\"field\":\"top\"},\"width\":{\"value\":0.8},\"x\":{\"field\":\"x\"}},\"id\":\"1453\",\"type\":\"VBar\"},{\"attributes\":{},\"id\":\"1437\",\"type\":\"HelpTool\"},{\"attributes\":{},\"id\":\"1472\",\"type\":\"UnionRenderers\"},{\"attributes\":{\"overlay\":{\"id\":\"1438\"}},\"id\":\"1434\",\"type\":\"BoxZoomTool\"},{\"attributes\":{},\"id\":\"1365\",\"type\":\"PanTool\"},{\"attributes\":{\"data_source\":{\"id\":\"1394\"},\"glyph\":{\"id\":\"1395\"},\"hover_glyph\":null,\"muted_glyph\":null,\"nonselection_glyph\":{\"id\":\"1396\"},\"view\":{\"id\":\"1398\"}},\"id\":\"1397\",\"type\":\"GlyphRenderer\"},{\"attributes\":{},\"id\":\"1362\",\"type\":\"BasicTicker\"},{\"attributes\":{},\"id\":\"1490\",\"type\":\"UnionRenderers\"},{\"attributes\":{\"fill_color\":{\"value\":\"red\"},\"top\":{\"field\":\"top\"},\"width\":{\"value\":0.8},\"x\":{\"field\":\"x\"}},\"id\":\"1447\",\"type\":\"VBar\"},{\"attributes\":{},\"id\":\"1425\",\"type\":\"BasicTicker\"},{\"attributes\":{},\"id\":\"1479\",\"type\":\"Selection\"},{\"attributes\":{\"data_source\":{\"id\":\"1379\"},\"glyph\":{\"id\":\"1380\"},\"hover_glyph\":null,\"muted_glyph\":null,\"nonselection_glyph\":{\"id\":\"1381\"},\"view\":{\"id\":\"1383\"}},\"id\":\"1382\",\"type\":\"GlyphRenderer\"},{\"attributes\":{\"active_multi\":null,\"tools\":[{\"id\":\"1365\"},{\"id\":\"1366\"},{\"id\":\"1367\"},{\"id\":\"1368\"},{\"id\":\"1369\"},{\"id\":\"1370\"}]},\"id\":\"1372\",\"type\":\"Toolbar\"},{\"attributes\":{},\"id\":\"1370\",\"type\":\"HelpTool\"},{\"attributes\":{},\"id\":\"1462\",\"type\":\"AllLabels\"},{\"attributes\":{},\"id\":\"1358\",\"type\":\"BasicTicker\"},{\"attributes\":{\"source\":{\"id\":\"1394\"}},\"id\":\"1398\",\"type\":\"CDSView\"},{\"attributes\":{\"data\":{\"x\":[0,1,2,3,4,5,6,7,8,9,10,11,12,13,14,15,16,17,18,19,20,21,22,23,24,25,26,27,28],\"y\":{\"__ndarray__\":\"AAAAAAAA+H8AAAAAAAD4fwAAAAAAAPh/AAAAAAAA+H8AAAAAAAD4fwAAAAAAAPh/AAAAAAAA+H8AAAAAAAD4fwAAAAAAAPh/AAAAAAAA+H8AAAAAAAD4fwAAAAAAAPh/AAAAAAAA+H8AAAAAAAD4fwAAAAAAAPh/AAAAAAAA+H8AAAAAAAD4fwAAAAAAAPh/AAAAAAAA+H8AAAAAUCL1QAAAAABQIvVAAAAAAOAj9UAAAAAAYCv1QAAAAAAgKvVAAAAAAJAZ9UAAAAAAkAD1QAAAAADg5/RAAAAAAJDO9EAAAAAAYL30QA==\",\"dtype\":\"float64\",\"order\":\"little\",\"shape\":[29]}},\"selected\":{\"id\":\"1477\"},\"selection_policy\":{\"id\":\"1478\"}},\"id\":\"1406\",\"type\":\"ColumnDataSource\"},{\"attributes\":{\"line_alpha\":0.1,\"line_color\":\"#ff7f0e\",\"x\":{\"field\":\"x\"},\"y\":{\"field\":\"y\"}},\"id\":\"1408\",\"type\":\"Line\"},{\"attributes\":{},\"id\":\"1484\",\"type\":\"AllLabels\"},{\"attributes\":{\"bottom\":{\"field\":\"bottom\"},\"fill_color\":{\"value\":\"blue\"},\"line_color\":{\"value\":\"blue\"},\"top\":{\"field\":\"top\"},\"width\":{\"value\":0.8},\"x\":{\"field\":\"x\"}},\"id\":\"1395\",\"type\":\"VBar\"},{\"attributes\":{\"line_color\":\"#2ca02c\",\"x\":{\"field\":\"x\"},\"y\":{\"field\":\"y\"}},\"id\":\"1412\",\"type\":\"Line\"},{\"attributes\":{\"range_padding\":0},\"id\":\"1418\",\"type\":\"DataRange1d\"},{\"attributes\":{\"toolbars\":[{\"id\":\"1372\"},{\"id\":\"1439\"}],\"tools\":[{\"id\":\"1365\"},{\"id\":\"1366\"},{\"id\":\"1367\"},{\"id\":\"1368\"},{\"id\":\"1369\"},{\"id\":\"1370\"},{\"id\":\"1432\"},{\"id\":\"1433\"},{\"id\":\"1434\"},{\"id\":\"1435\"},{\"id\":\"1436\"},{\"id\":\"1437\"}]},\"id\":\"1495\",\"type\":\"ProxyToolbar\"},{\"attributes\":{\"data\":{\"x0\":[0,1,3,4,5,6,8,11,13,15,18,20,21,24,28],\"x1\":[0,1,3,4,5,6,8,11,13,15,18,20,21,24,28],\"y0\":[84400,83900,84200,90000,96800,91400,90000,88000,88600,89900,85600,83400,86400,84000,84500],\"y1\":[80200,81600,82700,83000,89500,87800,88700,83600,86500,86300,83200,81000,83700,82500,83300]},\"selected\":{\"id\":\"1467\"},\"selection_policy\":{\"id\":\"1468\"}},\"id\":\"1379\",\"type\":\"ColumnDataSource\"},{\"attributes\":{\"end\":96800,\"start\":80200},\"id\":\"1351\",\"type\":\"Range1d\"},{\"attributes\":{\"data\":{\"top\":[42089013,59013307,90306177,33431809,43227951,25318011,30861661,33178936,31859808,39615978,24171688,20898332,23025766,23529706],\"x\":[2,4,5,9,10,13,14,16,18,19,23,26,27,28]},\"selected\":{\"id\":\"1489\"},\"selection_policy\":{\"id\":\"1490\"}},\"id\":\"1446\",\"type\":\"ColumnDataSource\"},{\"attributes\":{},\"id\":\"1477\",\"type\":\"Selection\"},{\"attributes\":{},\"id\":\"1467\",\"type\":\"Selection\"},{\"attributes\":{\"below\":[{\"id\":\"1357\"}],\"center\":[{\"id\":\"1360\"},{\"id\":\"1364\"}],\"height\":336,\"left\":[{\"id\":\"1361\"}],\"renderers\":[{\"id\":\"1382\"},{\"id\":\"1387\"},{\"id\":\"1392\"},{\"id\":\"1397\"},{\"id\":\"1404\"},{\"id\":\"1409\"},{\"id\":\"1414\"}],\"title\":{\"id\":\"1347\"},\"toolbar\":{\"id\":\"1372\"},\"toolbar_location\":null,\"width\":800,\"x_range\":{\"id\":\"1349\"},\"x_scale\":{\"id\":\"1353\"},\"y_range\":{\"id\":\"1351\"},\"y_scale\":{\"id\":\"1355\"}},\"id\":\"1346\",\"subtype\":\"Figure\",\"type\":\"Plot\"},{\"attributes\":{\"data_source\":{\"id\":\"1389\"},\"glyph\":{\"id\":\"1390\"},\"hover_glyph\":null,\"muted_glyph\":null,\"nonselection_glyph\":{\"id\":\"1391\"},\"view\":{\"id\":\"1393\"}},\"id\":\"1392\",\"type\":\"GlyphRenderer\"},{\"attributes\":{\"toolbar\":{\"id\":\"1495\"},\"toolbar_location\":\"above\"},\"id\":\"1496\",\"type\":\"ToolbarBox\"},{\"attributes\":{\"axis\":{\"id\":\"1361\"},\"dimension\":1,\"ticker\":null},\"id\":\"1364\",\"type\":\"Grid\"},{\"attributes\":{},\"id\":\"1422\",\"type\":\"LinearScale\"},{\"attributes\":{\"data\":{\"bottom\":[83000,83900,82900,88800,91000,90600,89700,87000,88100,89400,83700,83000,84400,83500,84200],\"top\":[81000,81600,82800,83300,90000,90300,88700,84500,87500,87000,83200,81700,84100,83100,83800],\"x\":[0,1,3,4,5,6,8,11,13,15,18,20,21,24,28]},\"selected\":{\"id\":\"1471\"},\"selection_policy\":{\"id\":\"1472\"}},\"id\":\"1389\",\"type\":\"ColumnDataSource\"},{\"attributes\":{\"formatter\":{\"id\":\"1399\"},\"major_label_policy\":{\"id\":\"1464\"},\"ticker\":{\"id\":\"1362\"}},\"id\":\"1361\",\"type\":\"LinearAxis\"},{\"attributes\":{\"axis\":{\"id\":\"1428\"},\"dimension\":1,\"ticker\":null},\"id\":\"1431\",\"type\":\"Grid\"},{\"attributes\":{\"line_alpha\":{\"value\":0.1},\"line_color\":{\"value\":\"blue\"},\"x0\":{\"field\":\"x0\"},\"x1\":{\"field\":\"x1\"},\"y0\":{\"field\":\"y0\"},\"y1\":{\"field\":\"y1\"}},\"id\":\"1386\",\"type\":\"Segment\"},{\"attributes\":{},\"id\":\"1489\",\"type\":\"Selection\"},{\"attributes\":{\"formatter\":{\"id\":\"1461\"},\"major_label_policy\":{\"id\":\"1462\"},\"ticker\":{\"id\":\"1358\"},\"visible\":false},\"id\":\"1357\",\"type\":\"LinearAxis\"},{\"attributes\":{\"data_source\":{\"id\":\"1411\"},\"glyph\":{\"id\":\"1412\"},\"hover_glyph\":null,\"muted_glyph\":null,\"nonselection_glyph\":{\"id\":\"1413\"},\"view\":{\"id\":\"1415\"}},\"id\":\"1414\",\"type\":\"GlyphRenderer\"},{\"attributes\":{\"line_alpha\":0.1,\"line_color\":\"#2ca02c\",\"x\":{\"field\":\"x\"},\"y\":{\"field\":\"y\"}},\"id\":\"1413\",\"type\":\"Line\"},{\"attributes\":{},\"id\":\"1369\",\"type\":\"ResetTool\"},{\"attributes\":{},\"id\":\"1366\",\"type\":\"WheelZoomTool\"},{\"attributes\":{\"data\":{\"x0\":[2,7,9,10,12,14,16,17,19,22,23,25,26,27],\"x1\":[2,7,9,10,12,14,16,17,19,22,23,25,26,27],\"y0\":[84500,91200,91800,87300,89000,89700,89200,87700,85000,85400,83800,84200,84800,82600],\"y1\":[82100,89100,88000,84100,86500,86800,86500,85600,82000,83400,82100,83000,82700,81600]},\"selected\":{\"id\":\"1469\"},\"selection_policy\":{\"id\":\"1470\"}},\"id\":\"1384\",\"type\":\"ColumnDataSource\"},{\"attributes\":{},\"id\":\"1461\",\"type\":\"BasicTickFormatter\"},{\"attributes\":{\"source\":{\"id\":\"1389\"}},\"id\":\"1393\",\"type\":\"CDSView\"},{\"attributes\":{},\"id\":\"1491\",\"type\":\"Selection\"},{\"attributes\":{},\"id\":\"1368\",\"type\":\"SaveTool\"},{\"attributes\":{\"data_source\":{\"id\":\"1384\"},\"glyph\":{\"id\":\"1385\"},\"hover_glyph\":null,\"muted_glyph\":null,\"nonselection_glyph\":{\"id\":\"1386\"},\"view\":{\"id\":\"1388\"}},\"id\":\"1387\",\"type\":\"GlyphRenderer\"},{\"attributes\":{\"line_alpha\":0.1,\"line_color\":\"#1f77b4\",\"x\":{\"field\":\"x\"},\"y\":{\"field\":\"y\"}},\"id\":\"1403\",\"type\":\"Line\"},{\"attributes\":{},\"id\":\"1486\",\"type\":\"AllLabels\"},{\"attributes\":{\"axis\":{\"id\":\"1424\"},\"ticker\":null},\"id\":\"1427\",\"type\":\"Grid\"},{\"attributes\":{\"overlay\":{\"id\":\"1371\"}},\"id\":\"1367\",\"type\":\"BoxZoomTool\"},{\"attributes\":{},\"id\":\"1420\",\"type\":\"LinearScale\"},{\"attributes\":{\"line_alpha\":{\"value\":0.1},\"line_color\":{\"value\":\"red\"},\"x0\":{\"field\":\"x0\"},\"x1\":{\"field\":\"x1\"},\"y0\":{\"field\":\"y0\"},\"y1\":{\"field\":\"y1\"}},\"id\":\"1381\",\"type\":\"Segment\"},{\"attributes\":{\"line_color\":{\"value\":\"red\"},\"x0\":{\"field\":\"x0\"},\"x1\":{\"field\":\"x1\"},\"y0\":{\"field\":\"y0\"},\"y1\":{\"field\":\"y1\"}},\"id\":\"1380\",\"type\":\"Segment\"},{\"attributes\":{\"line_color\":{\"value\":\"blue\"},\"x0\":{\"field\":\"x0\"},\"x1\":{\"field\":\"x1\"},\"y0\":{\"field\":\"y0\"},\"y1\":{\"field\":\"y1\"}},\"id\":\"1385\",\"type\":\"Segment\"},{\"attributes\":{},\"id\":\"1429\",\"type\":\"BasicTicker\"},{\"attributes\":{},\"id\":\"1464\",\"type\":\"AllLabels\"},{\"attributes\":{\"source\":{\"id\":\"1401\"}},\"id\":\"1405\",\"type\":\"CDSView\"},{\"attributes\":{\"bottom\":{\"field\":\"bottom\"},\"fill_alpha\":{\"value\":0.1},\"fill_color\":{\"value\":\"red\"},\"line_alpha\":{\"value\":0.1},\"line_color\":{\"value\":\"red\"},\"top\":{\"field\":\"top\"},\"width\":{\"value\":0.8},\"x\":{\"field\":\"x\"}},\"id\":\"1391\",\"type\":\"VBar\"},{\"attributes\":{\"source\":{\"id\":\"1411\"}},\"id\":\"1415\",\"type\":\"CDSView\"},{\"attributes\":{\"data_source\":{\"id\":\"1401\"},\"glyph\":{\"id\":\"1402\"},\"hover_glyph\":null,\"muted_glyph\":null,\"nonselection_glyph\":{\"id\":\"1403\"},\"view\":{\"id\":\"1405\"}},\"id\":\"1404\",\"type\":\"GlyphRenderer\"},{\"attributes\":{\"source\":{\"id\":\"1379\"}},\"id\":\"1383\",\"type\":\"CDSView\"},{\"attributes\":{},\"id\":\"1480\",\"type\":\"UnionRenderers\"},{\"attributes\":{\"formatter\":{\"id\":\"1458\"},\"major_label_orientation\":0.6283185307179586,\"major_label_overrides\":{\"0\":\"2021-01-04\",\"1\":\"2021-01-05\",\"10\":\"2021-01-18\",\"11\":\"2021-01-19\",\"12\":\"2021-01-20\",\"13\":\"2021-01-21\",\"14\":\"2021-01-22\",\"15\":\"2021-01-25\",\"16\":\"2021-01-26\",\"17\":\"2021-01-27\",\"18\":\"2021-01-28\",\"19\":\"2021-01-29\",\"2\":\"2021-01-06\",\"20\":\"2021-02-01\",\"21\":\"2021-02-02\",\"22\":\"2021-02-03\",\"23\":\"2021-02-04\",\"24\":\"2021-02-05\",\"25\":\"2021-02-08\",\"26\":\"2021-02-09\",\"27\":\"2021-02-10\",\"28\":\"2021-02-15\",\"29\":\"\",\"3\":\"2021-01-07\",\"4\":\"2021-01-08\",\"5\":\"2021-01-11\",\"6\":\"2021-01-12\",\"7\":\"2021-01-13\",\"8\":\"2021-01-14\",\"9\":\"2021-01-15\"},\"major_label_policy\":{\"id\":\"1484\"},\"ticker\":{\"id\":\"1425\"}},\"id\":\"1424\",\"type\":\"LinearAxis\"},{\"attributes\":{\"axis\":{\"id\":\"1357\"},\"ticker\":null},\"id\":\"1360\",\"type\":\"Grid\"},{\"attributes\":{},\"id\":\"1483\",\"type\":\"Title\"},{\"attributes\":{\"bottom_units\":\"screen\",\"fill_alpha\":0.5,\"fill_color\":\"lightgrey\",\"left_units\":\"screen\",\"level\":\"overlay\",\"line_alpha\":1.0,\"line_color\":\"black\",\"line_dash\":[4,4],\"line_width\":2,\"right_units\":\"screen\",\"syncable\":false,\"top_units\":\"screen\"},\"id\":\"1371\",\"type\":\"BoxAnnotation\"},{\"attributes\":{\"data\":{\"bottom\":[82200,89700,88000,85000,87200,86800,86700,85600,82000,84600,82500,83000,82700,81600],\"top\":[83300,89800,89800,86600,89000,89000,88800,86600,84500,84800,83500,83800,84000,82600],\"x\":[2,7,9,10,12,14,16,17,19,22,23,25,26,27]},\"selected\":{\"id\":\"1473\"},\"selection_policy\":{\"id\":\"1474\"}},\"id\":\"1394\",\"type\":\"ColumnDataSource\"},{\"attributes\":{\"bottom\":{\"field\":\"bottom\"},\"fill_color\":{\"value\":\"red\"},\"line_color\":{\"value\":\"red\"},\"top\":{\"field\":\"top\"},\"width\":{\"value\":0.8},\"x\":{\"field\":\"x\"}},\"id\":\"1390\",\"type\":\"VBar\"},{\"attributes\":{\"data\":{\"x\":[0,1,2,3,4,5,6,7,8,9,10,11,12,13,14,15,16,17,18,19,20,21,22,23,24,25,26,27,28],\"y\":{\"__ndarray__\":\"AAAAAAAA+H8AAAAAAAD4fwAAAAAAAPh/AAAAAAAA+H8AAAAAAIz0QAAAAAAA8PRAAAAAAMBD9UAAAAAAgKH1QAAAAACA9vVAAAAAAIDs9UAAAAAAgKH1QAAAAACAdPVAAAAAAEBV9UAAAAAAQEH1QAAAAABAMvVAAAAAAEBp9UAAAAAAgGX1QAAAAACAUfVAAAAAAIAa9UAAAAAAgN70QAAAAACAjvRAAAAAAMBx9EAAAAAAQGX0QAAAAABAVvRAAAAAAABp9EAAAAAAAGn0QAAAAADAU/RAAAAAAEAu9EAAAAAAgEP0QA==\",\"dtype\":\"float64\",\"order\":\"little\",\"shape\":[29]}},\"selected\":{\"id\":\"1475\"},\"selection_policy\":{\"id\":\"1476\"}},\"id\":\"1401\",\"type\":\"ColumnDataSource\"},{\"attributes\":{},\"id\":\"1478\",\"type\":\"UnionRenderers\"},{\"attributes\":{\"text\":\"\\uc0bc\\uc131\\uc804\\uc790(005930)\"},\"id\":\"1347\",\"type\":\"Title\"},{\"attributes\":{},\"id\":\"1399\",\"type\":\"NumeralTickFormatter\"},{\"attributes\":{},\"id\":\"1492\",\"type\":\"UnionRenderers\"},{\"attributes\":{\"bottom\":{\"field\":\"bottom\"},\"fill_alpha\":{\"value\":0.1},\"fill_color\":{\"value\":\"blue\"},\"line_alpha\":{\"value\":0.1},\"line_color\":{\"value\":\"blue\"},\"top\":{\"field\":\"top\"},\"width\":{\"value\":0.8},\"x\":{\"field\":\"x\"}},\"id\":\"1396\",\"type\":\"VBar\"},{\"attributes\":{\"end\":29,\"start\":-1},\"id\":\"1349\",\"type\":\"Range1d\"},{\"attributes\":{\"children\":[[{\"id\":\"1346\"},0,0],[{\"id\":\"1416\"},1,0]]},\"id\":\"1494\",\"type\":\"GridBox\"},{\"attributes\":{},\"id\":\"1353\",\"type\":\"LinearScale\"},{\"attributes\":{\"formatter\":{\"id\":\"1456\"},\"major_label_policy\":{\"id\":\"1486\"},\"ticker\":{\"id\":\"1429\"}},\"id\":\"1428\",\"type\":\"LinearAxis\"},{\"attributes\":{\"source\":{\"id\":\"1384\"}},\"id\":\"1388\",\"type\":\"CDSView\"},{\"attributes\":{},\"id\":\"1476\",\"type\":\"UnionRenderers\"},{\"attributes\":{\"source\":{\"id\":\"1406\"}},\"id\":\"1410\",\"type\":\"CDSView\"},{\"attributes\":{\"data_source\":{\"id\":\"1406\"},\"glyph\":{\"id\":\"1407\"},\"hover_glyph\":null,\"muted_glyph\":null,\"nonselection_glyph\":{\"id\":\"1408\"},\"view\":{\"id\":\"1410\"}},\"id\":\"1409\",\"type\":\"GlyphRenderer\"},{\"attributes\":{\"line_color\":\"#ff7f0e\",\"x\":{\"field\":\"x\"},\"y\":{\"field\":\"y\"}},\"id\":\"1407\",\"type\":\"Line\"},{\"attributes\":{\"line_color\":\"#1f77b4\",\"x\":{\"field\":\"x\"},\"y\":{\"field\":\"y\"}},\"id\":\"1402\",\"type\":\"Line\"},{\"attributes\":{\"data\":{\"x\":[0,1,2,3,4,5,6,7,8,9,10,11,12,13,14,15,16,17,18,19,20,21,22,23,24,25,26,27,28],\"y\":{\"__ndarray__\":\"AAAAAAAA+H8AAAAAAAD4fwAAAAAAAPh/AAAAAAAA+H8AAAAAAAD4fwAAAAAAAPh/AAAAAAAA+H8AAAAAAAD4fwAAAAAAAPh/AAAAAAAA+H8AAAAAAAD4fwAAAAAAAPh/AAAAAAAA+H8AAAAAAAD4fwAAAAAAAPh/AAAAAAAA+H8AAAAAAAD4fwAAAAAAAPh/AAAAAAAA+H8AAAAAAAD4fwAAAAAAAPh/AAAAAAAA+H8AAAAAAAD4fwAAAAAAAPh/AAAAAAAA+H8AAAAAAAD4fwAAAAAAAPh/AAAAAAAA+H8AAAAAAAD4fw==\",\"dtype\":\"float64\",\"order\":\"little\",\"shape\":[29]}},\"selected\":{\"id\":\"1479\"},\"selection_policy\":{\"id\":\"1480\"}},\"id\":\"1411\",\"type\":\"ColumnDataSource\"}],\"root_ids\":[\"1497\"]},\"title\":\"Bokeh Application\",\"version\":\"2.3.3\"}};\n",
              "  var render_items = [{\"docid\":\"7166653e-9df1-4b88-81e9-02a41ba98588\",\"root_ids\":[\"1497\"],\"roots\":{\"1497\":\"884f8f32-81bf-44ab-a4e1-961f2819b13e\"}}];\n",
              "  root.Bokeh.embed.embed_items_notebook(docs_json, render_items);\n",
              "\n",
              "  }\n",
              "  if (root.Bokeh !== undefined) {\n",
              "    embed_document(root);\n",
              "  } else {\n",
              "    var attempts = 0;\n",
              "    var timer = setInterval(function(root) {\n",
              "      if (root.Bokeh !== undefined) {\n",
              "        clearInterval(timer);\n",
              "        embed_document(root);\n",
              "      } else {\n",
              "        attempts++;\n",
              "        if (attempts > 100) {\n",
              "          clearInterval(timer);\n",
              "          console.log(\"Bokeh: ERROR: Unable to run BokehJS code because BokehJS library is missing\");\n",
              "        }\n",
              "      }\n",
              "    }, 10, root)\n",
              "  }\n",
              "})(window);"
            ],
            "application/vnd.bokehjs_exec.v0+json": ""
          },
          "metadata": {
            "application/vnd.bokehjs_exec.v0+json": {
              "id": "1497"
            }
          },
          "output_type": "display_data"
        },
        {
          "data": {
            "text/html": [
              "\n",
              "\n",
              "\n",
              "\n",
              "\n",
              "\n",
              "  <div class=\"bk-root\" id=\"6af7ef5a-ae94-46ff-8491-9b4b7c6f675a\" data-root-id=\"1873\"></div>\n"
            ]
          },
          "metadata": {},
          "output_type": "display_data"
        },
        {
          "data": {
            "application/javascript": [
              "(function(root) {\n",
              "  function embed_document(root) {\n",
              "    \n",
              "  var docs_json = {\"516b0aa3-0aab-460e-9923-27612fe672ab\":{\"defs\":[],\"roots\":{\"references\":[{\"attributes\":{\"children\":[{\"id\":\"1872\"},{\"id\":\"1870\"}]},\"id\":\"1873\",\"type\":\"Column\"},{\"attributes\":{\"source\":{\"id\":\"1782\"}},\"id\":\"1786\",\"type\":\"CDSView\"},{\"attributes\":{},\"id\":\"1849\",\"type\":\"Selection\"},{\"attributes\":{},\"id\":\"1775\",\"type\":\"NumeralTickFormatter\"},{\"attributes\":{\"fill_alpha\":{\"value\":0.1},\"fill_color\":{\"value\":\"blue\"},\"line_alpha\":{\"value\":0.1},\"top\":{\"field\":\"top\"},\"width\":{\"value\":0.8},\"x\":{\"field\":\"x\"}},\"id\":\"1829\",\"type\":\"VBar\"},{\"attributes\":{\"data_source\":{\"id\":\"1770\"},\"glyph\":{\"id\":\"1771\"},\"hover_glyph\":null,\"muted_glyph\":null,\"nonselection_glyph\":{\"id\":\"1772\"},\"view\":{\"id\":\"1774\"}},\"id\":\"1773\",\"type\":\"GlyphRenderer\"},{\"attributes\":{\"formatter\":{\"id\":\"1832\"},\"major_label_policy\":{\"id\":\"1862\"},\"ticker\":{\"id\":\"1805\"}},\"id\":\"1804\",\"type\":\"LinearAxis\"},{\"attributes\":{\"data_source\":{\"id\":\"1822\"},\"glyph\":{\"id\":\"1823\"},\"hover_glyph\":null,\"muted_glyph\":null,\"nonselection_glyph\":{\"id\":\"1824\"},\"view\":{\"id\":\"1826\"}},\"id\":\"1825\",\"type\":\"GlyphRenderer\"},{\"attributes\":{},\"id\":\"1844\",\"type\":\"UnionRenderers\"},{\"attributes\":{\"bottom\":{\"field\":\"bottom\"},\"fill_alpha\":{\"value\":0.1},\"fill_color\":{\"value\":\"blue\"},\"line_alpha\":{\"value\":0.1},\"line_color\":{\"value\":\"blue\"},\"top\":{\"field\":\"top\"},\"width\":{\"value\":0.8},\"x\":{\"field\":\"x\"}},\"id\":\"1772\",\"type\":\"VBar\"},{\"attributes\":{\"source\":{\"id\":\"1787\"}},\"id\":\"1791\",\"type\":\"CDSView\"},{\"attributes\":{\"line_color\":\"#1f77b4\",\"x\":{\"field\":\"x\"},\"y\":{\"field\":\"y\"}},\"id\":\"1778\",\"type\":\"Line\"},{\"attributes\":{},\"id\":\"1845\",\"type\":\"Selection\"},{\"attributes\":{},\"id\":\"1813\",\"type\":\"HelpTool\"},{\"attributes\":{},\"id\":\"1798\",\"type\":\"LinearScale\"},{\"attributes\":{},\"id\":\"1860\",\"type\":\"AllLabels\"},{\"attributes\":{},\"id\":\"1832\",\"type\":\"NumeralTickFormatter\"},{\"attributes\":{\"axis\":{\"id\":\"1804\"},\"dimension\":1,\"ticker\":null},\"id\":\"1807\",\"type\":\"Grid\"},{\"attributes\":{},\"id\":\"1843\",\"type\":\"Selection\"},{\"attributes\":{},\"id\":\"1838\",\"type\":\"AllLabels\"},{\"attributes\":{\"source\":{\"id\":\"1770\"}},\"id\":\"1774\",\"type\":\"CDSView\"},{\"attributes\":{\"bottom_units\":\"screen\",\"fill_alpha\":0.5,\"fill_color\":\"lightgrey\",\"left_units\":\"screen\",\"level\":\"overlay\",\"line_alpha\":1.0,\"line_color\":\"black\",\"line_dash\":[4,4],\"line_width\":2,\"right_units\":\"screen\",\"syncable\":false,\"top_units\":\"screen\"},\"id\":\"1814\",\"type\":\"BoxAnnotation\"},{\"attributes\":{\"line_alpha\":0.1,\"line_color\":\"#2ca02c\",\"x\":{\"field\":\"x\"},\"y\":{\"field\":\"y\"}},\"id\":\"1789\",\"type\":\"Line\"},{\"attributes\":{\"data_source\":{\"id\":\"1782\"},\"glyph\":{\"id\":\"1783\"},\"hover_glyph\":null,\"muted_glyph\":null,\"nonselection_glyph\":{\"id\":\"1784\"},\"view\":{\"id\":\"1786\"}},\"id\":\"1785\",\"type\":\"GlyphRenderer\"},{\"attributes\":{},\"id\":\"1850\",\"type\":\"UnionRenderers\"},{\"attributes\":{\"line_color\":\"#2ca02c\",\"x\":{\"field\":\"x\"},\"y\":{\"field\":\"y\"}},\"id\":\"1788\",\"type\":\"Line\"},{\"attributes\":{\"fill_color\":{\"value\":\"red\"},\"top\":{\"field\":\"top\"},\"width\":{\"value\":0.8},\"x\":{\"field\":\"x\"}},\"id\":\"1823\",\"type\":\"VBar\"},{\"attributes\":{\"data\":{\"x\":[0,1,2,3,4,5,6,7,8,9,10,11,12,13,14,15,16,17,18,19,20,21,22,23,24,25,26,27,28],\"y\":{\"__ndarray__\":\"AAAAAAAA+H8AAAAAAAD4fwAAAAAAAPh/AAAAAAAA+H8AAAAAAIz0QAAAAAAA8PRAAAAAAMBD9UAAAAAAgKH1QAAAAACA9vVAAAAAAIDs9UAAAAAAgKH1QAAAAACAdPVAAAAAAEBV9UAAAAAAQEH1QAAAAABAMvVAAAAAAEBp9UAAAAAAgGX1QAAAAACAUfVAAAAAAIAa9UAAAAAAgN70QAAAAACAjvRAAAAAAMBx9EAAAAAAQGX0QAAAAABAVvRAAAAAAABp9EAAAAAAAGn0QAAAAADAU/RAAAAAAEAu9EAAAAAAgEP0QA==\",\"dtype\":\"float64\",\"order\":\"little\",\"shape\":[29]}},\"selected\":{\"id\":\"1851\"},\"selection_policy\":{\"id\":\"1852\"}},\"id\":\"1777\",\"type\":\"ColumnDataSource\"},{\"attributes\":{},\"id\":\"1847\",\"type\":\"Selection\"},{\"attributes\":{},\"id\":\"1865\",\"type\":\"Selection\"},{\"attributes\":{\"range_padding\":0},\"id\":\"1794\",\"type\":\"DataRange1d\"},{\"attributes\":{},\"id\":\"1840\",\"type\":\"AllLabels\"},{\"attributes\":{},\"id\":\"1851\",\"type\":\"Selection\"},{\"attributes\":{\"data_source\":{\"id\":\"1787\"},\"glyph\":{\"id\":\"1788\"},\"hover_glyph\":null,\"muted_glyph\":null,\"nonselection_glyph\":{\"id\":\"1789\"},\"view\":{\"id\":\"1791\"}},\"id\":\"1790\",\"type\":\"GlyphRenderer\"},{\"attributes\":{\"toolbar\":{\"id\":\"1871\"},\"toolbar_location\":\"above\"},\"id\":\"1872\",\"type\":\"ToolbarBox\"},{\"attributes\":{},\"id\":\"1801\",\"type\":\"BasicTicker\"},{\"attributes\":{},\"id\":\"1868\",\"type\":\"UnionRenderers\"},{\"attributes\":{},\"id\":\"1809\",\"type\":\"WheelZoomTool\"},{\"attributes\":{\"overlay\":{\"id\":\"1814\"}},\"id\":\"1810\",\"type\":\"BoxZoomTool\"},{\"attributes\":{},\"id\":\"1812\",\"type\":\"ResetTool\"},{\"attributes\":{},\"id\":\"1811\",\"type\":\"SaveTool\"},{\"attributes\":{\"data\":{\"x\":[0,1,2,3,4,5,6,7,8,9,10,11,12,13,14,15,16,17,18,19,20,21,22,23,24,25,26,27,28],\"y\":{\"__ndarray__\":\"AAAAAAAA+H8AAAAAAAD4fwAAAAAAAPh/AAAAAAAA+H8AAAAAAAD4fwAAAAAAAPh/AAAAAAAA+H8AAAAAAAD4fwAAAAAAAPh/AAAAAAAA+H8AAAAAAAD4fwAAAAAAAPh/AAAAAAAA+H8AAAAAAAD4fwAAAAAAAPh/AAAAAAAA+H8AAAAAAAD4fwAAAAAAAPh/AAAAAAAA+H8AAAAAAAD4fwAAAAAAAPh/AAAAAAAA+H8AAAAAAAD4fwAAAAAAAPh/AAAAAAAA+H8AAAAAAAD4fwAAAAAAAPh/AAAAAAAA+H8AAAAAAAD4fw==\",\"dtype\":\"float64\",\"order\":\"little\",\"shape\":[29]}},\"selected\":{\"id\":\"1855\"},\"selection_policy\":{\"id\":\"1856\"}},\"id\":\"1787\",\"type\":\"ColumnDataSource\"},{\"attributes\":{\"data\":{\"top\":[42089013,59013307,90306177,33431809,43227951,25318011,30861661,33178936,31859808,39615978,24171688,20898332,23025766,23529706],\"x\":[2,4,5,9,10,13,14,16,18,19,23,26,27,28]},\"selected\":{\"id\":\"1865\"},\"selection_policy\":{\"id\":\"1866\"}},\"id\":\"1822\",\"type\":\"ColumnDataSource\"},{\"attributes\":{},\"id\":\"1796\",\"type\":\"LinearScale\"},{\"attributes\":{\"source\":{\"id\":\"1827\"}},\"id\":\"1831\",\"type\":\"CDSView\"},{\"attributes\":{\"bottom\":{\"field\":\"bottom\"},\"fill_color\":{\"value\":\"blue\"},\"line_color\":{\"value\":\"blue\"},\"top\":{\"field\":\"top\"},\"width\":{\"value\":0.8},\"x\":{\"field\":\"x\"}},\"id\":\"1771\",\"type\":\"VBar\"},{\"attributes\":{\"fill_color\":{\"value\":\"blue\"},\"top\":{\"field\":\"top\"},\"width\":{\"value\":0.8},\"x\":{\"field\":\"x\"}},\"id\":\"1828\",\"type\":\"VBar\"},{\"attributes\":{},\"id\":\"1866\",\"type\":\"UnionRenderers\"},{\"attributes\":{\"data_source\":{\"id\":\"1827\"},\"glyph\":{\"id\":\"1828\"},\"hover_glyph\":null,\"muted_glyph\":null,\"nonselection_glyph\":{\"id\":\"1829\"},\"view\":{\"id\":\"1831\"}},\"id\":\"1830\",\"type\":\"GlyphRenderer\"},{\"attributes\":{\"source\":{\"id\":\"1822\"}},\"id\":\"1826\",\"type\":\"CDSView\"},{\"attributes\":{},\"id\":\"1846\",\"type\":\"UnionRenderers\"},{\"attributes\":{\"days\":[\"%Y-%m-%d\"],\"hours\":[\"%H:%M\"]},\"id\":\"1834\",\"type\":\"DatetimeTickFormatter\"},{\"attributes\":{\"data\":{\"top\":[35335669,32644642,48682416,36068848,26393970,39895044,25211127,27258534,26423070,28046832,26302077,22112205,18036835,15338765],\"x\":[1,3,6,7,8,11,12,15,17,20,21,22,24,25]},\"selected\":{\"id\":\"1867\"},\"selection_policy\":{\"id\":\"1868\"}},\"id\":\"1827\",\"type\":\"ColumnDataSource\"},{\"attributes\":{\"active_multi\":null,\"tools\":[{\"id\":\"1808\"},{\"id\":\"1809\"},{\"id\":\"1810\"},{\"id\":\"1811\"},{\"id\":\"1812\"},{\"id\":\"1813\"}]},\"id\":\"1815\",\"type\":\"Toolbar\"},{\"attributes\":{},\"id\":\"1852\",\"type\":\"UnionRenderers\"},{\"attributes\":{},\"id\":\"1808\",\"type\":\"PanTool\"},{\"attributes\":{},\"id\":\"1805\",\"type\":\"BasicTicker\"},{\"attributes\":{\"formatter\":{\"id\":\"1834\"},\"major_label_orientation\":0.6283185307179586,\"major_label_overrides\":{\"0\":\"2021-01-04\",\"1\":\"2021-01-05\",\"10\":\"2021-01-18\",\"11\":\"2021-01-19\",\"12\":\"2021-01-20\",\"13\":\"2021-01-21\",\"14\":\"2021-01-22\",\"15\":\"2021-01-25\",\"16\":\"2021-01-26\",\"17\":\"2021-01-27\",\"18\":\"2021-01-28\",\"19\":\"2021-01-29\",\"2\":\"2021-01-06\",\"20\":\"2021-02-01\",\"21\":\"2021-02-02\",\"22\":\"2021-02-03\",\"23\":\"2021-02-04\",\"24\":\"2021-02-05\",\"25\":\"2021-02-08\",\"26\":\"2021-02-09\",\"27\":\"2021-02-10\",\"28\":\"2021-02-15\",\"29\":\"\",\"3\":\"2021-01-07\",\"4\":\"2021-01-08\",\"5\":\"2021-01-11\",\"6\":\"2021-01-12\",\"7\":\"2021-01-13\",\"8\":\"2021-01-14\",\"9\":\"2021-01-15\"},\"major_label_policy\":{\"id\":\"1860\"},\"ticker\":{\"id\":\"1801\"}},\"id\":\"1800\",\"type\":\"LinearAxis\"},{\"attributes\":{},\"id\":\"1837\",\"type\":\"BasicTickFormatter\"},{\"attributes\":{\"data\":{\"bottom\":[82200,89700,88000,85000,87200,86800,86700,85600,82000,84600,82500,83000,82700,81600],\"top\":[83300,89800,89800,86600,89000,89000,88800,86600,84500,84800,83500,83800,84000,82600],\"x\":[2,7,9,10,12,14,16,17,19,22,23,25,26,27]},\"selected\":{\"id\":\"1849\"},\"selection_policy\":{\"id\":\"1850\"}},\"id\":\"1770\",\"type\":\"ColumnDataSource\"},{\"attributes\":{\"fill_alpha\":{\"value\":0.1},\"fill_color\":{\"value\":\"red\"},\"line_alpha\":{\"value\":0.1},\"top\":{\"field\":\"top\"},\"width\":{\"value\":0.8},\"x\":{\"field\":\"x\"}},\"id\":\"1824\",\"type\":\"VBar\"},{\"attributes\":{\"axis\":{\"id\":\"1800\"},\"ticker\":null},\"id\":\"1803\",\"type\":\"Grid\"},{\"attributes\":{},\"id\":\"1867\",\"type\":\"Selection\"},{\"attributes\":{\"text\":\"fdr.chart.config()\\ub97c \\uc0ac\\uc6a9\\ud558\\uc5ec \\uc124\\uc815\\uc744 \\ud55c\\ubc88\\uc5d0 \\uc9c0\\uc815\\ud560 \\uc218 \\uc788\\uc2b5\\ub2c8\\ub2e4\"},\"id\":\"1723\",\"type\":\"Title\"},{\"attributes\":{\"data\":{\"x0\":[2,7,9,10,12,14,16,17,19,22,23,25,26,27],\"x1\":[2,7,9,10,12,14,16,17,19,22,23,25,26,27],\"y0\":[84500,91200,91800,87300,89000,89700,89200,87700,85000,85400,83800,84200,84800,82600],\"y1\":[82100,89100,88000,84100,86500,86800,86500,85600,82000,83400,82100,83000,82700,81600]},\"selected\":{\"id\":\"1845\"},\"selection_policy\":{\"id\":\"1846\"}},\"id\":\"1760\",\"type\":\"ColumnDataSource\"},{\"attributes\":{\"data\":{\"x0\":[0,1,3,4,5,6,8,11,13,15,18,20,21,24,28],\"x1\":[0,1,3,4,5,6,8,11,13,15,18,20,21,24,28],\"y0\":[84400,83900,84200,90000,96800,91400,90000,88000,88600,89900,85600,83400,86400,84000,84500],\"y1\":[80200,81600,82700,83000,89500,87800,88700,83600,86500,86300,83200,81000,83700,82500,83300]},\"selected\":{\"id\":\"1843\"},\"selection_policy\":{\"id\":\"1844\"}},\"id\":\"1755\",\"type\":\"ColumnDataSource\"},{\"attributes\":{\"below\":[{\"id\":\"1800\"}],\"center\":[{\"id\":\"1803\"},{\"id\":\"1807\"}],\"height\":90,\"left\":[{\"id\":\"1804\"}],\"renderers\":[{\"id\":\"1825\"},{\"id\":\"1830\"}],\"title\":{\"id\":\"1859\"},\"toolbar\":{\"id\":\"1815\"},\"toolbar_location\":null,\"x_range\":{\"id\":\"1725\"},\"x_scale\":{\"id\":\"1796\"},\"y_range\":{\"id\":\"1794\"},\"y_scale\":{\"id\":\"1798\"}},\"id\":\"1792\",\"subtype\":\"Figure\",\"type\":\"Plot\"},{\"attributes\":{\"data_source\":{\"id\":\"1760\"},\"glyph\":{\"id\":\"1761\"},\"hover_glyph\":null,\"muted_glyph\":null,\"nonselection_glyph\":{\"id\":\"1762\"},\"view\":{\"id\":\"1764\"}},\"id\":\"1763\",\"type\":\"GlyphRenderer\"},{\"attributes\":{\"end\":96800,\"start\":80200},\"id\":\"1727\",\"type\":\"Range1d\"},{\"attributes\":{\"formatter\":{\"id\":\"1837\"},\"major_label_policy\":{\"id\":\"1838\"},\"ticker\":{\"id\":\"1734\"},\"visible\":false},\"id\":\"1733\",\"type\":\"LinearAxis\"},{\"attributes\":{},\"id\":\"1731\",\"type\":\"LinearScale\"},{\"attributes\":{\"data_source\":{\"id\":\"1777\"},\"glyph\":{\"id\":\"1778\"},\"hover_glyph\":null,\"muted_glyph\":null,\"nonselection_glyph\":{\"id\":\"1779\"},\"view\":{\"id\":\"1781\"}},\"id\":\"1780\",\"type\":\"GlyphRenderer\"},{\"attributes\":{},\"id\":\"1734\",\"type\":\"BasicTicker\"},{\"attributes\":{},\"id\":\"1742\",\"type\":\"WheelZoomTool\"},{\"attributes\":{\"line_color\":\"#ff7f0e\",\"x\":{\"field\":\"x\"},\"y\":{\"field\":\"y\"}},\"id\":\"1783\",\"type\":\"Line\"},{\"attributes\":{},\"id\":\"1853\",\"type\":\"Selection\"},{\"attributes\":{\"formatter\":{\"id\":\"1775\"},\"major_label_policy\":{\"id\":\"1840\"},\"ticker\":{\"id\":\"1738\"}},\"id\":\"1737\",\"type\":\"LinearAxis\"},{\"attributes\":{\"source\":{\"id\":\"1777\"}},\"id\":\"1781\",\"type\":\"CDSView\"},{\"attributes\":{},\"id\":\"1745\",\"type\":\"ResetTool\"},{\"attributes\":{\"bottom\":{\"field\":\"bottom\"},\"fill_color\":{\"value\":\"red\"},\"line_color\":{\"value\":\"red\"},\"top\":{\"field\":\"top\"},\"width\":{\"value\":0.8},\"x\":{\"field\":\"x\"}},\"id\":\"1766\",\"type\":\"VBar\"},{\"attributes\":{},\"id\":\"1848\",\"type\":\"UnionRenderers\"},{\"attributes\":{\"below\":[{\"id\":\"1733\"}],\"center\":[{\"id\":\"1736\"},{\"id\":\"1740\"}],\"height\":210,\"left\":[{\"id\":\"1737\"}],\"renderers\":[{\"id\":\"1758\"},{\"id\":\"1763\"},{\"id\":\"1768\"},{\"id\":\"1773\"},{\"id\":\"1780\"},{\"id\":\"1785\"},{\"id\":\"1790\"}],\"title\":{\"id\":\"1723\"},\"toolbar\":{\"id\":\"1748\"},\"toolbar_location\":null,\"x_range\":{\"id\":\"1725\"},\"x_scale\":{\"id\":\"1729\"},\"y_range\":{\"id\":\"1727\"},\"y_scale\":{\"id\":\"1731\"}},\"id\":\"1722\",\"subtype\":\"Figure\",\"type\":\"Plot\"},{\"attributes\":{\"overlay\":{\"id\":\"1747\"}},\"id\":\"1743\",\"type\":\"BoxZoomTool\"},{\"attributes\":{\"children\":[[{\"id\":\"1722\"},0,0],[{\"id\":\"1792\"},1,0]]},\"id\":\"1870\",\"type\":\"GridBox\"},{\"attributes\":{\"axis\":{\"id\":\"1733\"},\"ticker\":null},\"id\":\"1736\",\"type\":\"Grid\"},{\"attributes\":{\"data_source\":{\"id\":\"1755\"},\"glyph\":{\"id\":\"1756\"},\"hover_glyph\":null,\"muted_glyph\":null,\"nonselection_glyph\":{\"id\":\"1757\"},\"view\":{\"id\":\"1759\"}},\"id\":\"1758\",\"type\":\"GlyphRenderer\"},{\"attributes\":{},\"id\":\"1744\",\"type\":\"SaveTool\"},{\"attributes\":{\"data\":{\"bottom\":[83000,83900,82900,88800,91000,90600,89700,87000,88100,89400,83700,83000,84400,83500,84200],\"top\":[81000,81600,82800,83300,90000,90300,88700,84500,87500,87000,83200,81700,84100,83100,83800],\"x\":[0,1,3,4,5,6,8,11,13,15,18,20,21,24,28]},\"selected\":{\"id\":\"1847\"},\"selection_policy\":{\"id\":\"1848\"}},\"id\":\"1765\",\"type\":\"ColumnDataSource\"},{\"attributes\":{},\"id\":\"1855\",\"type\":\"Selection\"},{\"attributes\":{\"line_alpha\":0.1,\"line_color\":\"#ff7f0e\",\"x\":{\"field\":\"x\"},\"y\":{\"field\":\"y\"}},\"id\":\"1784\",\"type\":\"Line\"},{\"attributes\":{\"data\":{\"x\":[0,1,2,3,4,5,6,7,8,9,10,11,12,13,14,15,16,17,18,19,20,21,22,23,24,25,26,27,28],\"y\":{\"__ndarray__\":\"AAAAAAAA+H8AAAAAAAD4fwAAAAAAAPh/AAAAAAAA+H8AAAAAAAD4fwAAAAAAAPh/AAAAAAAA+H8AAAAAAAD4fwAAAAAAAPh/AAAAAAAA+H8AAAAAAAD4fwAAAAAAAPh/AAAAAAAA+H8AAAAAAAD4fwAAAAAAAPh/AAAAAAAA+H8AAAAAAAD4fwAAAAAAAPh/AAAAAAAA+H8AAAAAUCL1QAAAAABQIvVAAAAAAOAj9UAAAAAAYCv1QAAAAAAgKvVAAAAAAJAZ9UAAAAAAkAD1QAAAAADg5/RAAAAAAJDO9EAAAAAAYL30QA==\",\"dtype\":\"float64\",\"order\":\"little\",\"shape\":[29]}},\"selected\":{\"id\":\"1853\"},\"selection_policy\":{\"id\":\"1854\"}},\"id\":\"1782\",\"type\":\"ColumnDataSource\"},{\"attributes\":{},\"id\":\"1854\",\"type\":\"UnionRenderers\"},{\"attributes\":{\"active_multi\":null,\"tools\":[{\"id\":\"1741\"},{\"id\":\"1742\"},{\"id\":\"1743\"},{\"id\":\"1744\"},{\"id\":\"1745\"},{\"id\":\"1746\"}]},\"id\":\"1748\",\"type\":\"Toolbar\"},{\"attributes\":{\"line_color\":{\"value\":\"blue\"},\"x0\":{\"field\":\"x0\"},\"x1\":{\"field\":\"x1\"},\"y0\":{\"field\":\"y0\"},\"y1\":{\"field\":\"y1\"}},\"id\":\"1761\",\"type\":\"Segment\"},{\"attributes\":{\"source\":{\"id\":\"1755\"}},\"id\":\"1759\",\"type\":\"CDSView\"},{\"attributes\":{},\"id\":\"1741\",\"type\":\"PanTool\"},{\"attributes\":{},\"id\":\"1859\",\"type\":\"Title\"},{\"attributes\":{\"bottom\":{\"field\":\"bottom\"},\"fill_alpha\":{\"value\":0.1},\"fill_color\":{\"value\":\"red\"},\"line_alpha\":{\"value\":0.1},\"line_color\":{\"value\":\"red\"},\"top\":{\"field\":\"top\"},\"width\":{\"value\":0.8},\"x\":{\"field\":\"x\"}},\"id\":\"1767\",\"type\":\"VBar\"},{\"attributes\":{\"line_color\":{\"value\":\"red\"},\"x0\":{\"field\":\"x0\"},\"x1\":{\"field\":\"x1\"},\"y0\":{\"field\":\"y0\"},\"y1\":{\"field\":\"y1\"}},\"id\":\"1756\",\"type\":\"Segment\"},{\"attributes\":{\"toolbars\":[{\"id\":\"1748\"},{\"id\":\"1815\"}],\"tools\":[{\"id\":\"1741\"},{\"id\":\"1742\"},{\"id\":\"1743\"},{\"id\":\"1744\"},{\"id\":\"1745\"},{\"id\":\"1746\"},{\"id\":\"1808\"},{\"id\":\"1809\"},{\"id\":\"1810\"},{\"id\":\"1811\"},{\"id\":\"1812\"},{\"id\":\"1813\"}]},\"id\":\"1871\",\"type\":\"ProxyToolbar\"},{\"attributes\":{\"source\":{\"id\":\"1760\"}},\"id\":\"1764\",\"type\":\"CDSView\"},{\"attributes\":{},\"id\":\"1729\",\"type\":\"LinearScale\"},{\"attributes\":{},\"id\":\"1856\",\"type\":\"UnionRenderers\"},{\"attributes\":{\"line_alpha\":{\"value\":0.1},\"line_color\":{\"value\":\"red\"},\"x0\":{\"field\":\"x0\"},\"x1\":{\"field\":\"x1\"},\"y0\":{\"field\":\"y0\"},\"y1\":{\"field\":\"y1\"}},\"id\":\"1757\",\"type\":\"Segment\"},{\"attributes\":{},\"id\":\"1738\",\"type\":\"BasicTicker\"},{\"attributes\":{},\"id\":\"1862\",\"type\":\"AllLabels\"},{\"attributes\":{\"line_alpha\":0.1,\"line_color\":\"#1f77b4\",\"x\":{\"field\":\"x\"},\"y\":{\"field\":\"y\"}},\"id\":\"1779\",\"type\":\"Line\"},{\"attributes\":{},\"id\":\"1746\",\"type\":\"HelpTool\"},{\"attributes\":{\"data_source\":{\"id\":\"1765\"},\"glyph\":{\"id\":\"1766\"},\"hover_glyph\":null,\"muted_glyph\":null,\"nonselection_glyph\":{\"id\":\"1767\"},\"view\":{\"id\":\"1769\"}},\"id\":\"1768\",\"type\":\"GlyphRenderer\"},{\"attributes\":{\"source\":{\"id\":\"1765\"}},\"id\":\"1769\",\"type\":\"CDSView\"},{\"attributes\":{\"bottom_units\":\"screen\",\"fill_alpha\":0.5,\"fill_color\":\"lightgrey\",\"left_units\":\"screen\",\"level\":\"overlay\",\"line_alpha\":1.0,\"line_color\":\"black\",\"line_dash\":[4,4],\"line_width\":2,\"right_units\":\"screen\",\"syncable\":false,\"top_units\":\"screen\"},\"id\":\"1747\",\"type\":\"BoxAnnotation\"},{\"attributes\":{\"axis\":{\"id\":\"1737\"},\"dimension\":1,\"ticker\":null},\"id\":\"1740\",\"type\":\"Grid\"},{\"attributes\":{\"line_alpha\":{\"value\":0.1},\"line_color\":{\"value\":\"blue\"},\"x0\":{\"field\":\"x0\"},\"x1\":{\"field\":\"x1\"},\"y0\":{\"field\":\"y0\"},\"y1\":{\"field\":\"y1\"}},\"id\":\"1762\",\"type\":\"Segment\"},{\"attributes\":{\"end\":29,\"start\":-1},\"id\":\"1725\",\"type\":\"Range1d\"}],\"root_ids\":[\"1873\"]},\"title\":\"Bokeh Application\",\"version\":\"2.3.3\"}};\n",
              "  var render_items = [{\"docid\":\"516b0aa3-0aab-460e-9923-27612fe672ab\",\"root_ids\":[\"1873\"],\"roots\":{\"1873\":\"6af7ef5a-ae94-46ff-8491-9b4b7c6f675a\"}}];\n",
              "  root.Bokeh.embed.embed_items_notebook(docs_json, render_items);\n",
              "\n",
              "  }\n",
              "  if (root.Bokeh !== undefined) {\n",
              "    embed_document(root);\n",
              "  } else {\n",
              "    var attempts = 0;\n",
              "    var timer = setInterval(function(root) {\n",
              "      if (root.Bokeh !== undefined) {\n",
              "        clearInterval(timer);\n",
              "        embed_document(root);\n",
              "      } else {\n",
              "        attempts++;\n",
              "        if (attempts > 100) {\n",
              "          clearInterval(timer);\n",
              "          console.log(\"Bokeh: ERROR: Unable to run BokehJS code because BokehJS library is missing\");\n",
              "        }\n",
              "      }\n",
              "    }, 10, root)\n",
              "  }\n",
              "})(window);"
            ],
            "application/vnd.bokehjs_exec.v0+json": ""
          },
          "metadata": {
            "application/vnd.bokehjs_exec.v0+json": {
              "id": "1873"
            }
          },
          "output_type": "display_data"
        }
      ]
    },
    {
      "cell_type": "code",
      "metadata": {
        "colab": {
          "background_save": true
        },
        "id": "fqaJI4ZliggY"
      },
      "source": [
        "# 먼저 필요한 library를 불러오자\n",
        "import FinanceDataReader as fdr \n",
        "import seaborn as sns\n",
        "import math\n",
        "import pandas_datareader as pdr\n",
        "import numpy as np\n",
        "import pandas as pd\n",
        "import matplotlib.pyplot as plt\n",
        "plt.style.use('fivethirtyeight')\n",
        "%matplotlib inline\n",
        "from datetime import datetime"
      ],
      "execution_count": null,
      "outputs": []
    },
    {
      "cell_type": "code",
      "metadata": {
        "colab": {
          "background_save": true
        },
        "id": "M0nBS3YriggY",
        "outputId": "2c17cfbc-ae3f-466a-80b0-e09785de9559"
      },
      "source": [
        "# 주가 데이터를 불러오자  \n",
        "# (yahoo finance open API, 공식적으로 없어졌지만, 비공식적으로 서비스는 제공되고 있음)\n",
        "\n",
        "end = datetime.today()\n",
        "start = datetime(2000,1,1)\n",
        "\n",
        "kospi = pdr.DataReader('^KS11',start,end) # KOSPI\n",
        "ss_yh = pdr.DataReader('005930.KS','yahoo',start,end) # YAHOO: amsung Electronics Co., Ltd. (원화 표시 KRW)\n",
        "ss_f = fdr.DataReader('005930', start, end) # FDR: Samsung Electronics Co., Ltd. (원화 표시 KRW)\n",
        "hm = pdr.DataReader('005380.KS','yahoo',start,end) # Hyundai Motor Company (원화 표시 KRW)\n",
        "dm = pdr.DataReader('035720.KS', 'yahoo', start, end) # 다음 커뮤니케이션 \n",
        "\n",
        "\n",
        "snp = pdr.DataReader('^GSPC','yahoo',start,end) #S&P500\n",
        "nikkei = pdr.DataReader('^N225','yahoo',start,end) # Nikkei 225\n",
        "euronext = pdr.DataReader('^N100','yahoo',start,end) # EURONEXT 100\n",
        "vix = pdr.DataReader('^VIX','yahoo',start,end) # VIX\n",
        "\n",
        "kospi.head() "
      ],
      "execution_count": null,
      "outputs": [
        {
          "ename": "NotImplementedError",
          "evalue": "ignored",
          "output_type": "error",
          "traceback": [
            "\u001b[0;31m---------------------------------------------------------------------------\u001b[0m",
            "\u001b[0;31mNotImplementedError\u001b[0m                       Traceback (most recent call last)",
            "\u001b[0;32m<ipython-input-6-ab938cdc6d27>\u001b[0m in \u001b[0;36m<module>\u001b[0;34m()\u001b[0m\n\u001b[1;32m      5\u001b[0m \u001b[0mstart\u001b[0m \u001b[0;34m=\u001b[0m \u001b[0mdatetime\u001b[0m\u001b[0;34m(\u001b[0m\u001b[0;36m2000\u001b[0m\u001b[0;34m,\u001b[0m\u001b[0;36m1\u001b[0m\u001b[0;34m,\u001b[0m\u001b[0;36m1\u001b[0m\u001b[0;34m)\u001b[0m\u001b[0;34m\u001b[0m\u001b[0;34m\u001b[0m\u001b[0m\n\u001b[1;32m      6\u001b[0m \u001b[0;34m\u001b[0m\u001b[0m\n\u001b[0;32m----> 7\u001b[0;31m \u001b[0mkospi\u001b[0m \u001b[0;34m=\u001b[0m \u001b[0mpdr\u001b[0m\u001b[0;34m.\u001b[0m\u001b[0mDataReader\u001b[0m\u001b[0;34m(\u001b[0m\u001b[0;34m'^KS11'\u001b[0m\u001b[0;34m,\u001b[0m\u001b[0mstart\u001b[0m\u001b[0;34m,\u001b[0m\u001b[0mend\u001b[0m\u001b[0;34m)\u001b[0m \u001b[0;31m# KOSPI\u001b[0m\u001b[0;34m\u001b[0m\u001b[0;34m\u001b[0m\u001b[0m\n\u001b[0m\u001b[1;32m      8\u001b[0m \u001b[0mss_yh\u001b[0m \u001b[0;34m=\u001b[0m \u001b[0mpdr\u001b[0m\u001b[0;34m.\u001b[0m\u001b[0mDataReader\u001b[0m\u001b[0;34m(\u001b[0m\u001b[0;34m'005930.KS'\u001b[0m\u001b[0;34m,\u001b[0m\u001b[0;34m'yahoo'\u001b[0m\u001b[0;34m,\u001b[0m\u001b[0mstart\u001b[0m\u001b[0;34m,\u001b[0m\u001b[0mend\u001b[0m\u001b[0;34m)\u001b[0m \u001b[0;31m# YAHOO: amsung Electronics Co., Ltd. (원화 표시 KRW)\u001b[0m\u001b[0;34m\u001b[0m\u001b[0;34m\u001b[0m\u001b[0m\n\u001b[1;32m      9\u001b[0m \u001b[0mss_f\u001b[0m \u001b[0;34m=\u001b[0m \u001b[0mfdr\u001b[0m\u001b[0;34m.\u001b[0m\u001b[0mDataReader\u001b[0m\u001b[0;34m(\u001b[0m\u001b[0;34m'005930'\u001b[0m\u001b[0;34m,\u001b[0m \u001b[0mstart\u001b[0m\u001b[0;34m,\u001b[0m \u001b[0mend\u001b[0m\u001b[0;34m)\u001b[0m \u001b[0;31m# FDR: Samsung Electronics Co., Ltd. (원화 표시 KRW)\u001b[0m\u001b[0;34m\u001b[0m\u001b[0;34m\u001b[0m\u001b[0m\n",
            "\u001b[0;32m/usr/local/lib/python3.7/dist-packages/pandas/util/_decorators.py\u001b[0m in \u001b[0;36mwrapper\u001b[0;34m(*args, **kwargs)\u001b[0m\n\u001b[1;32m    197\u001b[0m                 \u001b[0;32melse\u001b[0m\u001b[0;34m:\u001b[0m\u001b[0;34m\u001b[0m\u001b[0;34m\u001b[0m\u001b[0m\n\u001b[1;32m    198\u001b[0m                     \u001b[0mkwargs\u001b[0m\u001b[0;34m[\u001b[0m\u001b[0mnew_arg_name\u001b[0m\u001b[0;34m]\u001b[0m \u001b[0;34m=\u001b[0m \u001b[0mnew_arg_value\u001b[0m\u001b[0;34m\u001b[0m\u001b[0;34m\u001b[0m\u001b[0m\n\u001b[0;32m--> 199\u001b[0;31m             \u001b[0;32mreturn\u001b[0m \u001b[0mfunc\u001b[0m\u001b[0;34m(\u001b[0m\u001b[0;34m*\u001b[0m\u001b[0margs\u001b[0m\u001b[0;34m,\u001b[0m \u001b[0;34m**\u001b[0m\u001b[0mkwargs\u001b[0m\u001b[0;34m)\u001b[0m\u001b[0;34m\u001b[0m\u001b[0;34m\u001b[0m\u001b[0m\n\u001b[0m\u001b[1;32m    200\u001b[0m \u001b[0;34m\u001b[0m\u001b[0m\n\u001b[1;32m    201\u001b[0m         \u001b[0;32mreturn\u001b[0m \u001b[0mcast\u001b[0m\u001b[0;34m(\u001b[0m\u001b[0mF\u001b[0m\u001b[0;34m,\u001b[0m \u001b[0mwrapper\u001b[0m\u001b[0;34m)\u001b[0m\u001b[0;34m\u001b[0m\u001b[0;34m\u001b[0m\u001b[0m\n",
            "\u001b[0;32m/usr/local/lib/python3.7/dist-packages/pandas_datareader/data.py\u001b[0m in \u001b[0;36mDataReader\u001b[0;34m(name, data_source, start, end, retry_count, pause, session, api_key)\u001b[0m\n\u001b[1;32m    371\u001b[0m     \u001b[0;32mif\u001b[0m \u001b[0mdata_source\u001b[0m \u001b[0;32mnot\u001b[0m \u001b[0;32min\u001b[0m \u001b[0mexpected_source\u001b[0m\u001b[0;34m:\u001b[0m\u001b[0;34m\u001b[0m\u001b[0;34m\u001b[0m\u001b[0m\n\u001b[1;32m    372\u001b[0m         \u001b[0mmsg\u001b[0m \u001b[0;34m=\u001b[0m \u001b[0;34m\"data_source=%r is not implemented\"\u001b[0m \u001b[0;34m%\u001b[0m \u001b[0mdata_source\u001b[0m\u001b[0;34m\u001b[0m\u001b[0;34m\u001b[0m\u001b[0m\n\u001b[0;32m--> 373\u001b[0;31m         \u001b[0;32mraise\u001b[0m \u001b[0mNotImplementedError\u001b[0m\u001b[0;34m(\u001b[0m\u001b[0mmsg\u001b[0m\u001b[0;34m)\u001b[0m\u001b[0;34m\u001b[0m\u001b[0;34m\u001b[0m\u001b[0m\n\u001b[0m\u001b[1;32m    374\u001b[0m \u001b[0;34m\u001b[0m\u001b[0m\n\u001b[1;32m    375\u001b[0m     \u001b[0;32mif\u001b[0m \u001b[0mdata_source\u001b[0m \u001b[0;34m==\u001b[0m \u001b[0;34m\"yahoo\"\u001b[0m\u001b[0;34m:\u001b[0m\u001b[0;34m\u001b[0m\u001b[0;34m\u001b[0m\u001b[0m\n",
            "\u001b[0;31mNotImplementedError\u001b[0m: data_source=datetime.datetime(2000, 1, 1, 0, 0) is not implemented"
          ]
        }
      ]
    },
    {
      "cell_type": "markdown",
      "metadata": {
        "id": "PLyqAyl8igga"
      },
      "source": [
        "### Finance-datareader와 yahoo finance 데이터 셋 비교"
      ]
    },
    {
      "cell_type": "code",
      "metadata": {
        "colab": {
          "background_save": true
        },
        "id": "aEfChBvxigga"
      },
      "source": [
        "ss_yh.head()"
      ],
      "execution_count": null,
      "outputs": []
    },
    {
      "cell_type": "code",
      "metadata": {
        "colab": {
          "background_save": true
        },
        "id": "ljBlhcJNiggb"
      },
      "source": [
        "ss_f.head()"
      ],
      "execution_count": null,
      "outputs": []
    },
    {
      "cell_type": "code",
      "metadata": {
        "colab": {
          "background_save": true
        },
        "id": "FHrNmWm0iggb"
      },
      "source": [
        "ss1=ss_yh[['Close']]\n",
        "plt.plot(ss1)"
      ],
      "execution_count": null,
      "outputs": []
    },
    {
      "cell_type": "code",
      "metadata": {
        "colab": {
          "background_save": true
        },
        "id": "-3-ZC-LAiggc"
      },
      "source": [
        "ss1a=ss_yh[['Adj Close']]\n",
        "plt.plot(ss1a)"
      ],
      "execution_count": null,
      "outputs": []
    },
    {
      "cell_type": "code",
      "metadata": {
        "colab": {
          "background_save": true
        },
        "id": "U8V0U5uMiggc"
      },
      "source": [
        "ss2=ss_f[['Close']]\n",
        "plt.plot(ss2)"
      ],
      "execution_count": null,
      "outputs": []
    },
    {
      "cell_type": "code",
      "metadata": {
        "colab": {
          "background_save": true
        },
        "id": "Cun2LG-xiggd"
      },
      "source": [
        "# Close price가 동일한 것으로 확인되었으니, 삼성전자 주가는 Close price를 사용하도록 해요 \n",
        "\n",
        "ss = ss_yh\n",
        "ss.head()"
      ],
      "execution_count": null,
      "outputs": []
    },
    {
      "cell_type": "markdown",
      "metadata": {
        "id": "bLFGCO3riggd"
      },
      "source": [
        "### 데이터 셋 정리 (인덱스, 개별 주식)"
      ]
    },
    {
      "cell_type": "code",
      "metadata": {
        "colab": {
          "background_save": true
        },
        "id": "c6X8hsMtiggd"
      },
      "source": [
        "# Adjusted Cloase Price만을 따로 모아보아요. \n",
        "eqt1 = pd.merge(snp['Adj Close'].to_frame(), kospi['Adj Close'].to_frame(),left_index=True, right_index=True, how='inner')\n",
        "eqt1.columns=['SP500','KOSPI'] \n",
        "\n",
        "eqt2 = pd.merge(ss['Close'].to_frame(), hm['Adj Close'].to_frame(),left_index=True, right_index=True, how='inner') # 삼성전자는  Close price 사용 \n",
        "eqt2.columns=['ss','hm'] \n",
        "\n",
        "eqt3 = pd.merge(nikkei['Adj Close'].to_frame(), euronext['Adj Close'].to_frame(),left_index=True, right_index=True, how='inner')\n",
        "eqt3.columns=['nikkei','euronext'] \n",
        "\n",
        "eqt4 = pd.merge(vix['Adj Close'].to_frame(), dm['Adj Close'].to_frame(),left_index=True, right_index=True, how='inner')\n",
        "eqt4.columns=['VIX','dm'] \n",
        "\n",
        "eqt5 = pd.merge(eqt1, eqt2,left_index=True, right_index=True, how='inner')\n",
        "eqt6 = pd.merge(eqt3, eqt4,left_index=True, right_index=True, how='inner')\n",
        "eqt7 = pd.merge(eqt5, eqt6,left_index=True, right_index=True, how='inner')\n",
        "\n",
        "eqt7.head() \n",
        "\n",
        "#에러가 발생하여 eqt1 = pd.merge(snp['Adj Close'] -> eqt1 = pd.merge(snp['Adj Close'].to_frame()으로 수정"
      ],
      "execution_count": null,
      "outputs": []
    },
    {
      "cell_type": "markdown",
      "metadata": {
        "id": "XI8b15gjigge"
      },
      "source": [
        "### 수익률을 계산해보아요. (연속시간)"
      ]
    },
    {
      "cell_type": "code",
      "metadata": {
        "colab": {
          "background_save": true
        },
        "id": "xTHdBHREigge"
      },
      "source": [
        "# 연속시간 수익률 (로그 차분)\n",
        "rtn= ( np.log(eqt7) - np.log(eqt7.shift(1)) )*100\n",
        "rtn.columns=['r_sp','r_kp','r_ss' ,'r_hm','r_nk','r_ux','r_vx','r_dm']\n",
        "rtn.head()"
      ],
      "execution_count": null,
      "outputs": []
    },
    {
      "cell_type": "code",
      "metadata": {
        "colab": {
          "background_save": true
        },
        "id": "u4h3ycUzigge"
      },
      "source": [
        "eqt = pd.merge(eqt7,rtn,left_index=True, right_index=True, how='inner')\n",
        "eqt.head()\n",
        "\n",
        "#wqt.to_csv(r'C:\\Users\\CAU\\Dropbox\\2020-2\\data\\stockdata.csv') # csv 파일로 내보내기 "
      ],
      "execution_count": null,
      "outputs": []
    },
    {
      "cell_type": "markdown",
      "metadata": {
        "id": "QTBIFatuigge"
      },
      "source": [
        "### 참고로 개별적으로 수익률을 계산할 수도 있어요. "
      ]
    },
    {
      "cell_type": "code",
      "metadata": {
        "colab": {
          "background_save": true
        },
        "id": "ZnQdNi3Tiggf"
      },
      "source": [
        "# % 수익률 계산\n",
        "\n",
        "# 이산시간 % 수익률\n",
        "eqt7['rp_ksp'] = eqt7.KOSPI.pct_change()*100 \n",
        "eqt7['rp_snp'] = eqt7.SP500.pct_change()*100\n",
        "eqt7['rp_nk'] = eqt7.nikkei.pct_change()*100\n",
        "eqt7['rp_ux'] = eqt7.euronext.pct_change()*100\n",
        "eqt7['rp_vx'] = eqt7.VIX.pct_change()*100\n",
        "\n",
        "eqt7['rp_ss'] = eqt7.ss.pct_change()*100\n",
        "eqt7['rp_hm'] = eqt7.hm.pct_change()*100\n",
        "eqt7['rp_dm'] = eqt7.dm.pct_change()*100\n",
        "\n",
        "\n",
        "#연속시간 % 수익률 (로그 차분)\n",
        "eqt7['r_ksp'] = ( np.log(eqt7.KOSPI) - np.log(eqt7.KOSPI.shift(1)))*100\n",
        "eqt7['r_snp'] = ( np.log(eqt7.SP500) - np.log(eqt7.SP500.shift(1)) )*100\n",
        "eqt7['r_nk'] = ( np.log(eqt7.nikkei) - np.log(eqt7.nikkei.shift(1)) )*100\n",
        "eqt7['r_nk'] = ( np.log(eqt7.euronext) - np.log(eqt7.euronext.shift(1)) )*100\n",
        "eqt7['r_vx'] = ( np.log(eqt7.VIX) - np.log(eqt7.VIX.shift(1)) )*100\n",
        "\n",
        "eqt7['r_ss'] = ( np.log(eqt7.ss) - np.log(eqt7.ss.shift(1)) )*100\n",
        "eqt7['r_hm'] = ( np.log(eqt7.hm) - np.log(eqt7.hm.shift(1)) )*100\n",
        "eqt7['r_dm'] = ( np.log(eqt7.dm) - np.log(eqt7.dm.shift(1)) )*100\n",
        "\n",
        "eqt7.head()"
      ],
      "execution_count": null,
      "outputs": []
    },
    {
      "cell_type": "markdown",
      "metadata": {
        "id": "YFkHG77Xiggf"
      },
      "source": [
        "### 주식 가격 데이터와 수익률 데이터를 구분해주어요"
      ]
    },
    {
      "cell_type": "code",
      "metadata": {
        "colab": {
          "background_save": true
        },
        "id": "6yrSXrvdiggf"
      },
      "source": [
        "pr = eqt[['SP500', 'KOSPI', 'nikkei','euronext', 'VIX','ss','hm','dm']]\n",
        "pr.head()"
      ],
      "execution_count": null,
      "outputs": []
    },
    {
      "cell_type": "code",
      "metadata": {
        "colab": {
          "background_save": true
        },
        "id": "EzbdhMk-iggg"
      },
      "source": [
        "rt = eqt[['r_sp','r_kp','r_nk','r_ux','r_vx','r_ss' ,'r_hm','r_dm']]\n",
        "rt.head()"
      ],
      "execution_count": null,
      "outputs": []
    },
    {
      "cell_type": "markdown",
      "metadata": {
        "id": "PRrNsv-diggg"
      },
      "source": [
        "## 주가수익률의 전형적인 특성 (stylized facts of stock returns)\n",
        "\n",
        "1. volatility clustering\n",
        "2. leverage effect: negative skewness, asymmetric\n",
        "3. Fat tail: leptokurtic     "
      ]
    },
    {
      "cell_type": "markdown",
      "metadata": {
        "id": "mY11OJJ2iggg"
      },
      "source": [
        "## 시각화 (Visualization)"
      ]
    },
    {
      "cell_type": "code",
      "metadata": {
        "colab": {
          "background_save": true
        },
        "id": "jtsOwPa2iggg"
      },
      "source": [
        "plt.plot(eqt)"
      ],
      "execution_count": null,
      "outputs": []
    },
    {
      "cell_type": "code",
      "metadata": {
        "colab": {
          "background_save": true
        },
        "id": "LDder7a7iggg"
      },
      "source": [
        "plt.plot(pr)"
      ],
      "execution_count": null,
      "outputs": []
    },
    {
      "cell_type": "code",
      "metadata": {
        "colab": {
          "background_save": true
        },
        "id": "LeODmXqdiggg"
      },
      "source": [
        "# 초기시점을 0 으로 기준으로 잡고 상대 주가 (relative stock price) 를 표현해보자 \n",
        "\n",
        "pr_0 = pr / pr.iloc[0] - 1.0 \n"
      ],
      "execution_count": null,
      "outputs": []
    },
    {
      "cell_type": "code",
      "metadata": {
        "colab": {
          "background_save": true
        },
        "id": "02v1ldvyiggg"
      },
      "source": [
        "# 상대가격을 그래프로 그려보아요. \n",
        "plt.rcParams['legend.fontsize'] = 16\n",
        "pr_0.plot( figsize=(16,10), fontsize=18)"
      ],
      "execution_count": null,
      "outputs": []
    },
    {
      "cell_type": "code",
      "metadata": {
        "colab": {
          "background_save": true
        },
        "id": "NoSGtAobiggh",
        "scrolled": true
      },
      "source": [
        "#  수익률 그래프도 그려보아요 \n",
        "#plt.rcParams['legend.fontsize'] = 16\n",
        "rt.plot( figsize=(16,10), fontsize=18)"
      ],
      "execution_count": null,
      "outputs": []
    },
    {
      "cell_type": "code",
      "metadata": {
        "colab": {
          "background_save": true
        },
        "id": "opRHw2eaiggh"
      },
      "source": [
        "plt.rcParams['legend.fontsize'] = 16\n",
        "eqt[['KOSPI','r_kp']].plot(subplots=True, style='b', figsize=(16,10), fontsize=18 )"
      ],
      "execution_count": null,
      "outputs": []
    },
    {
      "cell_type": "code",
      "metadata": {
        "colab": {
          "background_save": true
        },
        "id": "3cIJ_I2Biggh"
      },
      "source": [
        "fig, axs = plt.subplots(3, 1, figsize=(15,10), constrained_layout=True)\n",
        "fig.suptitle('KOSPI, VIX, and Return', fontsize=18)\n",
        "\n",
        "axs[0].plot(eqt.index, eqt['KOSPI'], 'g-', label='KOSPI')\n",
        "#plt.xlabel('xlabel', fontsize=18)\n",
        "#plt.ylabel('ylabel', fontsize=16)\n",
        "axs[0].set_title('KOSPI')\n",
        "axs[0].legend(['KOSPI'])\n",
        "\n",
        "axs[1].plot(eqt.index, eqt['VIX'], 'r-')\n",
        "axs[1].set_title('VIX')\n",
        "\n",
        "axs[2].plot(eqt.index, eqt['r_kp'], 'b-')\n",
        "axs[2].set_title('KOSPI Return')\n",
        "\n",
        "#plt.show()\n",
        "\n",
        "#plt.savefig('C:/Users/CAU/eqt_kospi_return.jpg', dpi=500)"
      ],
      "execution_count": null,
      "outputs": []
    },
    {
      "cell_type": "markdown",
      "metadata": {
        "id": "IvrMqhYWiggh"
      },
      "source": [
        "### 주가와 주가수익률의 기초통계를 살펴보도록해요"
      ]
    },
    {
      "cell_type": "code",
      "metadata": {
        "colab": {
          "background_save": true
        },
        "id": "3aCfK7kaiggh"
      },
      "source": [
        "pr.describe()"
      ],
      "execution_count": null,
      "outputs": []
    },
    {
      "cell_type": "code",
      "metadata": {
        "colab": {
          "background_save": true
        },
        "id": "5EcQeXm0iggh"
      },
      "source": [
        "rt.describe()"
      ],
      "execution_count": null,
      "outputs": []
    },
    {
      "cell_type": "code",
      "metadata": {
        "colab": {
          "background_save": true
        },
        "id": "xdXTzvPYiggh"
      },
      "source": [
        "print(rt.describe())\n",
        "print('skeness: ', rt.skew(axis=0))\n",
        "print('kurtosis: ', rt.kurtosis(axis=0))\n",
        "#print('autocorrelation: ', rt.autocorr(lag=1))"
      ],
      "execution_count": null,
      "outputs": []
    },
    {
      "cell_type": "code",
      "metadata": {
        "colab": {
          "background_save": true
        },
        "id": "SnPAJIuUiggh"
      },
      "source": [
        "# 우리가 원하는 통계량이 모두 포한된 기초통계표를 만들어 보아요 \n",
        "df=pr\n",
        "stats = df.describe()\n",
        "stats.loc['var'] = df.var().tolist()\n",
        "stats.loc['skew'] = df.skew().tolist()\n",
        "stats.loc['kurt'] = df.kurtosis().tolist()\n",
        "print(stats)"
      ],
      "execution_count": null,
      "outputs": []
    },
    {
      "cell_type": "code",
      "metadata": {
        "colab": {
          "background_save": true
        },
        "id": "nxyNAI3jiggi"
      },
      "source": [
        "# 우리가 원하는 통계량이 모두 포한된 기초통계표를 만들어 보아요 \n",
        "df=rt\n",
        "stats = df.describe()\n",
        "stats.loc['var'] = df.var().tolist()\n",
        "stats.loc['skew'] = df.skew().tolist()\n",
        "stats.loc['kurt'] = df.kurtosis().tolist()\n",
        "print(stats)"
      ],
      "execution_count": null,
      "outputs": []
    },
    {
      "cell_type": "markdown",
      "metadata": {
        "id": "hBNRPiL0iggi"
      },
      "source": [
        "### 데이터의 표본분포를 파악하기 위해서 히스토그램을 그려보아요. "
      ]
    },
    {
      "cell_type": "code",
      "metadata": {
        "colab": {
          "background_save": true
        },
        "id": "28mUwaqfiggi"
      },
      "source": [
        "# 주가의 분포를 파악하기 위해서 히스토그램을 그려보아요. \n",
        "plt.rcParams['legend.fontsize'] = 16\n",
        "\n",
        "sns.distplot(pr['SP500'],  label='S&P500', color='red') \n",
        "sns.distplot(pr['KOSPI'],  label='KOSPI', color='g')\n",
        "plt.xlabel('Price')\n",
        "plt.ylabel('Relative Freqeuncy')  "
      ],
      "execution_count": null,
      "outputs": []
    },
    {
      "cell_type": "code",
      "metadata": {
        "colab": {
          "background_save": true
        },
        "id": "XrYJYy0piggi"
      },
      "source": [
        "# Frequency\n",
        "\n",
        "sns.distplot(pr['SP500'], kde = False, label='S&P500')\n",
        "sns.distplot(pr['KOSPI'], kde = False, label='KOSPI')\n",
        "# Plot formatting\n",
        "plt.legend(prop={'size': 16})\n",
        "plt.title('Frequency: Price')\n",
        "plt.xlabel('Price')\n",
        "plt.ylabel('Freqeuncy')  "
      ],
      "execution_count": null,
      "outputs": []
    },
    {
      "cell_type": "code",
      "metadata": {
        "colab": {
          "background_save": true
        },
        "id": "2JN6k8ujiggi"
      },
      "source": [
        "# Kernel Density Estimation\n",
        "\n",
        "sns.distplot(pr['SP500'], hist = False, kde = True, label='S&P500')\n",
        "sns.distplot(pr['KOSPI'], hist = False, kde = True, label='KOSPI')\n",
        "# Plot formatting\n",
        "plt.legend(prop={'size': 16})\n",
        "plt.title('Histogram: Price')\n",
        "plt.xlabel('Price')\n",
        "plt.ylabel('Density')  "
      ],
      "execution_count": null,
      "outputs": []
    },
    {
      "cell_type": "code",
      "metadata": {
        "colab": {
          "background_save": true
        },
        "id": "47sMjpdPiggi"
      },
      "source": [
        "# 주가 수익률의 분포를 파악하기 위해서 히스토그램을 그려보아요. \n",
        "plt.rcParams['legend.fontsize'] = 16\n",
        "rt = rt.dropna(subset=['r_sp']) # <- 이 코드를 추가하여 NaN 제거\n",
        "sns.distplot(rt['r_sp'],label='S&P500', color='red') \n",
        "sns.distplot(rt['r_kp'],label='KOSPI', color='g')\n",
        "plt.xlabel('Return')\n",
        "plt.ylabel('Relative Freqeuncy')  "
      ],
      "execution_count": null,
      "outputs": []
    },
    {
      "cell_type": "code",
      "metadata": {
        "colab": {
          "background_save": true
        },
        "id": "8VhFIOpZiggi"
      },
      "source": [
        "# Kernel Density Estimation\n",
        "\n",
        "sns.distplot(rt['r_sp'], hist = False, kde = True, label='S&P500')\n",
        "sns.distplot(rt['r_kp'], hist = False, kde = True, label='KOSPI')\n",
        "# Plot formatting\n",
        "plt.legend(prop={'size': 16})\n",
        "plt.title('Histogram: Return')\n",
        "plt.xlabel('Return')\n",
        "plt.ylabel('Density')  "
      ],
      "execution_count": null,
      "outputs": []
    },
    {
      "cell_type": "markdown",
      "metadata": {
        "id": "m9Nu13q4iggi"
      },
      "source": [
        "### 상관관계에 대해서 살펴보아요. "
      ]
    },
    {
      "cell_type": "code",
      "metadata": {
        "colab": {
          "background_save": true
        },
        "id": "yJ2ojiwuiggi"
      },
      "source": [
        "pr.corr()"
      ],
      "execution_count": null,
      "outputs": []
    },
    {
      "cell_type": "code",
      "metadata": {
        "colab": {
          "background_save": true
        },
        "id": "F7GTc0D-iggi"
      },
      "source": [
        "rt.corr()"
      ],
      "execution_count": null,
      "outputs": []
    },
    {
      "cell_type": "code",
      "metadata": {
        "colab": {
          "background_save": true
        },
        "id": "KUYUtKQEiggi"
      },
      "source": [
        "sns.heatmap(pr.corr(), annot=True, cmap=\"YlGnBu\")\n",
        "plt.show()"
      ],
      "execution_count": null,
      "outputs": []
    },
    {
      "cell_type": "code",
      "metadata": {
        "colab": {
          "background_save": true
        },
        "id": "Jxi-m4r5iggj"
      },
      "source": [
        "sns.heatmap(rt.corr(), annot=True, cmap=\"YlGnBu\")\n",
        "plt.show()"
      ],
      "execution_count": null,
      "outputs": []
    },
    {
      "cell_type": "code",
      "metadata": {
        "colab": {
          "background_save": true
        },
        "id": "Iy7_Br-Uiggj"
      },
      "source": [
        "# pariplot: price\n",
        "\n",
        "sns.pairplot(pr )"
      ],
      "execution_count": null,
      "outputs": []
    },
    {
      "cell_type": "code",
      "metadata": {
        "colab": {
          "background_save": true
        },
        "id": "FaMcUlYriggj"
      },
      "source": [
        "sns.lmplot(x=\"SP500\", y=\"ss\", data=pr, size=8) # height -> size\n",
        "plt.show()"
      ],
      "execution_count": null,
      "outputs": []
    },
    {
      "cell_type": "code",
      "metadata": {
        "colab": {
          "background_save": true
        },
        "id": "UQLgk_uWiggj"
      },
      "source": [
        "sns.lmplot(x=\"SP500\", y=\"nikkei\", size=8, data=pr)# height -> size\n",
        "plt.show()"
      ],
      "execution_count": null,
      "outputs": []
    },
    {
      "cell_type": "code",
      "metadata": {
        "colab": {
          "background_save": true
        },
        "id": "p9oM8EMBiggj"
      },
      "source": [
        "# pariplot: return\n",
        "sns.pairplot(rt)\n",
        "plt.show()"
      ],
      "execution_count": null,
      "outputs": []
    },
    {
      "cell_type": "markdown",
      "metadata": {
        "id": "qLRvWZLMiggj"
      },
      "source": [
        "### 이동평균(moving average; MA)에 대해서 알아보아요. "
      ]
    },
    {
      "cell_type": "code",
      "metadata": {
        "colab": {
          "background_save": true
        },
        "id": "Tsj4B1kOiggj"
      },
      "source": [
        "# 주가의 20일, 40일 이동평균\n",
        "\n",
        "pr[\"kp_20ma\"] = np.round(pr[\"KOSPI\"].rolling(window = 20, center = False).mean(), 5)\n",
        "pr[\"kp_40ma\"] = np.round(pr[\"KOSPI\"].rolling(window = 40, center = False).mean(), 5)\n",
        "\n",
        "pr[\"kp_20sig\"] = np.round(pr[\"KOSPI\"].rolling(window = 20, center = False).std(), 5)\n",
        "pr[\"kp_40sig\"] = np.round(pr[\"KOSPI\"].rolling(window = 40, center = False).std(), 5)\n",
        "\n",
        "pr.tail(10)"
      ],
      "execution_count": null,
      "outputs": []
    },
    {
      "cell_type": "code",
      "metadata": {
        "colab": {
          "background_save": true
        },
        "id": "vhmG7UYniggj"
      },
      "source": [
        "# 주가 수익률의 20일, 40일 이동평균\n",
        "\n",
        "rt[\"r_kp_20ma\"] = np.round(rt[\"r_kp\"].rolling(window = 20, center = False).mean(), 5)\n",
        "rt[\"r_kp_40ma\"] = np.round(rt[\"r_kp\"].rolling(window = 40, center = False).mean(), 5)\n",
        "\n",
        "rt[\"r_kp_20sig\"] = np.round(rt[\"r_kp\"].rolling(window = 20, center = False).std(), 5)\n",
        "rt[\"r_kp_40sig\"] = np.round(rt[\"r_kp\"].rolling(window = 40, center = False).std(), 5)\n",
        "\n",
        "rt.tail(10)"
      ],
      "execution_count": null,
      "outputs": []
    },
    {
      "cell_type": "markdown",
      "metadata": {
        "id": "Azf9SrmJiggj"
      },
      "source": [
        "### 변동성 지수"
      ]
    },
    {
      "cell_type": "code",
      "metadata": {
        "colab": {
          "background_save": true
        },
        "id": "dAfqW7XHiggj"
      },
      "source": [
        "pr.corr()"
      ],
      "execution_count": null,
      "outputs": []
    },
    {
      "cell_type": "code",
      "metadata": {
        "colab": {
          "background_save": true
        },
        "id": "ed0wx1UIiggj"
      },
      "source": [
        "sns.heatmap(pr.corr(), annot=True, cmap=\"YlGnBu\")\n",
        "plt.show()"
      ],
      "execution_count": null,
      "outputs": []
    },
    {
      "cell_type": "code",
      "metadata": {
        "colab": {
          "background_save": true
        },
        "id": "sxfLpzcMiggj"
      },
      "source": [
        "fig, axs = plt.subplots(4, 1, figsize=(15,10), constrained_layout=True)\n",
        "fig.suptitle('KOSPI, VIX, and Return', fontsize=18)\n",
        "\n",
        "axs[0].plot(pr.index, pr['KOSPI'], 'g-', label='KOSPI')\n",
        "#plt.xlabel('xlabel', fontsize=18)\n",
        "#plt.ylabel('ylabel', fontsize=16)\n",
        "axs[0].set_title('KOSPI')\n",
        "axs[0].legend(['KOSPI'])\n",
        "\n",
        "axs[1].plot(pr.index, pr['VIX'], 'r-')\n",
        "axs[1].set_title('VIX')\n",
        "\n",
        "axs[2].plot(rt.index, rt['r_kp'], 'b-')\n",
        "axs[2].set_title('KOSPI Return')\n",
        "\n",
        "axs[3].plot(rt.index, rt['r_kp_20sig'], 'p-')\n",
        "axs[3].set_title('Historical Volatility')"
      ],
      "execution_count": null,
      "outputs": []
    },
    {
      "cell_type": "markdown",
      "metadata": {
        "id": "Y-nPUrM5iggk"
      },
      "source": [
        "## MA의 시각화 "
      ]
    },
    {
      "cell_type": "code",
      "metadata": {
        "colab": {
          "background_save": true
        },
        "id": "iPCc5Ysliggk"
      },
      "source": [
        "# 이제 그래프를 보아요 \n",
        "\n",
        "fig, axs = plt.subplots(4, 1, figsize=(15,10), constrained_layout=True)\n",
        "fig.suptitle('Stock, MA, STD', fontsize=16)\n",
        "\n",
        "\n",
        "\n",
        "axs[0].plot(pr['KOSPI'], 'r-', label='KOSPI')\n",
        "#plt.xlabel('xlabel', fontsize=18)\n",
        "#plt.ylabel('ylabel', fontsize=16)\n",
        "axs[0].plot(pr['kp_20ma'], 'g-', label='kp_20ma')\n",
        "axs[0].plot(pr['kp_40ma'], 'g-', label='kp_40ma')\n",
        "axs[0].set_title('KOSPI vs MA')\n",
        "axs[0].legend(['KOSPI', 'kp_20ma','kp_40ma'])\n",
        "\n",
        "#ax.set_xlim(0,205)  #x축 스케일 제한하고 싶을 때\n",
        "#ax.set_ylim(-60,60) # y 축 스케일 제한하고 싶을 때 \n",
        "\n",
        "#axs[0].set_xlabel('Date')\n",
        "#axs[0].set_ylabel('Damped oscillation')\n",
        "\n",
        "\n",
        "\n",
        "axs[1].plot(pr['kp_20sig'], 'b-')\n",
        "axs[1].plot(pr['kp_40sig'], 'g-')\n",
        "#axs[1].set_xlabel('Date')\n",
        "axs[1].set_title('Historical Volatility: Price')\n",
        "axs[1].legend(['kp_20sig','kp_40sig'])\n",
        "\n",
        "axs[2].plot(rt['r_kp'], 'g-')\n",
        "axs[2].plot(rt['r_kp_20ma'], 'b-')\n",
        "axs[2].plot(rt['r_kp_40ma'], 'r-')\n",
        "\n",
        "axs[2].set_title('Return')\n",
        "axs[2].legend(['r_kp'])\n",
        "\n",
        "\n",
        "axs[3].plot(rt['r_kp_20sig'], 'b-')\n",
        "axs[3].plot(rt['r_kp_40sig'], 'g-')\n",
        "axs[3].set_title('Historical Volatility: Return')\n",
        "axs[3].legend(['r_kp_20sig','r_kp_40sig'])\n",
        "\n",
        "#plt.show()\n",
        "\n",
        "#plt.savefig('C:/Users/CAU/eqt_ma.jpg', dpi=500)"
      ],
      "execution_count": null,
      "outputs": []
    },
    {
      "cell_type": "code",
      "metadata": {
        "colab": {
          "background_save": true
        },
        "id": "x1GgrzJ2iggk"
      },
      "source": [
        ""
      ],
      "execution_count": null,
      "outputs": []
    }
  ]
}