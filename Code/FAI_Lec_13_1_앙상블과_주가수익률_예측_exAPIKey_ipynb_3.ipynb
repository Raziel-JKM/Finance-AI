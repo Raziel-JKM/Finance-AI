{
  "nbformat": 4,
  "nbformat_minor": 0,
  "metadata": {
    "colab": {
      "name": "FAI Lec 13-1 앙상블과 주가수익률 예측_exAPIKey.ipynb 3",
      "provenance": [],
      "collapsed_sections": [],
      "include_colab_link": true
    },
    "kernelspec": {
      "display_name": "Python 3",
      "language": "python",
      "name": "python3"
    },
    "language_info": {
      "codemirror_mode": {
        "name": "ipython",
        "version": 3
      },
      "file_extension": ".py",
      "mimetype": "text/x-python",
      "name": "python",
      "nbconvert_exporter": "python",
      "pygments_lexer": "ipython3",
      "version": "3.8.8"
    }
  },
  "cells": [
    {
      "cell_type": "markdown",
      "metadata": {
        "id": "view-in-github",
        "colab_type": "text"
      },
      "source": [
        "<a href=\"https://colab.research.google.com/github/Raziel-JKM/Finance_AI/blob/main/Code/FAI_Lec_13_1_%E1%84%8B%E1%85%A1%E1%86%BC%E1%84%89%E1%85%A1%E1%86%BC%E1%84%87%E1%85%B3%E1%86%AF%E1%84%80%E1%85%AA_%E1%84%8C%E1%85%AE%E1%84%80%E1%85%A1%E1%84%89%E1%85%AE%E1%84%8B%E1%85%B5%E1%86%A8%E1%84%85%E1%85%B2%E1%86%AF_%E1%84%8B%E1%85%A8%E1%84%8E%E1%85%B3%E1%86%A8_exAPIKey_ipynb_3.ipynb\" target=\"_parent\"><img src=\"https://colab.research.google.com/assets/colab-badge.svg\" alt=\"Open In Colab\"/></a>"
      ]
    },
    {
      "cell_type": "markdown",
      "metadata": {
        "id": "aF7VyPF-5PKx"
      },
      "source": [
        "# FAI Lec 13-1 앙상블과 주가수익률 예측\n",
        "\n",
        "금융AI\n",
        "\n",
        "중앙대학교 금융공학\n",
        "\n",
        "유시용 (sy61@cau.ac.kr)\n",
        "\n",
        "본 코드는 중앙대학교 금융공학융합전공의 \"금융AI\"과목과 KMOOC(http://www.kmooc.kr/)의 \"금융AI\"과목에 사용된 코드입니다. 출처를 밝히셔도 되고, 자유롭게 사용하셔도 됩니다. "
      ]
    },
    {
      "cell_type": "markdown",
      "metadata": {
        "id": "h9F6JaEW5PKy"
      },
      "source": [
        "## Preparing data"
      ]
    },
    {
      "cell_type": "markdown",
      "metadata": {
        "id": "jGM3lzmG5jF7"
      },
      "source": [
        "\n",
        "## 한국은행 포탈을 통해서 환율과 이자율 데이터를 다운 받기 (일별자료)\n",
        "http://ecos.bok.or.kr/jsp/openapi/OpenApiController.jsp?t=main\n",
        "1. 위의 한국은행 api 포탈링크를 누른후 \"OPEN API 인증 신청\" 버튼을 누르기  \n",
        "\n",
        "2. 화면에 나오는 절차에 따라 API키를 받기위한 회원가입 진행하기 (회원가입을  완료하면 OPEN API 키가 생성됨.)  \n",
        "\n",
        "3. 앞서 회원가입한 아이디로 로그인 하기  \n",
        "\n",
        "4. 로그인 완료후 마이페이지를 누르면 아래와 같이 OPEN API 키를 확인 할 수 있으며, 이를 이용하면됨.\n",
        "![image.png](data:image/png;base64,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)\n",
        "\n",
        "\n",
        "### 통계코드검색 페이지에서 통계코드를 검색.\n",
        "5. https://ecos.bok.or.kr/jsp/openapi/OpenApiController.jsp?t=guideStatCd&menuGroup=MENU000004&menuCode=MENU000024  \n",
        "\n",
        "\n",
        "- 8.8.1.1 주요국통화의 대원화 환율[036Y001] - 원/미국달러(매매기준율)[0000001][원]\n",
        "\n",
        "\n",
        "- 4.1.1 시장금리(일별)[060Y001]- KORIBOR(3개월)[010150000][연%], CD(91일)[010502000][연%]\n",
        "\n",
        "6. 원하는 정보를 요청하는 url로 request하기"
      ]
    },
    {
      "cell_type": "code",
      "metadata": {
        "id": "C_tf3yts5PKz"
      },
      "source": [
        "import numpy as np\n",
        "import pandas as pd\n",
        "import pandas_datareader as pdr\n",
        "from datetime import datetime"
      ],
      "execution_count": null,
      "outputs": []
    },
    {
      "cell_type": "code",
      "metadata": {
        "id": "V9l6Y1op5PK8"
      },
      "source": [
        "import requests\n",
        "import json\n",
        "import xml.etree.ElementTree as ET\n",
        "import csv\n",
        "import pandas as pd\n",
        "\n",
        "# API를 이용하여 data를 가져오는 함수\n",
        "#   Input list\n",
        "#       APIkey: http://ecos.bok.or.kr/jsp/openapi/OpenApiController.jsp?t=main 에서 발급받은 APIkey 사용자 인증키\n",
        "#       requestType: API를 사용했을때 결과값 데이터의 형식, xml vs json, 하지만 아래 함수에서는 xml형식의 데이터를 파싱하는 코드로 작성함.\n",
        "#       requestStartNum: 요청시작건수\n",
        "#       requestFinishNum: 요청종료건수\n",
        "#       statisticalTableCode: 8.8.1.1의 경우 036Y001\n",
        "#                             4.1.1의 경우 060Y001\n",
        "#       period: 주기, YY,MM,DD \n",
        "#       startDate: 검색시작일자\n",
        "#       finishDate: 검색종료일자\n",
        "#       statisticalItemCode: 통계항목코드, 최대3가지 입력가능. \n",
        "#                            8.8.1.1 원/달러 환율의 경우 \"0000001\"\n",
        "#                            4.1.1 KORIBOR(3개월)의 경우 \"010150000\"\n",
        "#                            4.1.1 CD(91일)의 경우 \"010502000\"\n",
        "def getData(APIkey,requestType,requestStartNum,requestFinishNum,statisticalTableCode,period,startDate,finishDate,statisticalItemCode):\n",
        "  url=\"http://ecos.bok.or.kr/api/StatisticSearch/\"+APIkey+\"/\"+requestType+\"/kr/\"+requestStartNum+\"/\"+requestFinishNum+\"/\"+statisticalTableCode+\"/\"+period+\"/\"+startDate+\"/\"+finishDate+\"/\"+statisticalItemCode+\"/?/?\"\n",
        "  print(url)\n",
        "  response = requests.get(url)\n",
        "\n",
        "  if response.status_code == 200 : #api로 응답을 받았는지 확인\n",
        "    try : \n",
        "        contents = response.text\n",
        "        ecosRoot = ET.fromstring(contents) # xml 타입의 데이터로 변경\n",
        "\n",
        "        if ecosRoot[0].text[:4] in ('INFO','ERRO'):\n",
        "            #호출결과에 오류가 있었는지 확인\n",
        "            print(\"wrong!\")\n",
        "            print(ecosRoot[0].text + \" : \"+ ecosRoot[1].text)\n",
        "        else:\n",
        "            #이상이 없으면 결과값을 활용해서 필요한 프로그램 작성\n",
        "            exchangeRates=[] #환율정보를 저장할 list를 초기화한다.\n",
        "            iter_element=ecosRoot.iter(tag=\"row\") # <row> 태그만을 찾아서 순회\n",
        "            for element in iter_element: #\"row\"태그를 순회한다\n",
        "                exchangeRate=[element.find(\"TIME\").text,element.find(\"DATA_VALUE\").text] #해당하는 값을 찾아서 list로 추가\n",
        "                exchangeRates.append(exchangeRate)\n",
        "            df=pd.DataFrame(exchangeRates,columns=['TIME','DATA_VALUE'])#list 형식의 데이터를 dataframe으로 변환\n",
        "            #print(\"test : \",df)\n",
        "            output_file=\"API_\"+ statisticalTableCode+\"_\"+statisticalItemCode+\".csv\" #API_통계표코드_통계항목코드.csv의 이름으로 파일저장\n",
        "            df.to_csv(output_file) # csv파일로 저장\n",
        "            return df #데이터 프레임 타입의 데이터를 반환한다.\n",
        "    except Exception as e:\n",
        "        print(str(e)) #예외 오류가 발생했을때 처리\n"
      ],
      "execution_count": null,
      "outputs": []
    },
    {
      "cell_type": "code",
      "metadata": {
        "colab": {
          "base_uri": "https://localhost:8080/"
        },
        "id": "3pOSH0tBrgSj",
        "scrolled": true,
        "outputId": "07b54d20-c55e-4c56-b635-0a7b32ab0571"
      },
      "source": [
        "# 위에서 만든 본인의 OPEN API KEY를 myAPIkey 변수의 저장\n",
        "# ex) myAPIkey = \"1234566789abcdedf\" \n",
        "#myAPIkey = \"[본인의 키를 입력하여 주세요]\"\n",
        "myAPIkey = \"NGY0D21YWDMZNTM7DF86\" \n",
        "\n",
        "#8.8.1.1 주요국통화의 대원화 환율[036Y001] - 원/미국달러(매매기준율)[0000001][원]\n",
        "df_exchangeRate=getData(APIkey=myAPIkey,\n",
        "            requestType=\"xml\",\n",
        "            requestStartNum=\"1\",\n",
        "            requestFinishNum=\"2682\",\n",
        "            statisticalTableCode=\"036Y001\",\n",
        "            period=\"DD\",\n",
        "            startDate=\"20100101\",\n",
        "            finishDate=\"20201031\",\n",
        "            statisticalItemCode=\"0000001\")\n",
        "print(df_exchangeRate)\n",
        "\n",
        "#4.1.1 시장금리(일별)[060Y001]- KORIBOR(3개월)[010150000][연%]\n",
        "df_KORIBOR=getData(APIkey=myAPIkey,\n",
        "            requestType=\"xml\",\n",
        "            requestStartNum=\"1\",\n",
        "            requestFinishNum=\"2682\",\n",
        "            statisticalTableCode=\"060Y001\",\n",
        "            period=\"DD\",\n",
        "            startDate=\"20100101\",\n",
        "            finishDate=\"20201031\",\n",
        "            statisticalItemCode=\"010150000\")\n",
        "print(df_KORIBOR)\n",
        "\n",
        "#4.1.1 시장금리(일별)[060Y001]- CD(91일)[010502000][연%]\n",
        "df_CD=getData(APIkey=myAPIkey,\n",
        "            requestType=\"xml\",\n",
        "            requestStartNum=\"1\",\n",
        "            requestFinishNum=\"2682\",\n",
        "            statisticalTableCode=\"060Y001\",\n",
        "            period=\"DD\",\n",
        "            startDate=\"20100101\",\n",
        "            finishDate=\"20201031\",\n",
        "            statisticalItemCode=\"010502000\")\n",
        "print(df_CD)"
      ],
      "execution_count": null,
      "outputs": [
        {
          "output_type": "stream",
          "name": "stdout",
          "text": [
            "http://ecos.bok.or.kr/api/StatisticSearch/NGY0D21YWDMZNTM7DF86/xml/kr/1/2682/036Y001/DD/20100101/20201031/0000001/?/?\n",
            "          TIME DATA_VALUE\n",
            "0     20100104     1167.6\n",
            "1     20100105     1156.2\n",
            "2     20100106     1144.3\n",
            "3     20100107     1138.2\n",
            "4     20100108     1133.2\n",
            "...        ...        ...\n",
            "2677  20201026     1134.6\n",
            "2678  20201027     1129.1\n",
            "2679  20201028     1127.6\n",
            "2680  20201029     1129.3\n",
            "2681  20201030     1133.4\n",
            "\n",
            "[2682 rows x 2 columns]\n",
            "http://ecos.bok.or.kr/api/StatisticSearch/NGY0D21YWDMZNTM7DF86/xml/kr/1/2682/060Y001/DD/20100101/20201031/010150000/?/?\n",
            "          TIME DATA_VALUE\n",
            "0     20100104       2.86\n",
            "1     20100105       2.87\n",
            "2     20100106       2.87\n",
            "3     20100107       2.88\n",
            "4     20100108       2.88\n",
            "...        ...        ...\n",
            "2677  20201026       0.64\n",
            "2678  20201027       0.64\n",
            "2679  20201028       0.64\n",
            "2680  20201029       0.64\n",
            "2681  20201030       0.64\n",
            "\n",
            "[2682 rows x 2 columns]\n",
            "http://ecos.bok.or.kr/api/StatisticSearch/NGY0D21YWDMZNTM7DF86/xml/kr/1/2682/060Y001/DD/20100101/20201031/010502000/?/?\n",
            "          TIME DATA_VALUE\n",
            "0     20100104       2.88\n",
            "1     20100105       2.88\n",
            "2     20100106       2.88\n",
            "3     20100107       2.88\n",
            "4     20100108       2.88\n",
            "...        ...        ...\n",
            "2677  20201026       0.63\n",
            "2678  20201027       0.63\n",
            "2679  20201028       0.63\n",
            "2680  20201029       0.63\n",
            "2681  20201030       0.63\n",
            "\n",
            "[2682 rows x 2 columns]\n"
          ]
        }
      ]
    },
    {
      "cell_type": "code",
      "metadata": {
        "id": "ilfHpzTJ81zu"
      },
      "source": [
        "# 한국은행 API를 이용해 가져온 data의 포맷을 'float64'로 바꿔준다.\n",
        "\n",
        "df_exchangeRate['DATA_VALUE'] = df_exchangeRate['DATA_VALUE'].astype('float64')\n",
        "df_KORIBOR['DATA_VALUE'] = df_KORIBOR['DATA_VALUE'].astype('float64')\n",
        "df_CD['DATA_VALUE'] = df_CD['DATA_VALUE'].astype('float64') "
      ],
      "execution_count": null,
      "outputs": []
    },
    {
      "cell_type": "code",
      "metadata": {
        "id": "Q5muUnrm85To",
        "colab": {
          "base_uri": "https://localhost:8080/",
          "height": 204
        },
        "outputId": "e52ce8ed-157a-46b5-f570-8c9b6ee6470e"
      },
      "source": [
        "df_KORIBOR.head()"
      ],
      "execution_count": null,
      "outputs": [
        {
          "output_type": "execute_result",
          "data": {
            "text/html": [
              "<div>\n",
              "<style scoped>\n",
              "    .dataframe tbody tr th:only-of-type {\n",
              "        vertical-align: middle;\n",
              "    }\n",
              "\n",
              "    .dataframe tbody tr th {\n",
              "        vertical-align: top;\n",
              "    }\n",
              "\n",
              "    .dataframe thead th {\n",
              "        text-align: right;\n",
              "    }\n",
              "</style>\n",
              "<table border=\"1\" class=\"dataframe\">\n",
              "  <thead>\n",
              "    <tr style=\"text-align: right;\">\n",
              "      <th></th>\n",
              "      <th>TIME</th>\n",
              "      <th>DATA_VALUE</th>\n",
              "    </tr>\n",
              "  </thead>\n",
              "  <tbody>\n",
              "    <tr>\n",
              "      <th>0</th>\n",
              "      <td>20100104</td>\n",
              "      <td>2.86</td>\n",
              "    </tr>\n",
              "    <tr>\n",
              "      <th>1</th>\n",
              "      <td>20100105</td>\n",
              "      <td>2.87</td>\n",
              "    </tr>\n",
              "    <tr>\n",
              "      <th>2</th>\n",
              "      <td>20100106</td>\n",
              "      <td>2.87</td>\n",
              "    </tr>\n",
              "    <tr>\n",
              "      <th>3</th>\n",
              "      <td>20100107</td>\n",
              "      <td>2.88</td>\n",
              "    </tr>\n",
              "    <tr>\n",
              "      <th>4</th>\n",
              "      <td>20100108</td>\n",
              "      <td>2.88</td>\n",
              "    </tr>\n",
              "  </tbody>\n",
              "</table>\n",
              "</div>"
            ],
            "text/plain": [
              "       TIME  DATA_VALUE\n",
              "0  20100104        2.86\n",
              "1  20100105        2.87\n",
              "2  20100106        2.87\n",
              "3  20100107        2.88\n",
              "4  20100108        2.88"
            ]
          },
          "metadata": {},
          "execution_count": 8
        }
      ]
    },
    {
      "cell_type": "code",
      "metadata": {
        "id": "AEg-Xd0W4zt5"
      },
      "source": [
        "# 후에 다운받을 야후의 주가 data와 동일한 형태로 만들기 위하여 한국은행 API를 이용해 가져온 data의 날짜 인덱스 명을 Date로 바꿔준다.\n",
        "\n",
        "df_exchangeRate.rename(columns = {'TIME' : 'Date'}, inplace = True)\n",
        "df_KORIBOR.rename(columns = {'TIME' : 'Date'}, inplace = True)\n",
        "df_CD.rename(columns = {'TIME' : 'Date'}, inplace = True)"
      ],
      "execution_count": null,
      "outputs": []
    },
    {
      "cell_type": "code",
      "metadata": {
        "id": "3-AqcsJT49Xx",
        "colab": {
          "base_uri": "https://localhost:8080/",
          "height": 204
        },
        "outputId": "056da4e9-1e45-487e-e2ec-00835d8e4a67"
      },
      "source": [
        "df_exchangeRate.head()"
      ],
      "execution_count": null,
      "outputs": [
        {
          "output_type": "execute_result",
          "data": {
            "text/html": [
              "<div>\n",
              "<style scoped>\n",
              "    .dataframe tbody tr th:only-of-type {\n",
              "        vertical-align: middle;\n",
              "    }\n",
              "\n",
              "    .dataframe tbody tr th {\n",
              "        vertical-align: top;\n",
              "    }\n",
              "\n",
              "    .dataframe thead th {\n",
              "        text-align: right;\n",
              "    }\n",
              "</style>\n",
              "<table border=\"1\" class=\"dataframe\">\n",
              "  <thead>\n",
              "    <tr style=\"text-align: right;\">\n",
              "      <th></th>\n",
              "      <th>Date</th>\n",
              "      <th>DATA_VALUE</th>\n",
              "    </tr>\n",
              "  </thead>\n",
              "  <tbody>\n",
              "    <tr>\n",
              "      <th>0</th>\n",
              "      <td>20100104</td>\n",
              "      <td>1167.6</td>\n",
              "    </tr>\n",
              "    <tr>\n",
              "      <th>1</th>\n",
              "      <td>20100105</td>\n",
              "      <td>1156.2</td>\n",
              "    </tr>\n",
              "    <tr>\n",
              "      <th>2</th>\n",
              "      <td>20100106</td>\n",
              "      <td>1144.3</td>\n",
              "    </tr>\n",
              "    <tr>\n",
              "      <th>3</th>\n",
              "      <td>20100107</td>\n",
              "      <td>1138.2</td>\n",
              "    </tr>\n",
              "    <tr>\n",
              "      <th>4</th>\n",
              "      <td>20100108</td>\n",
              "      <td>1133.2</td>\n",
              "    </tr>\n",
              "  </tbody>\n",
              "</table>\n",
              "</div>"
            ],
            "text/plain": [
              "       Date  DATA_VALUE\n",
              "0  20100104      1167.6\n",
              "1  20100105      1156.2\n",
              "2  20100106      1144.3\n",
              "3  20100107      1138.2\n",
              "4  20100108      1133.2"
            ]
          },
          "metadata": {},
          "execution_count": 10
        }
      ]
    },
    {
      "cell_type": "code",
      "metadata": {
        "id": "S3eigvdM3zuJ"
      },
      "source": [
        "# 후에 다운받을 야후의 주가 data와 동일한 형태로 만들기 위하여 날짜의 형태를 yyyy-mm-dd 형태로 바꿔준다.\n",
        "# 아직 Data가 인덱스는 아님 \n",
        "\n",
        "df_exchangeRate['Date'] = pd.to_datetime(df_exchangeRate.Date)\n",
        "df_KORIBOR['Date'] = pd.to_datetime(df_KORIBOR.Date)\n",
        "df_CD['Date'] = pd.to_datetime(df_CD.Date)"
      ],
      "execution_count": null,
      "outputs": []
    },
    {
      "cell_type": "code",
      "metadata": {
        "id": "RXEfnUog4heq",
        "scrolled": true,
        "colab": {
          "base_uri": "https://localhost:8080/",
          "height": 204
        },
        "outputId": "4dc6a413-ea9c-4b75-dc0b-3a6bbc6495e8"
      },
      "source": [
        "df_exchangeRate.head()"
      ],
      "execution_count": null,
      "outputs": [
        {
          "output_type": "execute_result",
          "data": {
            "text/html": [
              "<div>\n",
              "<style scoped>\n",
              "    .dataframe tbody tr th:only-of-type {\n",
              "        vertical-align: middle;\n",
              "    }\n",
              "\n",
              "    .dataframe tbody tr th {\n",
              "        vertical-align: top;\n",
              "    }\n",
              "\n",
              "    .dataframe thead th {\n",
              "        text-align: right;\n",
              "    }\n",
              "</style>\n",
              "<table border=\"1\" class=\"dataframe\">\n",
              "  <thead>\n",
              "    <tr style=\"text-align: right;\">\n",
              "      <th></th>\n",
              "      <th>Date</th>\n",
              "      <th>DATA_VALUE</th>\n",
              "    </tr>\n",
              "  </thead>\n",
              "  <tbody>\n",
              "    <tr>\n",
              "      <th>0</th>\n",
              "      <td>2010-01-04</td>\n",
              "      <td>1167.6</td>\n",
              "    </tr>\n",
              "    <tr>\n",
              "      <th>1</th>\n",
              "      <td>2010-01-05</td>\n",
              "      <td>1156.2</td>\n",
              "    </tr>\n",
              "    <tr>\n",
              "      <th>2</th>\n",
              "      <td>2010-01-06</td>\n",
              "      <td>1144.3</td>\n",
              "    </tr>\n",
              "    <tr>\n",
              "      <th>3</th>\n",
              "      <td>2010-01-07</td>\n",
              "      <td>1138.2</td>\n",
              "    </tr>\n",
              "    <tr>\n",
              "      <th>4</th>\n",
              "      <td>2010-01-08</td>\n",
              "      <td>1133.2</td>\n",
              "    </tr>\n",
              "  </tbody>\n",
              "</table>\n",
              "</div>"
            ],
            "text/plain": [
              "        Date  DATA_VALUE\n",
              "0 2010-01-04      1167.6\n",
              "1 2010-01-05      1156.2\n",
              "2 2010-01-06      1144.3\n",
              "3 2010-01-07      1138.2\n",
              "4 2010-01-08      1133.2"
            ]
          },
          "metadata": {},
          "execution_count": 12
        }
      ]
    },
    {
      "cell_type": "code",
      "metadata": {
        "id": "AkcgJBctAsX4"
      },
      "source": [
        "# 인덱스를 Date로 지정해준다. \n",
        "\n",
        "df_exchangeRate.set_index('Date', inplace=True)\n",
        "df_KORIBOR.set_index('Date', inplace=True)\n",
        "df_CD.set_index('Date', inplace=True)"
      ],
      "execution_count": null,
      "outputs": []
    },
    {
      "cell_type": "code",
      "metadata": {
        "id": "Y3hpKO8_tNrK"
      },
      "source": [
        ""
      ],
      "execution_count": null,
      "outputs": []
    },
    {
      "cell_type": "code",
      "metadata": {
        "id": "qV81TXMvAsX6",
        "colab": {
          "base_uri": "https://localhost:8080/",
          "height": 235
        },
        "outputId": "2db1df58-5b36-44dc-f1ca-fdaf1b42b4a6"
      },
      "source": [
        "df_exchangeRate.head()"
      ],
      "execution_count": null,
      "outputs": [
        {
          "output_type": "execute_result",
          "data": {
            "text/html": [
              "<div>\n",
              "<style scoped>\n",
              "    .dataframe tbody tr th:only-of-type {\n",
              "        vertical-align: middle;\n",
              "    }\n",
              "\n",
              "    .dataframe tbody tr th {\n",
              "        vertical-align: top;\n",
              "    }\n",
              "\n",
              "    .dataframe thead th {\n",
              "        text-align: right;\n",
              "    }\n",
              "</style>\n",
              "<table border=\"1\" class=\"dataframe\">\n",
              "  <thead>\n",
              "    <tr style=\"text-align: right;\">\n",
              "      <th></th>\n",
              "      <th>DATA_VALUE</th>\n",
              "    </tr>\n",
              "    <tr>\n",
              "      <th>Date</th>\n",
              "      <th></th>\n",
              "    </tr>\n",
              "  </thead>\n",
              "  <tbody>\n",
              "    <tr>\n",
              "      <th>2010-01-04</th>\n",
              "      <td>1167.6</td>\n",
              "    </tr>\n",
              "    <tr>\n",
              "      <th>2010-01-05</th>\n",
              "      <td>1156.2</td>\n",
              "    </tr>\n",
              "    <tr>\n",
              "      <th>2010-01-06</th>\n",
              "      <td>1144.3</td>\n",
              "    </tr>\n",
              "    <tr>\n",
              "      <th>2010-01-07</th>\n",
              "      <td>1138.2</td>\n",
              "    </tr>\n",
              "    <tr>\n",
              "      <th>2010-01-08</th>\n",
              "      <td>1133.2</td>\n",
              "    </tr>\n",
              "  </tbody>\n",
              "</table>\n",
              "</div>"
            ],
            "text/plain": [
              "            DATA_VALUE\n",
              "Date                  \n",
              "2010-01-04      1167.6\n",
              "2010-01-05      1156.2\n",
              "2010-01-06      1144.3\n",
              "2010-01-07      1138.2\n",
              "2010-01-08      1133.2"
            ]
          },
          "metadata": {},
          "execution_count": 14
        }
      ]
    },
    {
      "cell_type": "code",
      "metadata": {
        "id": "DIoTchdE5PK_",
        "colab": {
          "base_uri": "https://localhost:8080/",
          "height": 215
        },
        "outputId": "0fca7c07-5e6b-4dac-eecf-0c11804ccc46"
      },
      "source": [
        "# 데이터를 다운 받을 기간을 설정\n",
        "# 앞서 API 데이터를 받은 기간과 동일하게 설정하기\n",
        "start = datetime(2010,1,1)\n",
        "end = datetime(2020,10,31)"
      ],
      "execution_count": null,
      "outputs": [
        {
          "output_type": "error",
          "ename": "NameError",
          "evalue": "ignored",
          "traceback": [
            "\u001b[0;31m---------------------------------------------------------------------------\u001b[0m",
            "\u001b[0;31mNameError\u001b[0m                                 Traceback (most recent call last)",
            "\u001b[0;32m<ipython-input-6-b1ae21762b8f>\u001b[0m in \u001b[0;36m<module>\u001b[0;34m()\u001b[0m\n\u001b[1;32m      1\u001b[0m \u001b[0;31m# 데이터를 다운 받을 기간을 설정\u001b[0m\u001b[0;34m\u001b[0m\u001b[0;34m\u001b[0m\u001b[0;34m\u001b[0m\u001b[0m\n\u001b[1;32m      2\u001b[0m \u001b[0;31m# 앞서 API 데이터를 받은 기간과 동일하게 설정하기\u001b[0m\u001b[0;34m\u001b[0m\u001b[0;34m\u001b[0m\u001b[0;34m\u001b[0m\u001b[0m\n\u001b[0;32m----> 3\u001b[0;31m \u001b[0mstart\u001b[0m \u001b[0;34m=\u001b[0m \u001b[0mdatetime\u001b[0m\u001b[0;34m(\u001b[0m\u001b[0;36m2010\u001b[0m\u001b[0;34m,\u001b[0m\u001b[0;36m1\u001b[0m\u001b[0;34m,\u001b[0m\u001b[0;36m1\u001b[0m\u001b[0;34m)\u001b[0m\u001b[0;34m\u001b[0m\u001b[0;34m\u001b[0m\u001b[0m\n\u001b[0m\u001b[1;32m      4\u001b[0m \u001b[0mend\u001b[0m \u001b[0;34m=\u001b[0m \u001b[0mdatetime\u001b[0m\u001b[0;34m(\u001b[0m\u001b[0;36m2020\u001b[0m\u001b[0;34m,\u001b[0m\u001b[0;36m10\u001b[0m\u001b[0;34m,\u001b[0m\u001b[0;36m31\u001b[0m\u001b[0;34m)\u001b[0m\u001b[0;34m\u001b[0m\u001b[0;34m\u001b[0m\u001b[0m\n",
            "\u001b[0;31mNameError\u001b[0m: name 'datetime' is not defined"
          ]
        }
      ]
    },
    {
      "cell_type": "code",
      "metadata": {
        "colab": {
          "base_uri": "https://localhost:8080/",
          "height": 164
        },
        "id": "MPNVwWq2psRq",
        "outputId": "79ce72dd-1463-4468-a258-ae281314a22c"
      },
      "source": [
        "start"
      ],
      "execution_count": null,
      "outputs": [
        {
          "output_type": "error",
          "ename": "NameError",
          "evalue": "ignored",
          "traceback": [
            "\u001b[0;31m---------------------------------------------------------------------------\u001b[0m",
            "\u001b[0;31mNameError\u001b[0m                                 Traceback (most recent call last)",
            "\u001b[0;32m<ipython-input-5-f6fd1656d79b>\u001b[0m in \u001b[0;36m<module>\u001b[0;34m()\u001b[0m\n\u001b[0;32m----> 1\u001b[0;31m \u001b[0mstart\u001b[0m\u001b[0;34m\u001b[0m\u001b[0;34m\u001b[0m\u001b[0m\n\u001b[0m",
            "\u001b[0;31mNameError\u001b[0m: name 'start' is not defined"
          ]
        }
      ]
    },
    {
      "cell_type": "code",
      "metadata": {
        "colab": {
          "base_uri": "https://localhost:8080/"
        },
        "id": "-ahOSDtVpfwL",
        "outputId": "8324e97d-a9c4-4872-e8a2-6a4a78673e34"
      },
      "source": [
        "!pip install pandas-datareader"
      ],
      "execution_count": null,
      "outputs": [
        {
          "output_type": "stream",
          "name": "stdout",
          "text": [
            "Requirement already satisfied: pandas-datareader in /usr/local/lib/python3.7/dist-packages (0.9.0)\n",
            "Requirement already satisfied: requests>=2.19.0 in /usr/local/lib/python3.7/dist-packages (from pandas-datareader) (2.23.0)\n",
            "Requirement already satisfied: lxml in /usr/local/lib/python3.7/dist-packages (from pandas-datareader) (4.2.6)\n",
            "Requirement already satisfied: pandas>=0.23 in /usr/local/lib/python3.7/dist-packages (from pandas-datareader) (1.1.5)\n",
            "Requirement already satisfied: pytz>=2017.2 in /usr/local/lib/python3.7/dist-packages (from pandas>=0.23->pandas-datareader) (2018.9)\n",
            "Requirement already satisfied: numpy>=1.15.4 in /usr/local/lib/python3.7/dist-packages (from pandas>=0.23->pandas-datareader) (1.19.5)\n",
            "Requirement already satisfied: python-dateutil>=2.7.3 in /usr/local/lib/python3.7/dist-packages (from pandas>=0.23->pandas-datareader) (2.8.2)\n",
            "Requirement already satisfied: six>=1.5 in /usr/local/lib/python3.7/dist-packages (from python-dateutil>=2.7.3->pandas>=0.23->pandas-datareader) (1.15.0)\n",
            "Requirement already satisfied: idna<3,>=2.5 in /usr/local/lib/python3.7/dist-packages (from requests>=2.19.0->pandas-datareader) (2.10)\n",
            "Requirement already satisfied: chardet<4,>=3.0.2 in /usr/local/lib/python3.7/dist-packages (from requests>=2.19.0->pandas-datareader) (3.0.4)\n",
            "Requirement already satisfied: certifi>=2017.4.17 in /usr/local/lib/python3.7/dist-packages (from requests>=2.19.0->pandas-datareader) (2021.5.30)\n",
            "Requirement already satisfied: urllib3!=1.25.0,!=1.25.1,<1.26,>=1.21.1 in /usr/local/lib/python3.7/dist-packages (from requests>=2.19.0->pandas-datareader) (1.24.3)\n"
          ]
        }
      ]
    },
    {
      "cell_type": "code",
      "metadata": {
        "id": "FFZnwMTB5PLD",
        "colab": {
          "base_uri": "https://localhost:8080/",
          "height": 232
        },
        "outputId": "844ba4d5-9420-4e05-8014-6f15ae651ae7"
      },
      "source": [
        "# 주가 데이터를 다운 받아주세요. \n",
        "\n",
        "ksp = pdr.DataReader('^KS11','yahoo',start,end) # KOSPI\n",
        "ss = pdr.DataReader('005930.KS','yahoo',start,end) # 삼성전자\n",
        "hm = pdr.DataReader('005380.KS','yahoo',start,end) # 현대차 \n",
        "snp = pdr.DataReader('^GSPC','yahoo',start,end) #S&P500\n",
        "nki = pdr.DataReader('^N225','yahoo',start,end) # Nikkei 225\n",
        "uxt = pdr.DataReader('^N100','yahoo',start,end) # EURONEXT 100\n",
        "vix = pdr.DataReader('^VIX','yahoo',start,end) # VIX"
      ],
      "execution_count": null,
      "outputs": [
        {
          "output_type": "error",
          "ename": "NameError",
          "evalue": "ignored",
          "traceback": [
            "\u001b[0;31m---------------------------------------------------------------------------\u001b[0m",
            "\u001b[0;31mNameError\u001b[0m                                 Traceback (most recent call last)",
            "\u001b[0;32m<ipython-input-3-61ad78da8454>\u001b[0m in \u001b[0;36m<module>\u001b[0;34m()\u001b[0m\n\u001b[1;32m      1\u001b[0m \u001b[0;31m# 주가 데이터를 다운 받아주세요.\u001b[0m\u001b[0;34m\u001b[0m\u001b[0;34m\u001b[0m\u001b[0;34m\u001b[0m\u001b[0m\n\u001b[1;32m      2\u001b[0m \u001b[0;34m\u001b[0m\u001b[0m\n\u001b[0;32m----> 3\u001b[0;31m \u001b[0mksp\u001b[0m \u001b[0;34m=\u001b[0m \u001b[0mpdr\u001b[0m\u001b[0;34m.\u001b[0m\u001b[0mDataReader\u001b[0m\u001b[0;34m(\u001b[0m\u001b[0;34m'^KS11'\u001b[0m\u001b[0;34m,\u001b[0m\u001b[0;34m'yahoo'\u001b[0m\u001b[0;34m,\u001b[0m\u001b[0mstart\u001b[0m\u001b[0;34m,\u001b[0m\u001b[0mend\u001b[0m\u001b[0;34m)\u001b[0m \u001b[0;31m# KOSPI\u001b[0m\u001b[0;34m\u001b[0m\u001b[0;34m\u001b[0m\u001b[0m\n\u001b[0m\u001b[1;32m      4\u001b[0m \u001b[0mss\u001b[0m \u001b[0;34m=\u001b[0m \u001b[0mpdr\u001b[0m\u001b[0;34m.\u001b[0m\u001b[0mDataReader\u001b[0m\u001b[0;34m(\u001b[0m\u001b[0;34m'005930.KS'\u001b[0m\u001b[0;34m,\u001b[0m\u001b[0;34m'yahoo'\u001b[0m\u001b[0;34m,\u001b[0m\u001b[0mstart\u001b[0m\u001b[0;34m,\u001b[0m\u001b[0mend\u001b[0m\u001b[0;34m)\u001b[0m \u001b[0;31m# 삼성전자\u001b[0m\u001b[0;34m\u001b[0m\u001b[0;34m\u001b[0m\u001b[0m\n\u001b[1;32m      5\u001b[0m \u001b[0mhm\u001b[0m \u001b[0;34m=\u001b[0m \u001b[0mpdr\u001b[0m\u001b[0;34m.\u001b[0m\u001b[0mDataReader\u001b[0m\u001b[0;34m(\u001b[0m\u001b[0;34m'005380.KS'\u001b[0m\u001b[0;34m,\u001b[0m\u001b[0;34m'yahoo'\u001b[0m\u001b[0;34m,\u001b[0m\u001b[0mstart\u001b[0m\u001b[0;34m,\u001b[0m\u001b[0mend\u001b[0m\u001b[0;34m)\u001b[0m \u001b[0;31m# 현대차\u001b[0m\u001b[0;34m\u001b[0m\u001b[0;34m\u001b[0m\u001b[0m\n",
            "\u001b[0;31mNameError\u001b[0m: name 'pdr' is not defined"
          ]
        }
      ]
    },
    {
      "cell_type": "code",
      "metadata": {
        "id": "jncOxKew5PLG"
      },
      "source": [
        "ksp.shape"
      ],
      "execution_count": null,
      "outputs": []
    },
    {
      "cell_type": "code",
      "metadata": {
        "id": "mROazTe35PLK"
      },
      "source": [
        "snp.shape"
      ],
      "execution_count": null,
      "outputs": []
    },
    {
      "cell_type": "code",
      "metadata": {
        "id": "EmwLZnYz5PLP"
      },
      "source": [
        "ss.head()"
      ],
      "execution_count": null,
      "outputs": []
    },
    {
      "cell_type": "code",
      "metadata": {
        "id": "EkVthRmW5PLU"
      },
      "source": [
        "ksp.tail()"
      ],
      "execution_count": null,
      "outputs": []
    },
    {
      "cell_type": "code",
      "metadata": {
        "id": "DMMAs19x5PLX"
      },
      "source": [
        "snp.head()"
      ],
      "execution_count": null,
      "outputs": []
    },
    {
      "cell_type": "code",
      "metadata": {
        "id": "BB68vCYj5PLb"
      },
      "source": [
        "vix.tail()"
      ],
      "execution_count": null,
      "outputs": []
    },
    {
      "cell_type": "code",
      "metadata": {
        "id": "7onIezLq5PLe"
      },
      "source": [
        "# 분석을 위해서 수정종가를 따로 모으고 이것들과 환율 및 시장금리 데이터를 합치도록 한다.\n",
        "\n",
        "stk = pd.DataFrame({\n",
        "    'ss': ss['Close'], # 삼성전자의 경우, yahoo finance 수정종가가 좀 이상해서 그냥 종가를 사용하도록 함 \n",
        "    'hm': hm['Adj Close'],\n",
        "    'ksp': ksp['Adj Close'],\n",
        "    'snp': snp['Adj Close'],\n",
        "    'nki': nki['Adj Close'],\n",
        "    'uxt': uxt['Adj Close'],\n",
        "    'vix': vix['Adj Close'],\n",
        "    'exr': df_exchangeRate['DATA_VALUE'],\n",
        "    'koribor': df_KORIBOR['DATA_VALUE'],\n",
        "    'cd': df_CD['DATA_VALUE']\n",
        "}).dropna()\n",
        "# dropna : 결측치를 처리하는 함수. 결측치란 값이 없는 것을 말한다. 만약 2020-10-26 에 삼성의 종가 값이 없다면 그 행을 통째로 삭제한다.\n"
      ],
      "execution_count": null,
      "outputs": []
    },
    {
      "cell_type": "code",
      "metadata": {
        "id": "3_yQJ7yx5PLh",
        "scrolled": true
      },
      "source": [
        "stk"
      ],
      "execution_count": null,
      "outputs": []
    },
    {
      "cell_type": "code",
      "metadata": {
        "id": "Ij1BfRpv5PLj"
      },
      "source": [
        "# 연속시간 수익률 (로그 차분)\n",
        "rtn= ( np.log(stk) - np.log(stk.shift(1)) )*100 \n",
        "# np.log() 데이터프레임의 모든 값을 log를 취한다\n",
        "# stk.shift(1) stk데이터프레임에서 데이터를 한행씩 아래로 미룬다.\n",
        "rtn.columns=['r_ss' ,'r_hm','r_ksp','r_snp','r_nki','r_uxt','r_vix','r_exr','r_koribor','r_cd'] # 새로운 컬럼명으로 데이터프레임 생성\n"
      ],
      "execution_count": null,
      "outputs": []
    },
    {
      "cell_type": "code",
      "metadata": {
        "id": "AGXsweJ65PLm",
        "scrolled": true
      },
      "source": [
        "rtn.head()"
      ],
      "execution_count": null,
      "outputs": []
    },
    {
      "cell_type": "code",
      "metadata": {
        "id": "swHp5nlu5PLy"
      },
      "source": [
        "# Momentum의 대리변수로 1개월, 3개월, 6개월, 12개월 간의 수익률을 계산함 \n",
        "# (모멘텀: 주가 수익률의 상승세 정도 혹은 추이를 의미해요)\n",
        "\n",
        "# pct_change() 수익률을 계산하는 함수. \n",
        "# 어제 종가가 10000원이었고 오늘 12000원일때\n",
        "# 하루동안 수익률은 (12000-10000)/10000으로 계산함.\n",
        "# period는 수익률을 계산하고자 하는 기간\n",
        "# 100을 곱하면 단위가 %로 변한다.\n",
        "\n",
        "# 모멘텀 계산 시, 시점 주의할 것: 현재 시점 포함시키면 곤란함 \n",
        "\n",
        "stklag=stk.shift(1) # 어제부터 시작해서 과거로 일정기간 설정 (오늘 시점은 변수, not obs)\n",
        "stklag\n",
        "\n",
        "stk_1d = stklag.pct_change()*100   # 1일 전의 수익률을 계산해서 dataframe을 생성하고\n",
        "stk_1d.columns = ['%s_1d'%col for col in stk.columns] # dataframe의 컬럼명을 설정\n",
        "\n",
        "stk_2d = stklag.pct_change(periods=2)*100   # 2일 간의 수익률을 계산해서 dataframe을 생성하고\n",
        "stk_2d.columns = ['%s_2d'%col for col in stk.columns] # dataframe의 컬럼명을 설정\n",
        "\n",
        "stk_3d = stklag.pct_change(periods=3)*100   # 3일 간의 수익률을 계산해서 dataframe을 생성하고\n",
        "stk_3d.columns = ['%s_3d'%col for col in stk.columns] # dataframe의 컬럼명을 설정\n",
        "\n",
        "stk_4d = stklag.pct_change(periods=4)*100   # 4일 간의 수익률을 계산해서 dataframe을 생성하고\n",
        "stk_4d.columns = ['%s_4d'%col for col in stk.columns] # dataframe의 컬럼명을 설정\n",
        "\n",
        "stk_1w = stklag.pct_change(periods=5)*100   # 5일 간의 수익률을 계산해서 dataframe을 생성하고\n",
        "stk_1w.columns = ['%s_1w'%col for col in stk.columns] # dataframe의 컬럼명을 설정\n",
        "\n",
        "stk_2w = stklag.pct_change(periods=10)*100   # 10일 간의 수익률을 계산해서 dataframe을 생성하고\n",
        "stk_2w.columns = ['%s_2w'%col for col in stk.columns] # dataframe의 컬럼명을 설정\n",
        "\n",
        "stk_1m = stklag.pct_change(periods=20)*100   # 20일 간의 수익률을 계산해서 dataframe을 생성하고\n",
        "stk_1m.columns = ['%s_1m'%col for col in stk.columns] # dataframe의 컬럼명을 설정\n",
        "\n",
        "stk_3m = stklag.pct_change(periods=60)*100   # 60일\n",
        "stk_3m.columns = ['%s_3m'%col for col in stk.columns]\n",
        "\n",
        "stk_6m = stklag.pct_change(periods=120)*100   # 120일 \n",
        "stk_6m.columns = ['%s_6m'%col for col in stk.columns]\n",
        "\n",
        "stk_12m = stklag.pct_change(periods=240)*100   # 240일 \n",
        "stk_12m.columns = ['%s_12m'%col for col in stk.columns]"
      ],
      "execution_count": null,
      "outputs": []
    },
    {
      "cell_type": "code",
      "metadata": {
        "id": "OOXajNf25PL0",
        "colab": {
          "base_uri": "https://localhost:8080/",
          "height": 164
        },
        "outputId": "eb16fb99-be5b-483a-e774-138126f79a2a"
      },
      "source": [
        "stk_3d.head()"
      ],
      "execution_count": null,
      "outputs": [
        {
          "output_type": "error",
          "ename": "NameError",
          "evalue": "ignored",
          "traceback": [
            "\u001b[0;31m---------------------------------------------------------------------------\u001b[0m",
            "\u001b[0;31mNameError\u001b[0m                                 Traceback (most recent call last)",
            "\u001b[0;32m<ipython-input-1-d32b64b37fb4>\u001b[0m in \u001b[0;36m<module>\u001b[0;34m()\u001b[0m\n\u001b[0;32m----> 1\u001b[0;31m \u001b[0mstk_3d\u001b[0m\u001b[0;34m.\u001b[0m\u001b[0mhead\u001b[0m\u001b[0;34m(\u001b[0m\u001b[0;34m)\u001b[0m\u001b[0;34m\u001b[0m\u001b[0;34m\u001b[0m\u001b[0m\n\u001b[0m",
            "\u001b[0;31mNameError\u001b[0m: name 'stk_3d' is not defined"
          ]
        }
      ]
    },
    {
      "cell_type": "code",
      "metadata": {
        "id": "9qydR3ghLhGD"
      },
      "source": [
        "stk_12m.head()"
      ],
      "execution_count": null,
      "outputs": []
    },
    {
      "cell_type": "code",
      "metadata": {
        "id": "EdSm2oZk5PL3"
      },
      "source": [
        "# 모멘텀 데이터를 합해주세요. join함수 사용\n",
        "\n",
        "stk_m = stk_1d.join(stk_2d)\\\n",
        "    .join(stk_3d)\\\n",
        "    .join(stk_4d)\\\n",
        "    .join(stk_1w)\\\n",
        "    .join(stk_2w)\\\n",
        "    .join(stk_1m)\\\n",
        "    .join(stk_3m)\\\n",
        "    .join(stk_6m)\\\n",
        "    .join(stk_12m)\\\n",
        "    .dropna() \n",
        "\n",
        "stk_m.head()"
      ],
      "execution_count": null,
      "outputs": []
    },
    {
      "cell_type": "code",
      "metadata": {
        "id": "zIuaVMzR5PL-"
      },
      "source": [
        "stk_m.columns"
      ],
      "execution_count": null,
      "outputs": []
    },
    {
      "cell_type": "markdown",
      "metadata": {
        "id": "g-vXUXkX5PMK"
      },
      "source": [
        "## Preparing target and feature variables"
      ]
    },
    {
      "cell_type": "code",
      "metadata": {
        "id": "9UOUJi-l5PML"
      },
      "source": [
        "# target 종속변수 \n",
        "# 여기서는 일단 삼성전자 주가 수익률 \n",
        "#y = rtn['r_ss']"
      ],
      "execution_count": null,
      "outputs": []
    },
    {
      "cell_type": "code",
      "metadata": {
        "id": "GcFuipc-AsY3"
      },
      "source": [
        "# Lag 시킬 features \n",
        "\n",
        "#x0=pd.DataFrame({\n",
        "#    'r_ss_lag':rtn['r_ss'], #  바로 다음 코드에서 lag 할 예정 : target variable의 serial dependence 를 파악하기 위해서 \n",
        "#    'r_hm':rtn['r_hm'],\n",
        "#    'r_ksp':rtn['r_ksp'],\n",
        "#    'r_nki':rtn['r_nki'],\n",
        "#    'ss_1w':stk_m['ss_1w'],\n",
        "#    'hm_1w':stk_m['hm_1w'],\n",
        "#    'ksp_1w':stk_m['ksp_1w'],\n",
        "#    'nki_1w':stk_m['nki_1w'],\n",
        "#    'ss_2w':stk_m['ss_2w'],\n",
        "#    'hm_2w':stk_m['hm_2w'],\n",
        "#    'ksp_2w':stk_m['ksp_2w'],\n",
        "#    'nki_2w':stk_m['nki_2w'],    \n",
        "#    'ss_1m':stk_m['ss_1m'],\n",
        "#    'hm_1m':stk_m['hm_1m'],\n",
        "#    'ksp_1m':stk_m['ksp_1m'],\n",
        "#    'nki_1m':stk_m['nki_1m'],\n",
        "#'ss_3m':stk_m['ss_3m'],\n",
        "#'hm_3m':stk_m['hm_3m'],\n",
        "#'ksp_3m':stk_m['ksp_3m'],\n",
        "#'nki_3m':stk_m['nki_3m'],\n",
        "#'ss_6m':stk_m['ss_6m'],\n",
        "#'hm_6m':stk_m['hm_6m'],\n",
        "#'ksp_6m':stk_m['ksp_6m'],\n",
        "#'nki_6m':stk_m['nki_6m'],\n",
        "#    'exr': stk['exr'],      # 수준 변수 사용 \n",
        "#    'koribor': stk['koribor'], # 수준 변수 사용 \n",
        "#    'cd': stk['cd'],          # 수준 변수 사용 \n",
        "#}).dropna()  \n",
        "#x0             "
      ],
      "execution_count": null,
      "outputs": []
    },
    {
      "cell_type": "code",
      "metadata": {
        "id": "Yc1DsK2wgRbb"
      },
      "source": [
        "# 해외주식의 경우, \n",
        "#xnolag=pd.DataFrame({\n",
        "#    'r_snp':rtn['r_snp'],\n",
        "#    'r_uxt':rtn['r_uxt'],\n",
        "#    'snp_1w':stk_m['snp_1w'],\n",
        "#    'uxt_1w':stk_m['uxt_1w'],\n",
        "#    'snp_2w':stk_m['snp_2w'],\n",
        "#    'uxt_2w':stk_m['uxt_2w'],\n",
        "#    'snp_1m':stk_m['snp_1m'],\n",
        "#    'uxt_1m':stk_m['uxt_1m'],\n",
        "#'snp_3m':stk_m['snp_3m'],\n",
        "#'uxt_3m':stk_m['uxt_3m'],\n",
        "#'snp_6m':stk_m['snp_6m'],\n",
        "#'uxt_6m':stk_m['uxt_6m'],    \n",
        "#    'vix': stk['vix']      # 수준 변수 사용 \n",
        "#}).dropna()  \n",
        "#xnolag  "
      ],
      "execution_count": null,
      "outputs": []
    },
    {
      "cell_type": "code",
      "metadata": {
        "id": "g4UdOROxAsY5"
      },
      "source": [
        "# x 설병면수이기 때문에, 하루 lag 시켜줌 \n",
        "#xlag=x0.shift(1)\n",
        "#xlag"
      ],
      "execution_count": null,
      "outputs": []
    },
    {
      "cell_type": "code",
      "metadata": {
        "id": "hlktEPbSgRbb"
      },
      "source": [
        ""
      ],
      "execution_count": null,
      "outputs": []
    },
    {
      "cell_type": "code",
      "metadata": {
        "id": "z4gctXKfgRbb"
      },
      "source": [
        "#stklag.rename(columns = {'exr' : 'exrlag'), inplace = True)\n",
        "#stklag.rename(columns = {'cd' : 'cdlag'), inplace = True)\n",
        "#stklag.rename(columns = {'koribor' : 'koriborlag'), inplace = True)\n",
        "\n",
        "fifx=pd.DataFrame({\n",
        "   'exr_lag':stklag['exr'],\n",
        "   'koribor_lag':stklag['koribor'],\n",
        "   'cd_lag':stklag['cd']\n",
        "}).dropna()      \n",
        "\n",
        "fifx "
      ],
      "execution_count": null,
      "outputs": []
    },
    {
      "cell_type": "code",
      "metadata": {
        "id": "OKZCtN60gRbb"
      },
      "source": [
        "fifx1=fifx.shift() \n",
        "fifx1.columns=['exr_2lag','koribor_2lag','cd_2lag']\n",
        "fifx1"
      ],
      "execution_count": null,
      "outputs": []
    },
    {
      "cell_type": "code",
      "metadata": {
        "id": "q9ZkF9hBgRbc"
      },
      "source": [
        "fifx2=fifx1.shift() \n",
        "fifx2.columns=['exr_3lag','koribor_3lag','cd_3lag']\n",
        "fifx2"
      ],
      "execution_count": null,
      "outputs": []
    },
    {
      "cell_type": "code",
      "metadata": {
        "id": "qr0bve9tgRbc"
      },
      "source": [
        ""
      ],
      "execution_count": null,
      "outputs": []
    },
    {
      "cell_type": "code",
      "metadata": {
        "id": "gMPM__7DgRbc"
      },
      "source": [
        "# feature를 모아주세요. \n",
        "\n",
        "#x = xlag.join(xnolag)\\\n",
        "A = stk_m.join(stk)\\\n",
        "    .join(rtn)\\\n",
        "    .join(fifx)\\\n",
        "    .join(fifx1)\\\n",
        "    .join(fifx2)\\\n",
        "    .dropna()\n",
        "A"
      ],
      "execution_count": null,
      "outputs": []
    },
    {
      "cell_type": "code",
      "metadata": {
        "id": "XP7fiEZAgRbc"
      },
      "source": [
        "# target 선택\n",
        "\n",
        "y = A['r_ss']\n",
        "y"
      ],
      "execution_count": null,
      "outputs": []
    },
    {
      "cell_type": "code",
      "metadata": {
        "id": "HcV4s7bNgRbc"
      },
      "source": [
        "# feature 선택: 일단 고려한 모든 변수들을 list 함\n",
        "\n",
        "x=A[['ss_1d', 'hm_1d', 'ksp_1d', \n",
        "       'r_snp', 'r_uxt', 'vix',   # 해외 변수의 경우, 시차를 고려하여 래그를 하지 않을 수도 있음 \n",
        "       'exr_lag', 'koribor_lag', 'cd_lag', # 수준변수 (lag): 환율, 금리 \n",
        "       'exr_2lag', 'koribor_2lag', 'cd_2lag', # 수준변수 (lag 2): 환율, 금리 \n",
        "       'exr_3lag', 'koribor_3lag', 'cd_3lag', # 수준변수 (lag 3): 환율, 금리 \n",
        "\n",
        "       'snp_1d', 'nki_1d', 'uxt_1d', 'vix_1d',\n",
        "       'exr_1d', 'koribor_1d', 'cd_1d', \n",
        "       'ss_2d', 'hm_2d', 'ksp_2d', \n",
        "       'snp_2d','nki_2d', 'uxt_2d', 'vix_2d', \n",
        "       'exr_2d', 'koribor_2d', 'cd_2d', \n",
        "       'ss_3d','hm_3d', 'ksp_3d', \n",
        "       'snp_3d', 'nki_3d', 'uxt_3d', 'vix_3d', \n",
        "       'exr_3d','koribor_3d', 'cd_3d', \n",
        "       'ss_4d', 'hm_4d', 'ksp_4d', \n",
        "       'snp_4d', 'nki_4d','uxt_4d','vix_4d', \n",
        "       'exr_4d', 'koribor_4d', 'cd_4d', \n",
        "       'ss_1w', 'hm_1w','ksp_1w', \n",
        "       'snp_1w', 'nki_1w', 'uxt_1w', 'vix_1w', \n",
        "       'exr_1w','koribor_1w', 'cd_1w', \n",
        "       'ss_2w', 'hm_2w', 'ksp_2w', \n",
        "       'snp_2w', 'nki_2w','uxt_2w', 'vix_2w', \n",
        "       'exr_2w', 'koribor_2w', 'cd_2w', \n",
        "       'ss_1m', 'hm_1m','ksp_1m', \n",
        "       'snp_1m', 'nki_1m', 'uxt_1m', 'vix_1m', \n",
        "       'exr_1m','koribor_1m', 'cd_1m', \n",
        "       'ss_3m', 'hm_3m', 'ksp_3m', \n",
        "       'snp_3m', 'nki_3m','uxt_3m', 'vix_3m', \n",
        "       'exr_3m', 'koribor_3m', 'cd_3m', \n",
        "       'ss_6m', 'hm_6m','ksp_6m', \n",
        "       'snp_6m', 'nki_6m', 'uxt_6m', 'vix_6m', \n",
        "       'exr_6m','koribor_6m', 'cd_6m', \n",
        "       'ss_12m', 'hm_12m', 'ksp_12m', \n",
        "       'snp_12m','nki_12m', 'uxt_12m', 'vix_12m', \n",
        "       'exr_12m', 'koribor_12m', 'cd_12m']]\n",
        "     \n",
        "x     "
      ],
      "execution_count": null,
      "outputs": []
    },
    {
      "cell_type": "markdown",
      "metadata": {
        "id": "1CunOeoRgRbc"
      },
      "source": [
        "### 기초총계 확인\n",
        "\n",
        "* #(features) 너무 많아 일정 변수만 선택해서 살펴보고자 함"
      ]
    },
    {
      "cell_type": "code",
      "metadata": {
        "id": "tuWYk5o6gRbc"
      },
      "source": [
        "x_select = A[['r_ss','ss_1d', 'hm_1d', 'ksp_1d', \n",
        "       'r_snp', 'r_uxt', 'vix',   # 해외 변수의 경우, 시차를 고려하여 래그를 하지 않을 수도 있음 \n",
        "       'exr_lag', 'koribor_lag', 'cd_lag', # 수준변수 (lag): 환율, 금리 \n",
        "       'exr_2lag', 'koribor_2lag', 'cd_2lag', # 수준변수 (lag 2): 환율, 금리 \n",
        "       'exr_3lag', 'koribor_3lag', 'cd_3lag'\n",
        "    \n",
        "]]\n",
        "              \n",
        "x_select"
      ],
      "execution_count": null,
      "outputs": []
    },
    {
      "cell_type": "code",
      "metadata": {
        "id": "5ksCK9uXgRbc"
      },
      "source": [
        ""
      ],
      "execution_count": null,
      "outputs": []
    },
    {
      "cell_type": "code",
      "metadata": {
        "id": "7ekmVLPYgRbc"
      },
      "source": [
        "df=x_select\n",
        "stats = df.describe()\n",
        "stats.loc['var'] = df.var().tolist()\n",
        "stats.loc['skew'] = df.skew().tolist()\n",
        "stats.loc['kurt'] = df.kurtosis().tolist()\n",
        "print(stats)"
      ],
      "execution_count": null,
      "outputs": []
    },
    {
      "cell_type": "code",
      "metadata": {
        "id": "FRuPX7FngRbc"
      },
      "source": [
        "import seaborn as sns\n",
        "import matplotlib.pyplot as plt\n",
        "\n",
        "sns.set(font_scale=2)\n",
        "plt.subplots(figsize=(20,15))\n",
        "sns.heatmap(x_select.corr(),annot=True,cmap=\"YlGnBu\",fmt=\".2f\")"
      ],
      "execution_count": null,
      "outputs": []
    },
    {
      "cell_type": "code",
      "metadata": {
        "id": "uXS6c2OKgRbd"
      },
      "source": [
        "sns.pairplot(x_select)"
      ],
      "execution_count": null,
      "outputs": []
    },
    {
      "cell_type": "markdown",
      "metadata": {
        "id": "3Ch1nKBVgRbd"
      },
      "source": [
        "### 상관관계에서 발견된 점 \n",
        "* 환율은 lag 값들과 상관관계가 여전히 높음\n",
        "* koribor, cd : 상관관계 너무 높음\n",
        "* target과 국내주식과의 상관관계는 낮음"
      ]
    },
    {
      "cell_type": "code",
      "metadata": {
        "id": "qU6ynCV0gRbd"
      },
      "source": [
        "x_select2 = A[['r_ss',  \n",
        "       'snp_1d', 'nki_1d', 'uxt_1d', 'vix_1d',\n",
        "       'ss_2d', 'hm_2d', 'ksp_2d', \n",
        "       'snp_2d','nki_2d', 'uxt_2d', 'vix_2d', \n",
        "       'ss_3d','hm_3d', 'ksp_3d', \n",
        "       'snp_3d', 'nki_3d', 'uxt_3d', 'vix_3d', \n",
        "       'ss_4d', 'hm_4d', 'ksp_4d', \n",
        "       'snp_4d', 'nki_4d','uxt_4d','vix_4d', \n",
        "       'ss_1w', 'hm_1w','ksp_1w', \n",
        "       'snp_1w', 'nki_1w', 'uxt_1w', 'vix_1w', \n",
        "       'exr_1w'\n",
        "    \n",
        "]]\n",
        "              \n",
        "x_select2"
      ],
      "execution_count": null,
      "outputs": []
    },
    {
      "cell_type": "code",
      "metadata": {
        "id": "nxwP7kEHgRbd"
      },
      "source": [
        "sns.set(font_scale=2)\n",
        "plt.subplots(figsize=(20,15))\n",
        "sns.heatmap(x_select2.corr(),annot=True,cmap=\"YlGnBu\",fmt=\".2f\",annot_kws={\"size\": 14})"
      ],
      "execution_count": null,
      "outputs": []
    },
    {
      "cell_type": "code",
      "metadata": {
        "id": "yGIITOGbgRbd"
      },
      "source": [
        "x_select2.corr()"
      ],
      "execution_count": null,
      "outputs": []
    },
    {
      "cell_type": "markdown",
      "metadata": {
        "id": "m_AopxSagRbd"
      },
      "source": [
        "### 상관관계를 통한 발견점 \n",
        "* target과 국내 주식의 모멘텀 변수는 상관관계 낮음\n",
        "* target과 해외 주식의 모멘텀 변수는 상관관계 높음"
      ]
    },
    {
      "cell_type": "code",
      "metadata": {
        "id": "MqArCb-9gRbd"
      },
      "source": [
        "x_select3 = A[['r_ss',  \n",
        "       'ss_1m', 'hm_1m','ksp_1m', \n",
        "       'snp_1m', 'nki_1m', 'uxt_1m', 'vix_1m', \n",
        "       'ss_3m', 'hm_3m', 'ksp_3m', \n",
        "       'snp_3m', 'nki_3m','uxt_3m', 'vix_3m', \n",
        "       'ss_6m', 'hm_6m','ksp_6m', \n",
        "       'snp_6m', 'nki_6m', 'uxt_6m', 'vix_6m' \n",
        "]]\n",
        "              \n",
        "x_select3"
      ],
      "execution_count": null,
      "outputs": []
    },
    {
      "cell_type": "code",
      "metadata": {
        "id": "IsDYHUwSgRbd"
      },
      "source": [
        "sns.set(font_scale=2)\n",
        "plt.subplots(figsize=(20,15))\n",
        "sns.heatmap(x_select3.corr(),annot=True,cmap=\"YlGnBu\",fmt=\".2f\",annot_kws={\"size\": 14})"
      ],
      "execution_count": null,
      "outputs": []
    },
    {
      "cell_type": "code",
      "metadata": {
        "id": "2EDjZoITgRbd"
      },
      "source": [
        "sns.pairplot(x_select3)"
      ],
      "execution_count": null,
      "outputs": []
    },
    {
      "cell_type": "markdown",
      "metadata": {
        "id": "WMXhLowbgRbd"
      },
      "source": [
        "### 상관관계에서 발견된 점 \n",
        "* target과 높은 상관관계를 보이는 feature가 없음"
      ]
    },
    {
      "cell_type": "markdown",
      "metadata": {
        "id": "_QxlSYIvgRbd"
      },
      "source": [
        "## feature seleciton 예시"
      ]
    },
    {
      "cell_type": "code",
      "metadata": {
        "id": "d_ADaz93gRbd"
      },
      "source": [
        "xy=A[['r_ss',\n",
        "       'ss_1d', 'hm_1d', 'ksp_1d', \n",
        "       'r_snp', 'r_uxt', 'vix',   # 해외 변수의 경우, 시차를 고려하여 래그를 하지 않을 수도 있음 \n",
        "       'exr_lag', 'koribor_lag', 'cd_lag', # 수준변수 (lag): 환율, 금리 \n",
        "       'snp_1d', 'nki_1d', 'uxt_1d', 'vix_1d',\n",
        "       'snp_2d','nki_2d', 'uxt_2d', 'vix_2d', \n",
        "       'snp_3d', 'nki_3d', 'uxt_3d', 'vix_3d', \n",
        "       'snp_4d', 'nki_4d','uxt_4d','vix_4d', \n",
        "       'snp_1w', 'nki_1w', 'uxt_1w', 'vix_1w', \n",
        "       'snp_2w', 'nki_2w','uxt_2w', 'vix_2w', \n",
        "       'snp_1m', 'nki_1m', 'uxt_1m', 'vix_1m', \n",
        "       'snp_3m', 'nki_3m','uxt_3m', 'vix_3m', \n",
        "       'snp_6m', 'nki_6m', 'uxt_6m', 'vix_6m', \n",
        "       'snp_12m','nki_12m', 'uxt_12m', 'vix_12m' \n",
        "    ]]\n",
        "     \n",
        "xy     "
      ],
      "execution_count": null,
      "outputs": []
    },
    {
      "cell_type": "code",
      "metadata": {
        "id": "038s5sQAgRbe"
      },
      "source": [
        "xy.corr()"
      ],
      "execution_count": null,
      "outputs": []
    },
    {
      "cell_type": "code",
      "metadata": {
        "id": "vmvlv93lgRbe"
      },
      "source": [
        "# 최종적인 target과 features 결정 \n",
        "y=xy['r_ss']\n",
        "x= xy.drop(['r_ss'] ,1)\n",
        "x"
      ],
      "execution_count": null,
      "outputs": []
    },
    {
      "cell_type": "code",
      "metadata": {
        "id": "UVDsCXC_gRbe"
      },
      "source": [
        "y.describe()"
      ],
      "execution_count": null,
      "outputs": []
    },
    {
      "cell_type": "code",
      "metadata": {
        "id": "MSPptUJHgRbe"
      },
      "source": [
        "# 이제 선형회귀식을 추정해보아요. \n",
        "import statsmodels.api as sm\n",
        "\n",
        "olsreg = sm.OLS(y, x)\n",
        "result =olsreg.fit()\n",
        "result.summary()"
      ],
      "execution_count": null,
      "outputs": []
    },
    {
      "cell_type": "markdown",
      "metadata": {
        "id": "E-wTSkrjgRbe"
      },
      "source": [
        "### feature selection\n",
        "* 선형회귀 결과를 기반으로 features 선택\n",
        "* 유의수준이 0.3 이하인 feature를 선택"
      ]
    },
    {
      "cell_type": "code",
      "metadata": {
        "id": "84ZBWfHxgRbe"
      },
      "source": [
        "x=A[[\n",
        "       'ss_1d','ss_2d','ss_3d','ss_4d','ss_1w','ss_2w', \n",
        "       'ksp_1d', \n",
        "       'r_snp', 'r_uxt', 'vix',   # 해외 변수의 경우, 시차를 고려하여 래그를 하지 않을 수도 있음 \n",
        "       'snp_1d', 'uxt_1d', \n",
        "       'nki_2d', \n",
        "       'snp_2w', 'vix_2w', \n",
        "       \n",
        "       'nki_4d', \n",
        "       'vix_1d', 'vix_4d', 'vix_6m', 'vix_12m'\n",
        "    \n",
        "    ]]\n",
        "     \n",
        "x"
      ],
      "execution_count": null,
      "outputs": []
    },
    {
      "cell_type": "code",
      "metadata": {
        "id": "3eFHJQL-gRbe"
      },
      "source": [
        ""
      ],
      "execution_count": null,
      "outputs": []
    },
    {
      "cell_type": "code",
      "metadata": {
        "id": "sRrH_cOUgRbe"
      },
      "source": [
        ""
      ],
      "execution_count": null,
      "outputs": []
    },
    {
      "cell_type": "markdown",
      "metadata": {
        "id": "U-l8p3De5PMZ"
      },
      "source": [
        "## Multi-asset linear regression"
      ]
    },
    {
      "cell_type": "code",
      "metadata": {
        "id": "XYPeuXwh5PMZ"
      },
      "source": [
        "# scikit-learn 패키지를 이용해서 선형회귀분석할때는 linear_model의 LinearRegression클래스를 사용해야함.\n",
        "from sklearn.linear_model import LinearRegression\n",
        "from datetime import datetime\n",
        "\n",
        "class LinearRegressionModel(object):\n",
        "    def __init__(self): #클래스에서 생성자\n",
        "        self.df_result = pd.DataFrame(columns=['Actual', 'Predicted'])\n",
        "\n",
        "    def get_model(self):\n",
        "        return LinearRegression(fit_intercept=False) \n",
        "        #LinearRegression 클래스 객체 생성\n",
        "        # fit_intercept는 모형에 상수항이 없으면 False로 설정\n",
        "\n",
        "    def learn(self, df, ys, start_date, end_date, lookback_period=20): # lookback_period : 추정에 사용하는 과거 데이터 수 \n",
        "        model = self.get_model() # 바로 위의 get_model(self)함수 호출, 클래스 객체를 생성한다.\n",
        "\n",
        "        for date in df[start_date:end_date].index:\n",
        "            # Fit the model\n",
        "            x = self.get_prices_since(df, date, lookback_period) \n",
        "            y = self.get_prices_since(ys, date, lookback_period)\n",
        "            model.fit(x, y.ravel()) #모델을 추정. 상수항 결합을 자동으로 해준다.\n",
        "\n",
        "            # Predict the current period\n",
        "            x_current = df.loc[date].values\n",
        "            [y_pred] = model.predict([x_current]) #모델로 값을 예측한다.\n",
        "\n",
        "            # Store predictions\n",
        "            new_index = pd.to_datetime(date, format='%Y-%m-%d')\n",
        "            y_actual = ys.loc[date]\n",
        "            self.df_result.loc[new_index] = [y_actual, y_pred] #예측한값과 실제값을 self.df_result에 저장\n",
        "\n",
        "    def get_prices_since(self, df, date_since, lookback):#데이터에서 날짜에 해당하는 값들만 추출하는 함수\n",
        "        index = df.index.get_loc(date_since)\n",
        "        return df.iloc[index-lookback:index]"
      ],
      "execution_count": null,
      "outputs": []
    },
    {
      "cell_type": "code",
      "metadata": {
        "id": "nHZJJSgJ5PMd"
      },
      "source": [
        "multi_linear_model = LinearRegressionModel() #LinearRegression 클래스 객체 생성\n",
        "multi_linear_model.learn(x, y, start_date='2015-01-01', end_date='2020-10-31', lookback_period=420) # 모델을 학습시킨다"
      ],
      "execution_count": null,
      "outputs": []
    },
    {
      "cell_type": "code",
      "metadata": {
        "id": "0PM5npGj5PMf"
      },
      "source": [
        "multi_linear_model.df_result.plot(\n",
        "    title='Actual versus Predicted percentage returns',\n",
        "    style=['-', '--'], figsize=(12,8));\n",
        "    #df_result으로 모델로 예측한값과 실제값이 얼마나 일치하는지 그래프로 그리기."
      ],
      "execution_count": null,
      "outputs": []
    },
    {
      "cell_type": "code",
      "metadata": {
        "id": "8Fj3RYKg5PMh"
      },
      "source": [
        "from sklearn.metrics import (\n",
        "    mean_absolute_error, mean_squared_error, \n",
        "    explained_variance_score, r2_score \n",
        "#    accuracy_score, precision_score, recall_score, f1_score \n",
        ")\n",
        "# 모델을 검증하는 과정\n",
        "def print_regression_metrics(df_result, result_df, name):\n",
        "    actual = list(df_result['Actual']) # 실제값\n",
        "    predicted = list(df_result['Predicted']) #예측값\n",
        "\n",
        "    print(name)\n",
        "    print('mean_absolute_error:', \n",
        "          mean_absolute_error(actual, predicted)) # MAE, 모델의 예측값과 실제값의 차이를 모두 더해서 평균낸것\n",
        "    print('mean_squared_error:', mean_squared_error(actual, predicted)) #MSE, 모델의 예측값과 실제값의 차이를 제곱해서 평균낸것\n",
        "    print('explained_variance_score:', \n",
        "        explained_variance_score(actual, predicted)) # 설명분산점수 Explained Variance Score\n",
        "    print('r2_score:', r2_score(actual, predicted)) # 결정계수 R2\n",
        "    \n",
        "    new_data = {'Model name': name, 'Mean absolute error': mean_absolute_error(actual, predicted), 'Mean squared error': mean_squared_error(actual, predicted), 'Explained variance score': explained_variance_score(actual, predicted), 'R2 score': r2_score(actual, predicted)}\n",
        "#    new_data = {'Model name': name, 'Mean absolute error': mean_absolute_error(actual, predicted), 'Mean squared error': mean_squared_error(actual, predicted), 'Explained variance score': explained_variance_score(actual, predicted), 'R2 score': r2_score(actual, predicted), 'Accuracy_score': accuracy_score(actual, predicted), 'Precision_score': precision_score(actual, predicted), 'recall_score': recall_score(actual, predicted),'f1_score': f1_score(actual, predicted)}\n",
        "    result_df = result_df.append(new_data, ignore_index=True)\n",
        "\n",
        "    return result_df\n",
        "\n",
        "\n",
        "result_df = pd.DataFrame(index=range(0,0), columns=['Model name', 'Mean absolute error', 'Mean squared error', 'Explained variance score', 'R2 score'])"
      ],
      "execution_count": null,
      "outputs": []
    },
    {
      "cell_type": "code",
      "metadata": {
        "id": "ZSguLT0W5PMk"
      },
      "source": [
        "print_regression_metrics(multi_linear_model.df_result, result_df, \"Linear regressor\")"
      ],
      "execution_count": null,
      "outputs": []
    },
    {
      "cell_type": "markdown",
      "metadata": {
        "id": "_mdMApke5PMm"
      },
      "source": [
        "## An ensemble of decision trees"
      ]
    },
    {
      "cell_type": "markdown",
      "metadata": {
        "id": "3RVqNi3E5PMn"
      },
      "source": [
        "### Bagging regressor"
      ]
    },
    {
      "cell_type": "code",
      "metadata": {
        "id": "586QniRt5PMn"
      },
      "source": [
        "# 앙상블 학습을 위해서 scikit-learn 패키지로부터 BaggingRegressor를 가져온다.\n",
        "from sklearn.ensemble import BaggingRegressor\n",
        "\n",
        "class BaggingRegressorModel(LinearRegressionModel):\n",
        "    def get_model(self):\n",
        "        return BaggingRegressor(n_estimators=20, random_state=0)  # n_estimators: 의사결정트리의 개수\n",
        "                                                                  # 랜덤한 데이터 분할을 위한 시드값"
      ],
      "execution_count": null,
      "outputs": []
    },
    {
      "cell_type": "code",
      "metadata": {
        "id": "PV0xzYbo5PMp"
      },
      "source": [
        "bagging = BaggingRegressorModel() # BaggingRegressorModel 객체 생성\n",
        "bagging.learn(x, y, start_date='2015-01-01',  # 모델을 학습시킨다\n",
        "              end_date='2020-10-31', lookback_period=420)"
      ],
      "execution_count": null,
      "outputs": []
    },
    {
      "cell_type": "code",
      "metadata": {
        "id": "4UUUhimg5PMs"
      },
      "source": [
        "result_df = print_regression_metrics(bagging.df_result, result_df, \"Bagging regressor\")"
      ],
      "execution_count": null,
      "outputs": []
    },
    {
      "cell_type": "markdown",
      "metadata": {
        "id": "M79ZpTmE5PM5"
      },
      "source": [
        "### Random forests regressor"
      ]
    },
    {
      "cell_type": "code",
      "metadata": {
        "id": "f9m0fmUk5PM6"
      },
      "source": [
        "#  scikit-learn 패키지로부터 RandomForestRegressor를 가져온다.\n",
        "from sklearn.ensemble import RandomForestRegressor\n",
        "class RandomForestRegressorModel(LinearRegressionModel):\n",
        "    def get_model(self):            \n",
        "        return RandomForestRegressor(n_estimators=20, random_state=0) # n_estimators: 의사결정트리의 개수\n",
        "                                                                      # 랜덤한 데이터 분할을 위한 시드값"
      ],
      "execution_count": null,
      "outputs": []
    },
    {
      "cell_type": "code",
      "metadata": {
        "id": "PY2_tv_55PM9"
      },
      "source": [
        "RandomForest = RandomForestRegressorModel() # GradientBoostingRegressorMode 객체 생성    \n",
        "RandomForest.learn(x, y, start_date='2015-01-01', # 모델을 학습시킨다                 \n",
        "    end_date='2020-10-31', lookback_period=420) "
      ],
      "execution_count": null,
      "outputs": []
    },
    {
      "cell_type": "code",
      "metadata": {
        "id": "QKjRwE515PNB",
        "scrolled": true
      },
      "source": [
        "result_df = print_regression_metrics(RandomForest.df_result, result_df, \"Random forests regressor\")"
      ],
      "execution_count": null,
      "outputs": []
    },
    {
      "cell_type": "markdown",
      "metadata": {
        "id": "e2Jp_aYsBGCt"
      },
      "source": [
        "### AdaBoost regressor"
      ]
    },
    {
      "cell_type": "code",
      "metadata": {
        "id": "Nn-i-1aHBFpY"
      },
      "source": [
        "# 앙상블 학습을 위해서 scikit-learn 패키지로부터 AdaBoostRegressor를 가져온다.\n",
        "from sklearn.ensemble import AdaBoostRegressor\n",
        "\n",
        "class AdaBoostRegressorModel(LinearRegressionModel):\n",
        "    def get_model(self):\n",
        "        return AdaBoostRegressor(n_estimators=20, random_state=0) # n_estimators: 의사결정트리의 개수\n",
        "                                                                  # 랜덤한 데이터 분할을 위한 시드값"
      ],
      "execution_count": null,
      "outputs": []
    },
    {
      "cell_type": "code",
      "metadata": {
        "id": "8gbdA8ymBu5J"
      },
      "source": [
        "adaBoost = AdaBoostRegressorModel() # AdaBoostRegressorModel 객체 생성\n",
        "adaBoost.learn(x, y, start_date='2015-01-01',  # 모델을 학습시킨다\n",
        "              end_date='2020-10-31', lookback_period=420)"
      ],
      "execution_count": null,
      "outputs": []
    },
    {
      "cell_type": "code",
      "metadata": {
        "id": "TcCz32X1BvoP"
      },
      "source": [
        "result_df = print_regression_metrics(adaBoost.df_result, result_df, \"AdaBoost regressor\")"
      ],
      "execution_count": null,
      "outputs": []
    },
    {
      "cell_type": "markdown",
      "metadata": {
        "id": "n5ucS7zt5PMu"
      },
      "source": [
        "### Gradient boosting regressor"
      ]
    },
    {
      "cell_type": "code",
      "metadata": {
        "id": "FyJ7i-5s5PMv"
      },
      "source": [
        "#  scikit-learn 패키지로부터 GradientBoostingRegressor를 가져온다.\n",
        "from sklearn.ensemble import GradientBoostingRegressor\n",
        "class GradientBoostingRegressorModel(LinearRegressionModel):\n",
        "    def get_model(self):            \n",
        "        return GradientBoostingRegressor(n_estimators=20, random_state=0) # n_estimators: 의사결정트리의 개수\n",
        "                                                                          # 랜덤한 데이터 분할을 위한 시드값"
      ],
      "execution_count": null,
      "outputs": []
    },
    {
      "cell_type": "code",
      "metadata": {
        "id": "SeYRXznw5PMx"
      },
      "source": [
        "GradientBoosting = GradientBoostingRegressorModel() # GradientBoostingRegressorMode 객체 생성\n",
        "GradientBoosting.learn(x, y, start_date='2015-01-1',  # 모델을 학습시킨다                  \n",
        "    end_date='2020-10-31', lookback_period=420) "
      ],
      "execution_count": null,
      "outputs": []
    },
    {
      "cell_type": "code",
      "metadata": {
        "id": "qxob5sJZ5PM0"
      },
      "source": [
        "result_df = print_regression_metrics(GradientBoosting.df_result, result_df, \"Gradient boosting regressor\")"
      ],
      "execution_count": null,
      "outputs": []
    },
    {
      "cell_type": "markdown",
      "metadata": {
        "id": "F_nkqyVJIhJo"
      },
      "source": [
        "### 4가지 분류기(adaboost, agging, gradient boosting, random forest) 성능 비교"
      ]
    },
    {
      "cell_type": "code",
      "metadata": {
        "id": "oV3nvV3e5PNF"
      },
      "source": [
        "result_df.set_index('Model name', inplace=True)\n",
        "result_df"
      ],
      "execution_count": null,
      "outputs": []
    },
    {
      "cell_type": "code",
      "metadata": {
        "id": "4FrIEam-gRbh"
      },
      "source": [
        ""
      ],
      "execution_count": null,
      "outputs": []
    },
    {
      "cell_type": "code",
      "metadata": {
        "id": "APK7og8agRbi"
      },
      "source": [
        ""
      ],
      "execution_count": null,
      "outputs": []
    }
  ]
}